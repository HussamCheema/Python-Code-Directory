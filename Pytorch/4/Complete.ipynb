{
 "cells": [
  {
   "cell_type": "code",
   "execution_count": 0,
   "metadata": {
    "colab": {},
    "colab_type": "code",
    "id": "DFXoNMQvtxCq"
   },
   "outputs": [],
   "source": [
    "import torch\n",
    "import torchvision"
   ]
  },
  {
   "cell_type": "code",
   "execution_count": 0,
   "metadata": {
    "colab": {
     "base_uri": "https://localhost:8080/",
     "height": 34
    },
    "colab_type": "code",
    "id": "_8uSTPy6vGrY",
    "outputId": "7c3dec3b-8311-451c-e343-c0068d7c1c51"
   },
   "outputs": [
    {
     "name": "stdout",
     "output_type": "stream",
     "text": [
      "tensor([1, 2, 3])\n"
     ]
    }
   ],
   "source": [
    "# 1-D Tensor \n",
    "a = torch.tensor([1,2,3])\n",
    "print(a)"
   ]
  },
  {
   "cell_type": "code",
   "execution_count": 0,
   "metadata": {
    "colab": {
     "base_uri": "https://localhost:8080/",
     "height": 68
    },
    "colab_type": "code",
    "id": "gfCemEoCvYbV",
    "outputId": "a3cea157-79d6-4dfc-d7f5-ff943a9d0aff"
   },
   "outputs": [
    {
     "name": "stdout",
     "output_type": "stream",
     "text": [
      "tensor([[1, 2, 3, 9],\n",
      "        [4, 5, 6, 9],\n",
      "        [7, 8, 9, 9]])\n"
     ]
    }
   ],
   "source": [
    "# 2-D Tensor \n",
    "b = torch.tensor([[1,2,3,9],[4,5,6,9],[7,8,9,9]])\n",
    "print(b)"
   ]
  },
  {
   "cell_type": "code",
   "execution_count": 0,
   "metadata": {
    "colab": {
     "base_uri": "https://localhost:8080/",
     "height": 85
    },
    "colab_type": "code",
    "id": "5nqXrIL4veKh",
    "outputId": "4f3e6fb4-d19b-4af4-b6d1-a859491b1c8f"
   },
   "outputs": [
    {
     "name": "stdout",
     "output_type": "stream",
     "text": [
      "torch.Size([3])\n",
      "torch.Size([3, 4])\n",
      "torch.Size([3])\n",
      "torch.Size([3, 4])\n"
     ]
    }
   ],
   "source": [
    "# shape is an attribute and size is a function\n",
    "print(a.shape)\n",
    "print(b.shape)\n",
    "print(a.size())\n",
    "print(b.size())"
   ]
  },
  {
   "cell_type": "code",
   "execution_count": 0,
   "metadata": {
    "colab": {
     "base_uri": "https://localhost:8080/",
     "height": 34
    },
    "colab_type": "code",
    "id": "_p-YRXOlv7pO",
    "outputId": "6b240955-3559-497d-a683-d6bb944064d6"
   },
   "outputs": [
    {
     "name": "stdout",
     "output_type": "stream",
     "text": [
      "3\n"
     ]
    }
   ],
   "source": [
    "# gives rows of b\n",
    "print(b.shape[0])"
   ]
  },
  {
   "cell_type": "code",
   "execution_count": 0,
   "metadata": {
    "colab": {
     "base_uri": "https://localhost:8080/",
     "height": 34
    },
    "colab_type": "code",
    "id": "rjUn7dsnwIWm",
    "outputId": "6796400f-1bd8-446f-9d46-c5dd831f0132"
   },
   "outputs": [
    {
     "name": "stdout",
     "output_type": "stream",
     "text": [
      "4\n"
     ]
    }
   ],
   "source": [
    "# gives cols of b\n",
    "print(b.shape[1])"
   ]
  },
  {
   "cell_type": "code",
   "execution_count": 0,
   "metadata": {
    "colab": {
     "base_uri": "https://localhost:8080/",
     "height": 34
    },
    "colab_type": "code",
    "id": "ITSeQwupwOzc",
    "outputId": "8cefc2f6-8f0a-4ed0-bac6-2abcbc06e0e4"
   },
   "outputs": [
    {
     "name": "stdout",
     "output_type": "stream",
     "text": [
      "tensor([1., 2., 3.])\n"
     ]
    }
   ],
   "source": [
    "c = torch.FloatTensor([1,2,3])\n",
    "print(c)"
   ]
  },
  {
   "cell_type": "code",
   "execution_count": 0,
   "metadata": {
    "colab": {
     "base_uri": "https://localhost:8080/",
     "height": 34
    },
    "colab_type": "code",
    "id": "Pi99ozOBwgn_",
    "outputId": "54e058e4-6d50-4d1f-daed-bf712658b10c"
   },
   "outputs": [
    {
     "name": "stdout",
     "output_type": "stream",
     "text": [
      "tensor([4., 5., 6.], dtype=torch.float64)\n"
     ]
    }
   ],
   "source": [
    "c = torch.DoubleTensor([4,5,6])\n",
    "print(c)"
   ]
  },
  {
   "cell_type": "code",
   "execution_count": 0,
   "metadata": {
    "colab": {
     "base_uri": "https://localhost:8080/",
     "height": 34
    },
    "colab_type": "code",
    "id": "kPme67L2wkoZ",
    "outputId": "c2b432d5-5b95-444c-b7a8-a026dfa8c11d"
   },
   "outputs": [
    {
     "name": "stdout",
     "output_type": "stream",
     "text": [
      "tensor([11., 12., 13., 14.], dtype=torch.float64)\n"
     ]
    }
   ],
   "source": [
    "c = torch.tensor([11,12,13,14], dtype=torch.float64) # torch.double etc...\n",
    "print(c) "
   ]
  },
  {
   "cell_type": "code",
   "execution_count": 0,
   "metadata": {
    "colab": {
     "base_uri": "https://localhost:8080/",
     "height": 34
    },
    "colab_type": "code",
    "id": "ii5hpGaqwuAg",
    "outputId": "1b1c4ce6-ab1b-4e50-bd72-89e3fb56bd68"
   },
   "outputs": [
    {
     "name": "stdout",
     "output_type": "stream",
     "text": [
      "torch.float64\n"
     ]
    }
   ],
   "source": [
    "print(c.dtype)"
   ]
  },
  {
   "cell_type": "code",
   "execution_count": 0,
   "metadata": {
    "colab": {
     "base_uri": "https://localhost:8080/",
     "height": 34
    },
    "colab_type": "code",
    "id": "mg-Z-JI7w1jV",
    "outputId": "bdbbb457-3f42-4710-be83-d2abfd3212c9"
   },
   "outputs": [
    {
     "name": "stdout",
     "output_type": "stream",
     "text": [
      "tensor(12.5000, dtype=torch.float64)\n"
     ]
    }
   ],
   "source": [
    "print(c.mean())"
   ]
  },
  {
   "cell_type": "code",
   "execution_count": 0,
   "metadata": {
    "colab": {
     "base_uri": "https://localhost:8080/",
     "height": 34
    },
    "colab_type": "code",
    "id": "vSORYk99w9Ey",
    "outputId": "944d68c2-1031-42d0-c845-23def5444204"
   },
   "outputs": [
    {
     "name": "stdout",
     "output_type": "stream",
     "text": [
      "tensor(1.2910, dtype=torch.float64)\n"
     ]
    }
   ],
   "source": [
    "print(c.std())"
   ]
  },
  {
   "cell_type": "code",
   "execution_count": 0,
   "metadata": {
    "colab": {
     "base_uri": "https://localhost:8080/",
     "height": 68
    },
    "colab_type": "code",
    "id": "GJbId_7ixBWY",
    "outputId": "3b0826a0-00e7-4408-8cee-560593196d93"
   },
   "outputs": [
    {
     "name": "stdout",
     "output_type": "stream",
     "text": [
      "tensor([[1, 2, 3, 9],\n",
      "        [4, 5, 6, 9],\n",
      "        [7, 8, 9, 9]])\n"
     ]
    }
   ],
   "source": [
    "print(b)"
   ]
  },
  {
   "cell_type": "code",
   "execution_count": 0,
   "metadata": {
    "colab": {
     "base_uri": "https://localhost:8080/",
     "height": 85
    },
    "colab_type": "code",
    "id": "7W1FeOU21MCU",
    "outputId": "25559829-a05e-4de0-a8a1-8e67c0bab666"
   },
   "outputs": [
    {
     "data": {
      "text/plain": [
       "tensor([[1, 2, 3],\n",
       "        [9, 4, 5],\n",
       "        [6, 9, 7],\n",
       "        [8, 9, 9]])"
      ]
     },
     "execution_count": 14,
     "metadata": {
      "tags": []
     },
     "output_type": "execute_result"
    }
   ],
   "source": [
    "## view is a reshape function. -1 means that this function will infer number of elements of that dimension.\n",
    "b.view(4,-1)"
   ]
  },
  {
   "cell_type": "code",
   "execution_count": 0,
   "metadata": {
    "colab": {
     "base_uri": "https://localhost:8080/",
     "height": 34
    },
    "colab_type": "code",
    "id": "BiaXDRjl1SBO",
    "outputId": "4a4bf46e-6a90-4c28-e1f1-4fd0f5f694ac"
   },
   "outputs": [
    {
     "data": {
      "text/plain": [
       "tensor([1, 2, 3, 9, 4, 5, 6, 9, 7, 8, 9, 9])"
      ]
     },
     "execution_count": 15,
     "metadata": {
      "tags": []
     },
     "output_type": "execute_result"
    }
   ],
   "source": [
    "# converting into 1-D array\n",
    "b.view(12)"
   ]
  },
  {
   "cell_type": "code",
   "execution_count": 0,
   "metadata": {
    "colab": {
     "base_uri": "https://localhost:8080/",
     "height": 34
    },
    "colab_type": "code",
    "id": "EFsoRiw03lPZ",
    "outputId": "ff4c050e-ff42-47f6-f870-c081733d29d3"
   },
   "outputs": [
    {
     "data": {
      "text/plain": [
       "tensor([[1, 2, 3, 9, 4, 5, 6, 9, 7, 8, 9, 9]])"
      ]
     },
     "execution_count": 16,
     "metadata": {
      "tags": []
     },
     "output_type": "execute_result"
    }
   ],
   "source": [
    "b.view(1,-1) # one row, 12 cols"
   ]
  },
  {
   "cell_type": "code",
   "execution_count": 0,
   "metadata": {
    "colab": {},
    "colab_type": "code",
    "id": "KrUtxkIi34C2"
   },
   "outputs": [],
   "source": [
    "# 3-D Tensors (Channels, Rows, Columns)\n",
    "three_dim = torch.randn(2,3,4) # normally distributed random numbers"
   ]
  },
  {
   "cell_type": "code",
   "execution_count": 0,
   "metadata": {
    "colab": {
     "base_uri": "https://localhost:8080/",
     "height": 136
    },
    "colab_type": "code",
    "id": "lMJ9bPP04Mp4",
    "outputId": "94970275-483e-4cd6-e643-2d3c2ffbc1cd"
   },
   "outputs": [
    {
     "data": {
      "text/plain": [
       "tensor([[[ 0.6907, -0.7588,  0.8542,  0.7780],\n",
       "         [ 0.0597, -0.0205, -0.3878,  1.4182],\n",
       "         [ 0.3086,  1.5226,  0.4214,  1.0445]],\n",
       "\n",
       "        [[ 0.4110,  0.3413,  0.5403,  0.4733],\n",
       "         [-0.9129,  0.2723, -0.5485,  0.6110],\n",
       "         [ 1.9017, -0.1903,  0.1411, -0.7231]]])"
      ]
     },
     "execution_count": 18,
     "metadata": {
      "tags": []
     },
     "output_type": "execute_result"
    }
   ],
   "source": [
    "three_dim"
   ]
  },
  {
   "cell_type": "code",
   "execution_count": 0,
   "metadata": {
    "colab": {
     "base_uri": "https://localhost:8080/",
     "height": 105
    },
    "colab_type": "code",
    "id": "VC320QGN4Ot9",
    "outputId": "3e9cdc5d-16e0-476a-dde8-69265362ed3b"
   },
   "outputs": [
    {
     "data": {
      "text/plain": [
       "tensor([[ 0.6907, -0.7588,  0.8542,  0.7780,  0.0597, -0.0205, -0.3878,  1.4182,\n",
       "          0.3086,  1.5226,  0.4214,  1.0445],\n",
       "        [ 0.4110,  0.3413,  0.5403,  0.4733, -0.9129,  0.2723, -0.5485,  0.6110,\n",
       "          1.9017, -0.1903,  0.1411, -0.7231]])"
      ]
     },
     "execution_count": 19,
     "metadata": {
      "tags": []
     },
     "output_type": "execute_result"
    }
   ],
   "source": [
    "three_dim.view(2,-1) # 2 rows and rest of the elements in cols"
   ]
  },
  {
   "cell_type": "code",
   "execution_count": 0,
   "metadata": {
    "colab": {
     "base_uri": "https://localhost:8080/",
     "height": 85
    },
    "colab_type": "code",
    "id": "f1mN-Vcp4cl4",
    "outputId": "1d900623-40f3-436d-c9ea-d3e02752cf9f"
   },
   "outputs": [
    {
     "name": "stdout",
     "output_type": "stream",
     "text": [
      "tensor([[0.4566, 0.1953, 0.3729, 0.2253],\n",
      "        [0.4062, 0.0737, 0.0322, 0.2043],\n",
      "        [0.8346, 0.8099, 0.9606, 0.7899],\n",
      "        [0.0140, 0.0123, 0.8935, 0.3223]])\n"
     ]
    }
   ],
   "source": [
    "r2 = torch.rand(4,4)\n",
    "print(r2)"
   ]
  },
  {
   "cell_type": "code",
   "execution_count": 0,
   "metadata": {
    "colab": {
     "base_uri": "https://localhost:8080/",
     "height": 51
    },
    "colab_type": "code",
    "id": "LovU6yMB4xYU",
    "outputId": "e715b16b-95f0-40f9-d298-d632ecf43da4"
   },
   "outputs": [
    {
     "name": "stdout",
     "output_type": "stream",
     "text": [
      "tensor([7, 8, 7, 8, 6])\n",
      "torch.int64\n"
     ]
    }
   ],
   "source": [
    "# Create an array of 5 random integers from values b/w 6 and 9 (exclusive of 10)\n",
    "in_array = torch.randint(6,10,(5,))\n",
    "print(in_array)\n",
    "print(in_array.dtype)"
   ]
  },
  {
   "cell_type": "code",
   "execution_count": 0,
   "metadata": {
    "colab": {
     "base_uri": "https://localhost:8080/",
     "height": 68
    },
    "colab_type": "code",
    "id": "kqqc7ub81Lgr",
    "outputId": "ec4f43ce-db87-4087-b94d-e1288490d018"
   },
   "outputs": [
    {
     "name": "stdout",
     "output_type": "stream",
     "text": [
      "tensor([[6, 9, 9],\n",
      "        [8, 7, 8],\n",
      "        [6, 9, 8]])\n"
     ]
    }
   ],
   "source": [
    "# Create a 2-D Matrix of 5 random integers from values b/w 6 and 9 (exclusive of 10)\n",
    "in_array2 = torch.randint(6,10,(3,3))\n",
    "print(in_array2)"
   ]
  },
  {
   "cell_type": "code",
   "execution_count": 0,
   "metadata": {
    "colab": {
     "base_uri": "https://localhost:8080/",
     "height": 51
    },
    "colab_type": "code",
    "id": "gKiyQcjS1pT0",
    "outputId": "fce2952e-7855-41b4-a3cf-3d4fef3106a2"
   },
   "outputs": [
    {
     "name": "stdout",
     "output_type": "stream",
     "text": [
      "5\n",
      "9\n"
     ]
    }
   ],
   "source": [
    "# Get the number of elemets\n",
    "print(torch.numel(in_array))\n",
    "print(torch.numel(in_array2))"
   ]
  },
  {
   "cell_type": "code",
   "execution_count": 0,
   "metadata": {
    "colab": {
     "base_uri": "https://localhost:8080/",
     "height": 51
    },
    "colab_type": "code",
    "id": "oDplV-Oh12hI",
    "outputId": "4d192f90-f403-4cd8-b865-faee85c05188"
   },
   "outputs": [
    {
     "name": "stdout",
     "output_type": "stream",
     "text": [
      "torch.Size([5])\n",
      "torch.Size([3, 3])\n"
     ]
    }
   ],
   "source": [
    "print(in_array.size())\n",
    "print(in_array2.size())"
   ]
  },
  {
   "cell_type": "code",
   "execution_count": 0,
   "metadata": {
    "colab": {
     "base_uri": "https://localhost:8080/",
     "height": 51
    },
    "colab_type": "code",
    "id": "Hh4LBdWA1-Yi",
    "outputId": "5ee7ec53-4eaa-4a68-d420-7cc4207be096"
   },
   "outputs": [
    {
     "name": "stdout",
     "output_type": "stream",
     "text": [
      "torch.Size([5])\n",
      "torch.Size([3, 3])\n"
     ]
    }
   ],
   "source": [
    "print(in_array.shape)\n",
    "print(in_array2.shape)"
   ]
  },
  {
   "cell_type": "code",
   "execution_count": 0,
   "metadata": {
    "colab": {
     "base_uri": "https://localhost:8080/",
     "height": 119
    },
    "colab_type": "code",
    "id": "RTheoZ4c2VNC",
    "outputId": "76bc374e-8462-4b5b-fc62-22b533f97110"
   },
   "outputs": [
    {
     "name": "stdout",
     "output_type": "stream",
     "text": [
      "tensor([[0., 0., 0.],\n",
      "        [0., 0., 0.],\n",
      "        [0., 0., 0.]])\n",
      "tensor([[1., 1., 1.],\n",
      "        [1., 1., 1.],\n",
      "        [1., 1., 1.]])\n"
     ]
    }
   ],
   "source": [
    "z = torch.zeros(3,3)\n",
    "print(z)\n",
    "o = torch.ones(3,3)\n",
    "print(o)"
   ]
  },
  {
   "cell_type": "code",
   "execution_count": 0,
   "metadata": {
    "colab": {
     "base_uri": "https://localhost:8080/",
     "height": 68
    },
    "colab_type": "code",
    "id": "_KpnnRZa2-iH",
    "outputId": "f4eca5b2-66fb-477e-b722-155b7a3c44dc"
   },
   "outputs": [
    {
     "name": "stdout",
     "output_type": "stream",
     "text": [
      "tensor([[1., 0., 0.],\n",
      "        [0., 1., 0.],\n",
      "        [0., 0., 1.]])\n"
     ]
    }
   ],
   "source": [
    "i = torch.eye(3,3)\n",
    "print(i)"
   ]
  },
  {
   "cell_type": "code",
   "execution_count": 0,
   "metadata": {
    "colab": {
     "base_uri": "https://localhost:8080/",
     "height": 85
    },
    "colab_type": "code",
    "id": "GmwUHJ6l3FXs",
    "outputId": "575419cb-1f31-4728-fd2b-762283a203db"
   },
   "outputs": [
    {
     "name": "stdout",
     "output_type": "stream",
     "text": [
      "tensor([[-1.5362,  0.2929, -1.2548,  2.1962],\n",
      "        [-0.2565, -1.0607,  2.1759,  1.0816],\n",
      "        [-0.3651, -1.4252, -2.1648, -0.4579],\n",
      "        [ 0.7705, -0.6142, -1.5969, -2.2058]], dtype=torch.float64)\n"
     ]
    }
   ],
   "source": [
    "# generate random numbers exactly of the same size of r2.\n",
    "r2_like = torch.randn_like(r2, dtype=torch.double)\n",
    "print(r2_like)"
   ]
  },
  {
   "cell_type": "code",
   "execution_count": 0,
   "metadata": {
    "colab": {
     "base_uri": "https://localhost:8080/",
     "height": 85
    },
    "colab_type": "code",
    "id": "DMozQb1i3ZTP",
    "outputId": "6cd8f651-f918-4eef-8bd3-0ca3f08eaa6c"
   },
   "outputs": [
    {
     "name": "stdout",
     "output_type": "stream",
     "text": [
      "tensor([[-1.0796,  0.4883, -0.8820,  2.4215],\n",
      "        [ 0.1498, -0.9870,  2.2081,  1.2858],\n",
      "        [ 0.4695, -0.6153, -1.2042,  0.3320],\n",
      "        [ 0.7845, -0.6018, -0.7034, -1.8834]], dtype=torch.float64)\n"
     ]
    }
   ],
   "source": [
    "# Add two tensors, make sure they are the same size and data type\n",
    "add_result = torch.add(r2, r2_like)\n",
    "print(add_result)"
   ]
  },
  {
   "cell_type": "code",
   "execution_count": 0,
   "metadata": {
    "colab": {
     "base_uri": "https://localhost:8080/",
     "height": 85
    },
    "colab_type": "code",
    "id": "eAz7TE-F3w7x",
    "outputId": "0e4e5d9f-deed-49c2-9dd8-e78033a18828"
   },
   "outputs": [
    {
     "name": "stdout",
     "output_type": "stream",
     "text": [
      "tensor([[-1.0796,  0.4883, -0.8820,  2.4215],\n",
      "        [ 0.1498, -0.9870,  2.2081,  1.2858],\n",
      "        [ 0.4695, -0.6153, -1.2042,  0.3320],\n",
      "        [ 0.7845, -0.6018, -0.7034, -1.8834]])\n"
     ]
    }
   ],
   "source": [
    "# In-Place addition (change the value of r2)\n",
    "r2.add_(r2_like)\n",
    "print(r2) # Reassign to r2"
   ]
  },
  {
   "cell_type": "code",
   "execution_count": 0,
   "metadata": {
    "colab": {
     "base_uri": "https://localhost:8080/",
     "height": 204
    },
    "colab_type": "code",
    "id": "1chC2FOp39Lz",
    "outputId": "d53aa310-07a8-4e52-b7e4-127787a1c1e0"
   },
   "outputs": [
    {
     "name": "stdout",
     "output_type": "stream",
     "text": [
      "tensor([ 0.4883, -0.9870, -0.6153, -0.6018])\n",
      "tensor([[-1.0796,  0.4883],\n",
      "        [ 0.1498, -0.9870],\n",
      "        [ 0.4695, -0.6153],\n",
      "        [ 0.7845, -0.6018]])\n",
      "tensor([[-1.0796,  0.4883, -0.8820,  2.4215],\n",
      "        [ 0.1498, -0.9870,  2.2081,  1.2858],\n",
      "        [ 0.4695, -0.6153, -1.2042,  0.3320]])\n",
      "tensor(0.3320)\n",
      "0.3319852650165558\n",
      "tensor([ 0.4695, -0.6153, -1.2042,  0.3320])\n"
     ]
    }
   ],
   "source": [
    "# Indexing\n",
    "print(r2[:,1]) # print all the rows and 1st column\n",
    "print(r2[:,:2]) # print all the rows and first 2 columns (exclusive of 2)\n",
    "print(r2[:3,:]) # print first 3 rows and all the columns\n",
    "num = r2[2,3] # gete a single number at this location\n",
    "print(num)\n",
    "print(num.item()) # Getting value from tensor\n",
    "print(r2[2,:]) # print 3rd row and all the columns "
   ]
  },
  {
   "cell_type": "code",
   "execution_count": 3,
   "metadata": {
    "colab": {
     "base_uri": "https://localhost:8080/",
     "height": 102
    },
    "colab_type": "code",
    "id": "JwB9T8Nd4ToJ",
    "outputId": "3b166168-11d5-442b-c17d-79e482ea0e9d"
   },
   "outputs": [
    {
     "data": {
      "text/plain": [
       "tensor([[[ 1,  2,  3],\n",
       "         [ 4,  5,  6]],\n",
       "\n",
       "        [[11, 12, 13],\n",
       "         [14, 15, 16]]])"
      ]
     },
     "execution_count": 3,
     "metadata": {
      "tags": []
     },
     "output_type": "execute_result"
    }
   ],
   "source": [
    "# Sum across 2nd dimension\n",
    "a = torch.tensor([[[1,2,3],[4,5,6]],[[11,12,13],[14,15,16]]])\n",
    "a"
   ]
  },
  {
   "cell_type": "code",
   "execution_count": 4,
   "metadata": {
    "colab": {
     "base_uri": "https://localhost:8080/",
     "height": 51
    },
    "colab_type": "code",
    "id": "VvIxVTDr4bIc",
    "outputId": "9f7485e8-a0db-4fda-e399-ec5b98697eab"
   },
   "outputs": [
    {
     "data": {
      "text/plain": [
       "tensor([[ 6, 15],\n",
       "        [36, 45]])"
      ]
     },
     "execution_count": 4,
     "metadata": {
      "tags": []
     },
     "output_type": "execute_result"
    }
   ],
   "source": [
    "torch.sum(a, dim=2)"
   ]
  },
  {
   "cell_type": "code",
   "execution_count": 0,
   "metadata": {
    "colab": {},
    "colab_type": "code",
    "id": "s3pffBIa4m63"
   },
   "outputs": [],
   "source": []
  }
 ],
 "metadata": {
  "accelerator": "GPU",
  "colab": {
   "collapsed_sections": [],
   "name": "Pytoch.ipynb",
   "provenance": []
  },
  "kernelspec": {
   "display_name": "Python 3",
   "language": "python",
   "name": "python3"
  },
  "language_info": {
   "codemirror_mode": {
    "name": "ipython",
    "version": 3
   },
   "file_extension": ".py",
   "mimetype": "text/x-python",
   "name": "python",
   "nbconvert_exporter": "python",
   "pygments_lexer": "ipython3",
   "version": "3.6.1"
  }
 },
 "nbformat": 4,
 "nbformat_minor": 1
}
