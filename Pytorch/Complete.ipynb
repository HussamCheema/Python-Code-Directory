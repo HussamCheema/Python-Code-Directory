{
  "nbformat": 4,
  "nbformat_minor": 0,
  "metadata": {
    "colab": {
      "name": "Pytoch.ipynb",
      "provenance": [],
      "collapsed_sections": []
    },
    "kernelspec": {
      "name": "python3",
      "display_name": "Python 3"
    },
    "accelerator": "GPU"
  },
  "cells": [
    {
      "cell_type": "code",
      "metadata": {
        "id": "DFXoNMQvtxCq",
        "colab_type": "code",
        "colab": {}
      },
      "source": [
        "import torch\n",
        "import torchvision"
      ],
      "execution_count": 0,
      "outputs": []
    },
    {
      "cell_type": "code",
      "metadata": {
        "id": "_8uSTPy6vGrY",
        "colab_type": "code",
        "outputId": "7c3dec3b-8311-451c-e343-c0068d7c1c51",
        "colab": {
          "base_uri": "https://localhost:8080/",
          "height": 34
        }
      },
      "source": [
        "# 1-D Tensor \n",
        "a = torch.tensor([1,2,3])\n",
        "print(a)"
      ],
      "execution_count": 2,
      "outputs": [
        {
          "output_type": "stream",
          "text": [
            "tensor([1, 2, 3])\n"
          ],
          "name": "stdout"
        }
      ]
    },
    {
      "cell_type": "code",
      "metadata": {
        "id": "gfCemEoCvYbV",
        "colab_type": "code",
        "outputId": "a3cea157-79d6-4dfc-d7f5-ff943a9d0aff",
        "colab": {
          "base_uri": "https://localhost:8080/",
          "height": 68
        }
      },
      "source": [
        "# 2-D Tensor \n",
        "b = torch.tensor([[1,2,3,9],[4,5,6,9],[7,8,9,9]])\n",
        "print(b)"
      ],
      "execution_count": 3,
      "outputs": [
        {
          "output_type": "stream",
          "text": [
            "tensor([[1, 2, 3, 9],\n",
            "        [4, 5, 6, 9],\n",
            "        [7, 8, 9, 9]])\n"
          ],
          "name": "stdout"
        }
      ]
    },
    {
      "cell_type": "code",
      "metadata": {
        "id": "5nqXrIL4veKh",
        "colab_type": "code",
        "outputId": "4f3e6fb4-d19b-4af4-b6d1-a859491b1c8f",
        "colab": {
          "base_uri": "https://localhost:8080/",
          "height": 85
        }
      },
      "source": [
        "# shape is an attribute and shape is a function\n",
        "print(a.shape)\n",
        "print(b.shape)\n",
        "print(a.size())\n",
        "print(b.size())"
      ],
      "execution_count": 4,
      "outputs": [
        {
          "output_type": "stream",
          "text": [
            "torch.Size([3])\n",
            "torch.Size([3, 4])\n",
            "torch.Size([3])\n",
            "torch.Size([3, 4])\n"
          ],
          "name": "stdout"
        }
      ]
    },
    {
      "cell_type": "code",
      "metadata": {
        "id": "_p-YRXOlv7pO",
        "colab_type": "code",
        "outputId": "6b240955-3559-497d-a683-d6bb944064d6",
        "colab": {
          "base_uri": "https://localhost:8080/",
          "height": 34
        }
      },
      "source": [
        "# gives rows of b\n",
        "print(b.shape[0])"
      ],
      "execution_count": 5,
      "outputs": [
        {
          "output_type": "stream",
          "text": [
            "3\n"
          ],
          "name": "stdout"
        }
      ]
    },
    {
      "cell_type": "code",
      "metadata": {
        "id": "rjUn7dsnwIWm",
        "colab_type": "code",
        "outputId": "6796400f-1bd8-446f-9d46-c5dd831f0132",
        "colab": {
          "base_uri": "https://localhost:8080/",
          "height": 34
        }
      },
      "source": [
        "# gives cols of b\n",
        "print(b.shape[1])"
      ],
      "execution_count": 6,
      "outputs": [
        {
          "output_type": "stream",
          "text": [
            "4\n"
          ],
          "name": "stdout"
        }
      ]
    },
    {
      "cell_type": "code",
      "metadata": {
        "id": "ITSeQwupwOzc",
        "colab_type": "code",
        "outputId": "8cefc2f6-8f0a-4ed0-bac6-2abcbc06e0e4",
        "colab": {
          "base_uri": "https://localhost:8080/",
          "height": 34
        }
      },
      "source": [
        "c = torch.FloatTensor([1,2,3])\n",
        "print(c)"
      ],
      "execution_count": 7,
      "outputs": [
        {
          "output_type": "stream",
          "text": [
            "tensor([1., 2., 3.])\n"
          ],
          "name": "stdout"
        }
      ]
    },
    {
      "cell_type": "code",
      "metadata": {
        "id": "Pi99ozOBwgn_",
        "colab_type": "code",
        "outputId": "54e058e4-6d50-4d1f-daed-bf712658b10c",
        "colab": {
          "base_uri": "https://localhost:8080/",
          "height": 34
        }
      },
      "source": [
        "c = torch.DoubleTensor([4,5,6])\n",
        "print(c)"
      ],
      "execution_count": 8,
      "outputs": [
        {
          "output_type": "stream",
          "text": [
            "tensor([4., 5., 6.], dtype=torch.float64)\n"
          ],
          "name": "stdout"
        }
      ]
    },
    {
      "cell_type": "code",
      "metadata": {
        "id": "kPme67L2wkoZ",
        "colab_type": "code",
        "outputId": "c2b432d5-5b95-444c-b7a8-a026dfa8c11d",
        "colab": {
          "base_uri": "https://localhost:8080/",
          "height": 34
        }
      },
      "source": [
        "c = torch.tensor([11,12,13,14], dtype=torch.float64) # torch.double etc...\n",
        "print(c) "
      ],
      "execution_count": 9,
      "outputs": [
        {
          "output_type": "stream",
          "text": [
            "tensor([11., 12., 13., 14.], dtype=torch.float64)\n"
          ],
          "name": "stdout"
        }
      ]
    },
    {
      "cell_type": "code",
      "metadata": {
        "id": "ii5hpGaqwuAg",
        "colab_type": "code",
        "outputId": "1b1c4ce6-ab1b-4e50-bd72-89e3fb56bd68",
        "colab": {
          "base_uri": "https://localhost:8080/",
          "height": 34
        }
      },
      "source": [
        "print(c.dtype)"
      ],
      "execution_count": 10,
      "outputs": [
        {
          "output_type": "stream",
          "text": [
            "torch.float64\n"
          ],
          "name": "stdout"
        }
      ]
    },
    {
      "cell_type": "code",
      "metadata": {
        "id": "mg-Z-JI7w1jV",
        "colab_type": "code",
        "outputId": "bdbbb457-3f42-4710-be83-d2abfd3212c9",
        "colab": {
          "base_uri": "https://localhost:8080/",
          "height": 34
        }
      },
      "source": [
        "print(c.mean())"
      ],
      "execution_count": 11,
      "outputs": [
        {
          "output_type": "stream",
          "text": [
            "tensor(12.5000, dtype=torch.float64)\n"
          ],
          "name": "stdout"
        }
      ]
    },
    {
      "cell_type": "code",
      "metadata": {
        "id": "vSORYk99w9Ey",
        "colab_type": "code",
        "outputId": "944d68c2-1031-42d0-c845-23def5444204",
        "colab": {
          "base_uri": "https://localhost:8080/",
          "height": 34
        }
      },
      "source": [
        "print(c.std())"
      ],
      "execution_count": 12,
      "outputs": [
        {
          "output_type": "stream",
          "text": [
            "tensor(1.2910, dtype=torch.float64)\n"
          ],
          "name": "stdout"
        }
      ]
    },
    {
      "cell_type": "code",
      "metadata": {
        "id": "GJbId_7ixBWY",
        "colab_type": "code",
        "outputId": "3b0826a0-00e7-4408-8cee-560593196d93",
        "colab": {
          "base_uri": "https://localhost:8080/",
          "height": 68
        }
      },
      "source": [
        "print(b)"
      ],
      "execution_count": 13,
      "outputs": [
        {
          "output_type": "stream",
          "text": [
            "tensor([[1, 2, 3, 9],\n",
            "        [4, 5, 6, 9],\n",
            "        [7, 8, 9, 9]])\n"
          ],
          "name": "stdout"
        }
      ]
    },
    {
      "cell_type": "code",
      "metadata": {
        "id": "7W1FeOU21MCU",
        "colab_type": "code",
        "outputId": "25559829-a05e-4de0-a8a1-8e67c0bab666",
        "colab": {
          "base_uri": "https://localhost:8080/",
          "height": 85
        }
      },
      "source": [
        "## view is a reshape function. -1 means that this function will infer number of elements of that dimension.\n",
        "b.view(4,-1)"
      ],
      "execution_count": 14,
      "outputs": [
        {
          "output_type": "execute_result",
          "data": {
            "text/plain": [
              "tensor([[1, 2, 3],\n",
              "        [9, 4, 5],\n",
              "        [6, 9, 7],\n",
              "        [8, 9, 9]])"
            ]
          },
          "metadata": {
            "tags": []
          },
          "execution_count": 14
        }
      ]
    },
    {
      "cell_type": "code",
      "metadata": {
        "id": "BiaXDRjl1SBO",
        "colab_type": "code",
        "outputId": "4a4bf46e-6a90-4c28-e1f1-4fd0f5f694ac",
        "colab": {
          "base_uri": "https://localhost:8080/",
          "height": 34
        }
      },
      "source": [
        "# converting into 1-D array\n",
        "b.view(12)"
      ],
      "execution_count": 15,
      "outputs": [
        {
          "output_type": "execute_result",
          "data": {
            "text/plain": [
              "tensor([1, 2, 3, 9, 4, 5, 6, 9, 7, 8, 9, 9])"
            ]
          },
          "metadata": {
            "tags": []
          },
          "execution_count": 15
        }
      ]
    },
    {
      "cell_type": "code",
      "metadata": {
        "id": "EFsoRiw03lPZ",
        "colab_type": "code",
        "outputId": "ff4c050e-ff42-47f6-f870-c081733d29d3",
        "colab": {
          "base_uri": "https://localhost:8080/",
          "height": 34
        }
      },
      "source": [
        "b.view(1,-1) # one row, 12 cols"
      ],
      "execution_count": 16,
      "outputs": [
        {
          "output_type": "execute_result",
          "data": {
            "text/plain": [
              "tensor([[1, 2, 3, 9, 4, 5, 6, 9, 7, 8, 9, 9]])"
            ]
          },
          "metadata": {
            "tags": []
          },
          "execution_count": 16
        }
      ]
    },
    {
      "cell_type": "code",
      "metadata": {
        "id": "KrUtxkIi34C2",
        "colab_type": "code",
        "colab": {}
      },
      "source": [
        "# 3-D Tensors (Channels, Rows, Columns)\n",
        "three_dim = torch.randn(2,3,4) # normally distributed random numbers"
      ],
      "execution_count": 0,
      "outputs": []
    },
    {
      "cell_type": "code",
      "metadata": {
        "id": "lMJ9bPP04Mp4",
        "colab_type": "code",
        "outputId": "94970275-483e-4cd6-e643-2d3c2ffbc1cd",
        "colab": {
          "base_uri": "https://localhost:8080/",
          "height": 136
        }
      },
      "source": [
        "three_dim"
      ],
      "execution_count": 18,
      "outputs": [
        {
          "output_type": "execute_result",
          "data": {
            "text/plain": [
              "tensor([[[ 0.6907, -0.7588,  0.8542,  0.7780],\n",
              "         [ 0.0597, -0.0205, -0.3878,  1.4182],\n",
              "         [ 0.3086,  1.5226,  0.4214,  1.0445]],\n",
              "\n",
              "        [[ 0.4110,  0.3413,  0.5403,  0.4733],\n",
              "         [-0.9129,  0.2723, -0.5485,  0.6110],\n",
              "         [ 1.9017, -0.1903,  0.1411, -0.7231]]])"
            ]
          },
          "metadata": {
            "tags": []
          },
          "execution_count": 18
        }
      ]
    },
    {
      "cell_type": "code",
      "metadata": {
        "id": "VC320QGN4Ot9",
        "colab_type": "code",
        "outputId": "3e9cdc5d-16e0-476a-dde8-69265362ed3b",
        "colab": {
          "base_uri": "https://localhost:8080/",
          "height": 105
        }
      },
      "source": [
        "three_dim.view(2,-1) # 2 rows and rest of the elements in cols"
      ],
      "execution_count": 19,
      "outputs": [
        {
          "output_type": "execute_result",
          "data": {
            "text/plain": [
              "tensor([[ 0.6907, -0.7588,  0.8542,  0.7780,  0.0597, -0.0205, -0.3878,  1.4182,\n",
              "          0.3086,  1.5226,  0.4214,  1.0445],\n",
              "        [ 0.4110,  0.3413,  0.5403,  0.4733, -0.9129,  0.2723, -0.5485,  0.6110,\n",
              "          1.9017, -0.1903,  0.1411, -0.7231]])"
            ]
          },
          "metadata": {
            "tags": []
          },
          "execution_count": 19
        }
      ]
    },
    {
      "cell_type": "code",
      "metadata": {
        "id": "f1mN-Vcp4cl4",
        "colab_type": "code",
        "outputId": "1d900623-40f3-436d-c9ea-d3e02752cf9f",
        "colab": {
          "base_uri": "https://localhost:8080/",
          "height": 85
        }
      },
      "source": [
        "r2 = torch.rand(4,4)\n",
        "print(r2)"
      ],
      "execution_count": 37,
      "outputs": [
        {
          "output_type": "stream",
          "text": [
            "tensor([[0.4566, 0.1953, 0.3729, 0.2253],\n",
            "        [0.4062, 0.0737, 0.0322, 0.2043],\n",
            "        [0.8346, 0.8099, 0.9606, 0.7899],\n",
            "        [0.0140, 0.0123, 0.8935, 0.3223]])\n"
          ],
          "name": "stdout"
        }
      ]
    },
    {
      "cell_type": "code",
      "metadata": {
        "id": "LovU6yMB4xYU",
        "colab_type": "code",
        "colab": {
          "base_uri": "https://localhost:8080/",
          "height": 51
        },
        "outputId": "e715b16b-95f0-40f9-d298-d632ecf43da4"
      },
      "source": [
        "# Create an array of 5 random integers from values b/w 6 and 9 (exclusive of 10)\n",
        "in_array = torch.randint(6,10,(5,))\n",
        "print(in_array)\n",
        "print(in_array.dtype)"
      ],
      "execution_count": 23,
      "outputs": [
        {
          "output_type": "stream",
          "text": [
            "tensor([7, 8, 7, 8, 6])\n",
            "torch.int64\n"
          ],
          "name": "stdout"
        }
      ]
    },
    {
      "cell_type": "code",
      "metadata": {
        "id": "kqqc7ub81Lgr",
        "colab_type": "code",
        "colab": {
          "base_uri": "https://localhost:8080/",
          "height": 68
        },
        "outputId": "ec4f43ce-db87-4087-b94d-e1288490d018"
      },
      "source": [
        "# Create a 2-D Matrix of 5 random integers from values b/w 6 and 9 (exclusive of 10)\n",
        "in_array2 = torch.randint(6,10,(3,3))\n",
        "print(in_array2)"
      ],
      "execution_count": 24,
      "outputs": [
        {
          "output_type": "stream",
          "text": [
            "tensor([[6, 9, 9],\n",
            "        [8, 7, 8],\n",
            "        [6, 9, 8]])\n"
          ],
          "name": "stdout"
        }
      ]
    },
    {
      "cell_type": "code",
      "metadata": {
        "id": "gKiyQcjS1pT0",
        "colab_type": "code",
        "colab": {
          "base_uri": "https://localhost:8080/",
          "height": 51
        },
        "outputId": "fce2952e-7855-41b4-a3cf-3d4fef3106a2"
      },
      "source": [
        "# Get the number of elemets\n",
        "print(torch.numel(in_array))\n",
        "print(torch.numel(in_array2))"
      ],
      "execution_count": 25,
      "outputs": [
        {
          "output_type": "stream",
          "text": [
            "5\n",
            "9\n"
          ],
          "name": "stdout"
        }
      ]
    },
    {
      "cell_type": "code",
      "metadata": {
        "id": "oDplV-Oh12hI",
        "colab_type": "code",
        "colab": {
          "base_uri": "https://localhost:8080/",
          "height": 51
        },
        "outputId": "4d192f90-f403-4cd8-b865-faee85c05188"
      },
      "source": [
        "print(in_array.size())\n",
        "print(in_array2.size())"
      ],
      "execution_count": 29,
      "outputs": [
        {
          "output_type": "stream",
          "text": [
            "torch.Size([5])\n",
            "torch.Size([3, 3])\n"
          ],
          "name": "stdout"
        }
      ]
    },
    {
      "cell_type": "code",
      "metadata": {
        "id": "Hh4LBdWA1-Yi",
        "colab_type": "code",
        "colab": {
          "base_uri": "https://localhost:8080/",
          "height": 51
        },
        "outputId": "5ee7ec53-4eaa-4a68-d420-7cc4207be096"
      },
      "source": [
        "print(in_array.shape)\n",
        "print(in_array2.shape)"
      ],
      "execution_count": 32,
      "outputs": [
        {
          "output_type": "stream",
          "text": [
            "torch.Size([5])\n",
            "torch.Size([3, 3])\n"
          ],
          "name": "stdout"
        }
      ]
    },
    {
      "cell_type": "code",
      "metadata": {
        "id": "RTheoZ4c2VNC",
        "colab_type": "code",
        "colab": {
          "base_uri": "https://localhost:8080/",
          "height": 119
        },
        "outputId": "76bc374e-8462-4b5b-fc62-22b533f97110"
      },
      "source": [
        "z = torch.zeros(3,3)\n",
        "print(z)\n",
        "o = torch.ones(3,3)\n",
        "print(o)"
      ],
      "execution_count": 33,
      "outputs": [
        {
          "output_type": "stream",
          "text": [
            "tensor([[0., 0., 0.],\n",
            "        [0., 0., 0.],\n",
            "        [0., 0., 0.]])\n",
            "tensor([[1., 1., 1.],\n",
            "        [1., 1., 1.],\n",
            "        [1., 1., 1.]])\n"
          ],
          "name": "stdout"
        }
      ]
    },
    {
      "cell_type": "code",
      "metadata": {
        "id": "_KpnnRZa2-iH",
        "colab_type": "code",
        "colab": {
          "base_uri": "https://localhost:8080/",
          "height": 68
        },
        "outputId": "f4eca5b2-66fb-477e-b722-155b7a3c44dc"
      },
      "source": [
        "i = torch.eye(3,3)\n",
        "print(i)"
      ],
      "execution_count": 34,
      "outputs": [
        {
          "output_type": "stream",
          "text": [
            "tensor([[1., 0., 0.],\n",
            "        [0., 1., 0.],\n",
            "        [0., 0., 1.]])\n"
          ],
          "name": "stdout"
        }
      ]
    },
    {
      "cell_type": "code",
      "metadata": {
        "id": "GmwUHJ6l3FXs",
        "colab_type": "code",
        "colab": {
          "base_uri": "https://localhost:8080/",
          "height": 85
        },
        "outputId": "575419cb-1f31-4728-fd2b-762283a203db"
      },
      "source": [
        "# generate random numbers exactly of the same size of r2.\n",
        "r2_like = torch.randn_like(r2, dtype=torch.double)\n",
        "print(r2_like)"
      ],
      "execution_count": 38,
      "outputs": [
        {
          "output_type": "stream",
          "text": [
            "tensor([[-1.5362,  0.2929, -1.2548,  2.1962],\n",
            "        [-0.2565, -1.0607,  2.1759,  1.0816],\n",
            "        [-0.3651, -1.4252, -2.1648, -0.4579],\n",
            "        [ 0.7705, -0.6142, -1.5969, -2.2058]], dtype=torch.float64)\n"
          ],
          "name": "stdout"
        }
      ]
    },
    {
      "cell_type": "code",
      "metadata": {
        "id": "DMozQb1i3ZTP",
        "colab_type": "code",
        "colab": {
          "base_uri": "https://localhost:8080/",
          "height": 85
        },
        "outputId": "6cd8f651-f918-4eef-8bd3-0ca3f08eaa6c"
      },
      "source": [
        "# Add two tensors, make sure they are the same size and data type\n",
        "add_result = torch.add(r2, r2_like)\n",
        "print(add_result)"
      ],
      "execution_count": 39,
      "outputs": [
        {
          "output_type": "stream",
          "text": [
            "tensor([[-1.0796,  0.4883, -0.8820,  2.4215],\n",
            "        [ 0.1498, -0.9870,  2.2081,  1.2858],\n",
            "        [ 0.4695, -0.6153, -1.2042,  0.3320],\n",
            "        [ 0.7845, -0.6018, -0.7034, -1.8834]], dtype=torch.float64)\n"
          ],
          "name": "stdout"
        }
      ]
    },
    {
      "cell_type": "code",
      "metadata": {
        "id": "eAz7TE-F3w7x",
        "colab_type": "code",
        "colab": {
          "base_uri": "https://localhost:8080/",
          "height": 85
        },
        "outputId": "0e4e5d9f-deed-49c2-9dd8-e78033a18828"
      },
      "source": [
        "# In-Place addition (change the value of r2)\n",
        "r2.add_(r2_like)\n",
        "print(r2) # Reassign to r2"
      ],
      "execution_count": 41,
      "outputs": [
        {
          "output_type": "stream",
          "text": [
            "tensor([[-1.0796,  0.4883, -0.8820,  2.4215],\n",
            "        [ 0.1498, -0.9870,  2.2081,  1.2858],\n",
            "        [ 0.4695, -0.6153, -1.2042,  0.3320],\n",
            "        [ 0.7845, -0.6018, -0.7034, -1.8834]])\n"
          ],
          "name": "stdout"
        }
      ]
    },
    {
      "cell_type": "code",
      "metadata": {
        "id": "1chC2FOp39Lz",
        "colab_type": "code",
        "colab": {
          "base_uri": "https://localhost:8080/",
          "height": 204
        },
        "outputId": "d53aa310-07a8-4e52-b7e4-127787a1c1e0"
      },
      "source": [
        "# Indexing\n",
        "print(r2[:,1]) # print all the rows and 1st column\n",
        "print(r2[:,:2]) # print all the rows and first 2 columns (exclusive of 2)\n",
        "print(r2[:3,:]) # print first 3 rows and all the columns\n",
        "num = r2[2,3] # gete a single number at this location\n",
        "print(num)\n",
        "print(num.item()) # Getting value from tensor\n",
        "print(r2[2,:]) # print 3rd row and all the columns "
      ],
      "execution_count": 47,
      "outputs": [
        {
          "output_type": "stream",
          "text": [
            "tensor([ 0.4883, -0.9870, -0.6153, -0.6018])\n",
            "tensor([[-1.0796,  0.4883],\n",
            "        [ 0.1498, -0.9870],\n",
            "        [ 0.4695, -0.6153],\n",
            "        [ 0.7845, -0.6018]])\n",
            "tensor([[-1.0796,  0.4883, -0.8820,  2.4215],\n",
            "        [ 0.1498, -0.9870,  2.2081,  1.2858],\n",
            "        [ 0.4695, -0.6153, -1.2042,  0.3320]])\n",
            "tensor(0.3320)\n",
            "0.3319852650165558\n",
            "tensor([ 0.4695, -0.6153, -1.2042,  0.3320])\n"
          ],
          "name": "stdout"
        }
      ]
    },
    {
      "cell_type": "code",
      "metadata": {
        "id": "JwB9T8Nd4ToJ",
        "colab_type": "code",
        "colab": {}
      },
      "source": [
        ""
      ],
      "execution_count": 0,
      "outputs": []
    }
  ]
}