{
  "nbformat": 4,
  "nbformat_minor": 0,
  "metadata": {
    "colab": {
      "name": "Module 2 - AUTOGRAD: AUTOMATIC DIFFERENTIATION.ipynb",
      "provenance": [],
      "collapsed_sections": []
    },
    "kernelspec": {
      "name": "python3",
      "display_name": "Python 3"
    },
    "accelerator": "GPU"
  },
  "cells": [
    {
      "cell_type": "markdown",
      "metadata": {
        "id": "ZBMLXOrLmna6",
        "colab_type": "text"
      },
      "source": [
        "torch.Tensor is the central class of the package. If you set its attribute .requires_grad as True, it starts to track all operations on it. When you finish your computation you can call .backward() and have all the gradients computed automatically. The gradient for this tensor will be accumulated into .grad attribute.\n",
        "\n",
        "To stop a tensor from tracking history, you can call .detach() to detach it from the computation history, and to prevent future computation from being tracked.\n",
        "\n",
        "To prevent tracking history (and using memory), you can also wrap the code block in with torch.no_grad():. This can be particularly helpful when evaluating a model because the model may have trainable parameters with requires_grad=True, but for which we don’t need the gradients.\n",
        "\n",
        "There’s one more class which is very important for autograd implementation - a Function.\n",
        "\n",
        "Tensor and Function are interconnected and build up an acyclic graph, that encodes a complete history of computation. Each tensor has a .grad_fn attribute that references a Function that has created the Tensor (except for Tensors created by the user - their grad_fn is None).\n",
        "\n",
        "If you want to compute the derivatives, you can call .backward() on a Tensor. If Tensor is a scalar (i.e. it holds a one element data), you don’t need to specify any arguments to backward(), however if it has more elements, you need to specify a gradient argument that is a tensor of matching shape."
      ]
    },
    {
      "cell_type": "code",
      "metadata": {
        "id": "TZru5xNthAOB",
        "colab_type": "code",
        "colab": {}
      },
      "source": [
        "import torch"
      ],
      "execution_count": 0,
      "outputs": []
    },
    {
      "cell_type": "code",
      "metadata": {
        "id": "nOMBFUN7mrrK",
        "colab_type": "code",
        "colab": {
          "base_uri": "https://localhost:8080/",
          "height": 51
        },
        "outputId": "cf0d4708-6bb1-452a-ad20-c067c64191c3"
      },
      "source": [
        "# Create a tensor and set requires_grad=True to track computation with it\n",
        "x = torch.ones(2, 2, requires_grad=True)\n",
        "print(x)"
      ],
      "execution_count": 2,
      "outputs": [
        {
          "output_type": "stream",
          "text": [
            "tensor([[1., 1.],\n",
            "        [1., 1.]], requires_grad=True)\n"
          ],
          "name": "stdout"
        }
      ]
    },
    {
      "cell_type": "code",
      "metadata": {
        "id": "BLLJ8pxPmzGw",
        "colab_type": "code",
        "colab": {
          "base_uri": "https://localhost:8080/",
          "height": 51
        },
        "outputId": "fe6ac5d2-a159-4bd8-bae5-f5f0d12c9430"
      },
      "source": [
        "# Doing a tensor operation\n",
        "y = x + 2\n",
        "print(y)"
      ],
      "execution_count": 3,
      "outputs": [
        {
          "output_type": "stream",
          "text": [
            "tensor([[3., 3.],\n",
            "        [3., 3.]], grad_fn=<AddBackward0>)\n"
          ],
          "name": "stdout"
        }
      ]
    },
    {
      "cell_type": "markdown",
      "metadata": {
        "id": "yLryg9l5pOvr",
        "colab_type": "text"
      },
      "source": [
        "y was created as a result of an operation, so it has a grad_fn."
      ]
    },
    {
      "cell_type": "code",
      "metadata": {
        "id": "X6dX6hafm4Dv",
        "colab_type": "code",
        "colab": {
          "base_uri": "https://localhost:8080/",
          "height": 34
        },
        "outputId": "61da75b0-cb33-4eca-f487-6a71cf2b4642"
      },
      "source": [
        "print(y.grad_fn)"
      ],
      "execution_count": 4,
      "outputs": [
        {
          "output_type": "stream",
          "text": [
            "<AddBackward0 object at 0x7f14ec16e780>\n"
          ],
          "name": "stdout"
        }
      ]
    },
    {
      "cell_type": "code",
      "metadata": {
        "id": "XLmX4AIApSLd",
        "colab_type": "code",
        "colab": {
          "base_uri": "https://localhost:8080/",
          "height": 51
        },
        "outputId": "74dc9001-0f12-449d-b94e-bb14047c2d73"
      },
      "source": [
        "z = y * y * 3\n",
        "out = z.mean()\n",
        "\n",
        "print(z, out)"
      ],
      "execution_count": 13,
      "outputs": [
        {
          "output_type": "stream",
          "text": [
            "tensor([[27., 27.],\n",
            "        [27., 27.]], grad_fn=<MulBackward0>) tensor(27., grad_fn=<MeanBackward0>)\n"
          ],
          "name": "stdout"
        }
      ]
    },
    {
      "cell_type": "markdown",
      "metadata": {
        "id": "bKxABhxDpi1u",
        "colab_type": "text"
      },
      "source": [
        ".requires_grad_( ... ) changes an existing Tensor’s requires_grad flag in-place. The input flag defaults to False if not given."
      ]
    },
    {
      "cell_type": "code",
      "metadata": {
        "id": "UwN4-QsQpZcB",
        "colab_type": "code",
        "colab": {
          "base_uri": "https://localhost:8080/",
          "height": 68
        },
        "outputId": "57d1eb14-b2bc-4cc8-f868-90c8d730e421"
      },
      "source": [
        "a = torch.randn(2, 2)\n",
        "a = ((a * 3) / (a - 1))\n",
        "print(a.requires_grad)\n",
        "a.requires_grad_(True)\n",
        "print(a.requires_grad)\n",
        "b = (a * a).sum()\n",
        "print(b.grad_fn)"
      ],
      "execution_count": 6,
      "outputs": [
        {
          "output_type": "stream",
          "text": [
            "False\n",
            "True\n",
            "<SumBackward0 object at 0x7f14ec18f438>\n"
          ],
          "name": "stdout"
        }
      ]
    },
    {
      "cell_type": "markdown",
      "metadata": {
        "id": "LSA8zj1Hps5W",
        "colab_type": "text"
      },
      "source": [
        "# Gradients\n",
        "Let’s backprop now. Because out contains a single scalar, out.backward() is equivalent to out.backward(torch.tensor(1.))."
      ]
    },
    {
      "cell_type": "code",
      "metadata": {
        "id": "rfYlQwcupp5m",
        "colab_type": "code",
        "colab": {}
      },
      "source": [
        "out.backward() "
      ],
      "execution_count": 0,
      "outputs": []
    },
    {
      "cell_type": "markdown",
      "metadata": {
        "id": "nQ4vDOfCqlow",
        "colab_type": "text"
      },
      "source": [
        "Print gradients d(out)/dx"
      ]
    },
    {
      "cell_type": "code",
      "metadata": {
        "id": "EfjVSfuEp_V2",
        "colab_type": "code",
        "colab": {
          "base_uri": "https://localhost:8080/",
          "height": 51
        },
        "outputId": "f53152dd-1f4f-49d9-986c-d0909b155ba9"
      },
      "source": [
        "print(x.grad) # x's requires_grad is already True. See above code"
      ],
      "execution_count": 16,
      "outputs": [
        {
          "output_type": "stream",
          "text": [
            "tensor([[13.5000, 13.5000],\n",
            "        [13.5000, 13.5000]])\n"
          ],
          "name": "stdout"
        }
      ]
    },
    {
      "cell_type": "markdown",
      "metadata": {
        "id": "AWl3CdAarYmq",
        "colab_type": "text"
      },
      "source": [
        "![image.png](data:image/png;base64,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)"
      ]
    },
    {
      "cell_type": "markdown",
      "metadata": {
        "id": "Uxx-UR_grpQt",
        "colab_type": "text"
      },
      "source": [
        "This characteristic of vector-Jacobian product makes it very convenient to feed external gradients into a model that has non-scalar output.\n",
        "\n",
        "Now let’s take a look at an example of vector-Jacobian product:"
      ]
    },
    {
      "cell_type": "code",
      "metadata": {
        "id": "pghVzE34qJgR",
        "colab_type": "code",
        "colab": {
          "base_uri": "https://localhost:8080/",
          "height": 34
        },
        "outputId": "efd3b137-4f07-4537-86bd-3534ecfb04ab"
      },
      "source": [
        "x = torch.randn(3, requires_grad=True)\n",
        "\n",
        "y = x * 2\n",
        "while y.data.norm() < 1000: # norm() is Euclidean Norm\n",
        "    y = y * 2\n",
        "\n",
        "print(y)"
      ],
      "execution_count": 21,
      "outputs": [
        {
          "output_type": "stream",
          "text": [
            "tensor([-1051.1312,  1567.8872,   264.8730], grad_fn=<MulBackward0>)\n"
          ],
          "name": "stdout"
        }
      ]
    },
    {
      "cell_type": "markdown",
      "metadata": {
        "id": "jlMLSpQ-sfrd",
        "colab_type": "text"
      },
      "source": [
        "Now in this case y is no longer a scalar. torch.autograd could not compute the full Jacobian directly, but if we just want the vector-Jacobian product, simply pass the vector to backward as argument:"
      ]
    },
    {
      "cell_type": "code",
      "metadata": {
        "id": "mS5huopAr1d4",
        "colab_type": "code",
        "colab": {
          "base_uri": "https://localhost:8080/",
          "height": 34
        },
        "outputId": "147bfc1c-9185-4fdb-9821-2e7185cc1da2"
      },
      "source": [
        "v = torch.tensor([0.1, 1.0, 0.0001], dtype=torch.float)\n",
        "y.backward(v)\n",
        "\n",
        "print(x.grad)"
      ],
      "execution_count": 22,
      "outputs": [
        {
          "output_type": "stream",
          "text": [
            "tensor([1.0240e+02, 1.0240e+03, 1.0240e-01])\n"
          ],
          "name": "stdout"
        }
      ]
    },
    {
      "cell_type": "markdown",
      "metadata": {
        "id": "DWLxvVMcstbb",
        "colab_type": "text"
      },
      "source": [
        "You can also stop autograd from tracking history on Tensors with .requires_grad=True either by wrapping the code block in with torch.no_grad():"
      ]
    },
    {
      "cell_type": "code",
      "metadata": {
        "id": "pvjLR6B7siUz",
        "colab_type": "code",
        "colab": {
          "base_uri": "https://localhost:8080/",
          "height": 68
        },
        "outputId": "b5bc8784-250c-4418-dcbf-bb6fe9dd3a31"
      },
      "source": [
        "print(x.requires_grad)\n",
        "print((x ** 2).requires_grad)\n",
        "\n",
        "with torch.no_grad():\n",
        "    print((x ** 2).requires_grad)"
      ],
      "execution_count": 23,
      "outputs": [
        {
          "output_type": "stream",
          "text": [
            "True\n",
            "True\n",
            "False\n"
          ],
          "name": "stdout"
        }
      ]
    },
    {
      "cell_type": "markdown",
      "metadata": {
        "id": "E_JKMXiitAH2",
        "colab_type": "text"
      },
      "source": [
        "Or by using .detach() to get a new Tensor with the same content but that does not require gradients:"
      ]
    },
    {
      "cell_type": "code",
      "metadata": {
        "id": "OevfWKG6swn6",
        "colab_type": "code",
        "colab": {
          "base_uri": "https://localhost:8080/",
          "height": 68
        },
        "outputId": "9d5941eb-2eac-47f9-c5ad-c505f55e9a4c"
      },
      "source": [
        "print(x.requires_grad)\n",
        "y = x.detach()\n",
        "print(y.requires_grad)\n",
        "print(x.eq(y).all())"
      ],
      "execution_count": 26,
      "outputs": [
        {
          "output_type": "stream",
          "text": [
            "True\n",
            "False\n",
            "tensor(True)\n"
          ],
          "name": "stdout"
        }
      ]
    },
    {
      "cell_type": "code",
      "metadata": {
        "id": "KEkp0WXvtCFC",
        "colab_type": "code",
        "colab": {}
      },
      "source": [
        ""
      ],
      "execution_count": 0,
      "outputs": []
    }
  ]
}