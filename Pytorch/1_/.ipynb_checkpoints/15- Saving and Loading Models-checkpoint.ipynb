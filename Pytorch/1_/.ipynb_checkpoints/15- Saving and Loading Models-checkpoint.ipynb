{
 "cells": [
  {
   "cell_type": "code",
   "execution_count": 23,
   "id": "exceptional-possession",
   "metadata": {},
   "outputs": [
    {
     "data": {
      "text/plain": [
       "' 2 DIFFERENT WAYS OF SAVING\\n# 1) lazy way: save whole model\\n    torch.save(model, PATH)\\n    \\n# model class must be defined somewhere\\n    model = torch.load(PATH)\\n    model.eval()\\n    \\n# 2) recommended way: save only the state_dict\\n    torch.save(model.state_dict(), PATH)\\n    \\n# model must be created again with parameters\\n    model = Model(*args, **kwargs)\\n    model.load_state_dict(torch.load(PATH))\\n    model.eval()\\n'"
      ]
     },
     "execution_count": 23,
     "metadata": {},
     "output_type": "execute_result"
    }
   ],
   "source": [
    "''' 3 DIFFERENT METHODS TO REMEMBER:\n",
    " - torch.save(arg, PATH) # can be model, tensor, or dictionary\n",
    " - torch.load(PATH)\n",
    " - torch.load_state_dict(arg)\n",
    "'''\n",
    "\n",
    "''' 2 DIFFERENT WAYS OF SAVING\n",
    "# 1) lazy way: save whole model\n",
    "    torch.save(model, PATH)\n",
    "    \n",
    "# model class must be defined somewhere\n",
    "    model = torch.load(PATH)\n",
    "    model.eval()\n",
    "    \n",
    "# 2) recommended way: save only the state_dict\n",
    "    torch.save(model.state_dict(), PATH)\n",
    "    \n",
    "# model must be created again with parameters\n",
    "    model = Model(*args, **kwargs)\n",
    "    model.load_state_dict(torch.load(PATH))\n",
    "    model.eval()\n",
    "'''"
   ]
  },
  {
   "cell_type": "code",
   "execution_count": 2,
   "id": "registered-guarantee",
   "metadata": {},
   "outputs": [],
   "source": [
    "import torch\n",
    "import torch.nn as nn"
   ]
  },
  {
   "cell_type": "code",
   "execution_count": 3,
   "id": "pending-corruption",
   "metadata": {},
   "outputs": [],
   "source": [
    "class Model(nn.Module):\n",
    "    def __init__(self, n_input_features):\n",
    "        super(Model, self).__init__()\n",
    "        self.linear = nn.Linear(n_input_features, 1)\n",
    "\n",
    "    def forward(self, x):\n",
    "        y_pred = torch.sigmoid(self.linear(x))\n",
    "        return y_pred"
   ]
  },
  {
   "cell_type": "code",
   "execution_count": 4,
   "id": "charged-cologne",
   "metadata": {},
   "outputs": [],
   "source": [
    "model = Model(n_input_features=6)"
   ]
  },
  {
   "cell_type": "code",
   "execution_count": 5,
   "id": "cleared-company",
   "metadata": {},
   "outputs": [
    {
     "name": "stdout",
     "output_type": "stream",
     "text": [
      "Parameter containing:\n",
      "tensor([[ 0.2233,  0.3439, -0.2179,  0.2347,  0.3749,  0.3446]],\n",
      "       requires_grad=True)\n",
      "Parameter containing:\n",
      "tensor([-0.3124], requires_grad=True)\n"
     ]
    }
   ],
   "source": [
    "for param in model.parameters():\n",
    "    print(param)"
   ]
  },
  {
   "cell_type": "markdown",
   "id": "seven-investor",
   "metadata": {},
   "source": [
    "### Lazy Method"
   ]
  },
  {
   "cell_type": "code",
   "execution_count": 6,
   "id": "immediate-novelty",
   "metadata": {},
   "outputs": [],
   "source": [
    "# save and load entire model\n",
    "\n",
    "FILE = \"model.pth\"\n",
    "torch.save(model, FILE)"
   ]
  },
  {
   "cell_type": "code",
   "execution_count": 7,
   "id": "overall-reducing",
   "metadata": {},
   "outputs": [
    {
     "data": {
      "text/plain": [
       "Model(\n",
       "  (linear): Linear(in_features=6, out_features=1, bias=True)\n",
       ")"
      ]
     },
     "execution_count": 7,
     "metadata": {},
     "output_type": "execute_result"
    }
   ],
   "source": [
    "loaded_model = torch.load(FILE)\n",
    "loaded_model.eval()"
   ]
  },
  {
   "cell_type": "code",
   "execution_count": 8,
   "id": "toxic-authentication",
   "metadata": {},
   "outputs": [
    {
     "name": "stdout",
     "output_type": "stream",
     "text": [
      "Parameter containing:\n",
      "tensor([[ 0.2233,  0.3439, -0.2179,  0.2347,  0.3749,  0.3446]],\n",
      "       requires_grad=True)\n",
      "Parameter containing:\n",
      "tensor([-0.3124], requires_grad=True)\n"
     ]
    }
   ],
   "source": [
    "for param in loaded_model.parameters():\n",
    "    print(param)"
   ]
  },
  {
   "cell_type": "markdown",
   "id": "internal-twenty",
   "metadata": {},
   "source": [
    "### Recommended Method"
   ]
  },
  {
   "cell_type": "code",
   "execution_count": 9,
   "id": "functioning-winning",
   "metadata": {},
   "outputs": [],
   "source": [
    "# save only state dict\n",
    "FILE = \"model.pth\"\n",
    "torch.save(model.state_dict(), FILE)"
   ]
  },
  {
   "cell_type": "code",
   "execution_count": 10,
   "id": "intense-ferry",
   "metadata": {},
   "outputs": [
    {
     "name": "stdout",
     "output_type": "stream",
     "text": [
      "OrderedDict([('linear.weight', tensor([[ 0.2233,  0.3439, -0.2179,  0.2347,  0.3749,  0.3446]])), ('linear.bias', tensor([-0.3124]))])\n"
     ]
    }
   ],
   "source": [
    "print(model.state_dict())"
   ]
  },
  {
   "cell_type": "code",
   "execution_count": 11,
   "id": "registered-compound",
   "metadata": {},
   "outputs": [
    {
     "data": {
      "text/plain": [
       "Model(\n",
       "  (linear): Linear(in_features=6, out_features=1, bias=True)\n",
       ")"
      ]
     },
     "execution_count": 11,
     "metadata": {},
     "output_type": "execute_result"
    }
   ],
   "source": [
    "loaded_model = Model(n_input_features=6)\n",
    "loaded_model.load_state_dict(torch.load(FILE)) # it takes the loaded dictionary, not the path file itself\n",
    "loaded_model.eval()"
   ]
  },
  {
   "cell_type": "code",
   "execution_count": 12,
   "id": "dynamic-representative",
   "metadata": {},
   "outputs": [
    {
     "name": "stdout",
     "output_type": "stream",
     "text": [
      "OrderedDict([('linear.weight', tensor([[ 0.2233,  0.3439, -0.2179,  0.2347,  0.3749,  0.3446]])), ('linear.bias', tensor([-0.3124]))])\n"
     ]
    }
   ],
   "source": [
    "print(loaded_model.state_dict())"
   ]
  },
  {
   "cell_type": "markdown",
   "id": "acquired-elite",
   "metadata": {},
   "source": [
    "### Save and Load Checkpoint"
   ]
  },
  {
   "cell_type": "code",
   "execution_count": 13,
   "id": "certain-knock",
   "metadata": {},
   "outputs": [],
   "source": [
    "learning_rate = 0.01\n",
    "optimizer = torch.optim.SGD(model.parameters(), lr=learning_rate)"
   ]
  },
  {
   "cell_type": "code",
   "execution_count": 14,
   "id": "rotary-budget",
   "metadata": {},
   "outputs": [],
   "source": [
    "checkpoint = {\n",
    "\"epoch\": 90,\n",
    "\"model_state\": model.state_dict(),\n",
    "\"optim_state\": optimizer.state_dict()\n",
    "}"
   ]
  },
  {
   "cell_type": "code",
   "execution_count": 15,
   "id": "studied-planner",
   "metadata": {},
   "outputs": [
    {
     "name": "stdout",
     "output_type": "stream",
     "text": [
      "{'state': {}, 'param_groups': [{'lr': 0.01, 'momentum': 0, 'dampening': 0, 'weight_decay': 0, 'nesterov': False, 'params': [0, 1]}]}\n"
     ]
    }
   ],
   "source": [
    "print(optimizer.state_dict())"
   ]
  },
  {
   "cell_type": "code",
   "execution_count": 16,
   "id": "aboriginal-exception",
   "metadata": {},
   "outputs": [],
   "source": [
    "FILE = \"checkpoint.pth\"\n",
    "torch.save(checkpoint, FILE)"
   ]
  },
  {
   "cell_type": "code",
   "execution_count": 17,
   "id": "conventional-closer",
   "metadata": {},
   "outputs": [],
   "source": [
    "model = Model(n_input_features=6)\n",
    "optimizer = optimizer = torch.optim.SGD(model.parameters(), lr=0)"
   ]
  },
  {
   "cell_type": "code",
   "execution_count": 18,
   "id": "brown-source",
   "metadata": {},
   "outputs": [
    {
     "data": {
      "text/plain": [
       "Model(\n",
       "  (linear): Linear(in_features=6, out_features=1, bias=True)\n",
       ")"
      ]
     },
     "execution_count": 18,
     "metadata": {},
     "output_type": "execute_result"
    }
   ],
   "source": [
    "checkpoint = torch.load(FILE)\n",
    "model.load_state_dict(checkpoint['model_state'])\n",
    "optimizer.load_state_dict(checkpoint['optim_state'])\n",
    "epoch = checkpoint['epoch']\n",
    "\n",
    "model.eval()\n",
    "# - or -\n",
    "# model.train()"
   ]
  },
  {
   "cell_type": "code",
   "execution_count": 19,
   "id": "visible-technique",
   "metadata": {},
   "outputs": [
    {
     "name": "stdout",
     "output_type": "stream",
     "text": [
      "{'state': {}, 'param_groups': [{'lr': 0.01, 'momentum': 0, 'dampening': 0, 'weight_decay': 0, 'nesterov': False, 'params': [0, 1]}]}\n"
     ]
    }
   ],
   "source": [
    "print(optimizer.state_dict())"
   ]
  },
  {
   "cell_type": "code",
   "execution_count": 20,
   "id": "british-alcohol",
   "metadata": {},
   "outputs": [],
   "source": [
    "# Remember that you must call model.eval() to set dropout and batch normalization layers \n",
    "# to evaluation mode before running inference. Failing to do this will yield \n",
    "# inconsistent inference results. If you wish to resuming training, \n",
    "# call model.train() to ensure these layers are in training mode."
   ]
  },
  {
   "cell_type": "code",
   "execution_count": 22,
   "id": "sunrise-regression",
   "metadata": {},
   "outputs": [
    {
     "data": {
      "text/plain": [
       "' SAVING ON GPU/CPU \\n\\n# 1) Save on GPU, Load on CPU\\n    device = torch.device(\"cuda\")\\n    model.to(device)\\n    torch.save(model.state_dict(), PATH)\\n    device = torch.device(\\'cpu\\')\\n    model = Model(*args, **kwargs)\\n    model.load_state_dict(torch.load(PATH, map_location=device))\\n\\n# 2) Save on GPU, Load on GPU\\n    device = torch.device(\"cuda\")\\n    model.to(device)\\n    torch.save(model.state_dict(), PATH)\\n    model = Model(*args, **kwargs)\\n    model.load_state_dict(torch.load(PATH))\\n    model.to(device)\\n# Note: Be sure to use the .to(torch.device(\\'cuda\\')) function \\n# on all model inputs, too!\\n\\n# 3) Save on CPU, Load on GPU\\n    torch.save(model.state_dict(), PATH)\\n    device = torch.device(\"cuda\")\\n    model = Model(*args, **kwargs)\\n    model.load_state_dict(torch.load(PATH, map_location=\"cuda:0\"))  # Choose whatever GPU device number you want\\n    model.to(device)\\n    # This loads the model to a given GPU device. \\n    # Next, be sure to call model.to(torch.device(\\'cuda\\')) to convert the model’s parameter tensors to CUDA tensors\\n'"
      ]
     },
     "execution_count": 22,
     "metadata": {},
     "output_type": "execute_result"
    }
   ],
   "source": [
    "\"\"\" SAVING ON GPU/CPU \n",
    "\n",
    "# 1) Save on GPU, Load on CPU\n",
    "    device = torch.device(\"cuda\")\n",
    "    model.to(device)\n",
    "    torch.save(model.state_dict(), PATH)\n",
    "    device = torch.device('cpu')\n",
    "    model = Model(*args, **kwargs)\n",
    "    model.load_state_dict(torch.load(PATH, map_location=device))\n",
    "\n",
    "# 2) Save on GPU, Load on GPU\n",
    "    device = torch.device(\"cuda\")\n",
    "    model.to(device)\n",
    "    torch.save(model.state_dict(), PATH)\n",
    "    model = Model(*args, **kwargs)\n",
    "    model.load_state_dict(torch.load(PATH))\n",
    "    model.to(device)\n",
    "    \n",
    "# Note: Be sure to use the .to(torch.device('cuda')) function \n",
    "# on all model inputs, too!\n",
    "\n",
    "# 3) Save on CPU, Load on GPU\n",
    "    torch.save(model.state_dict(), PATH)\n",
    "    device = torch.device(\"cuda\")\n",
    "    model = Model(*args, **kwargs)\n",
    "    model.load_state_dict(torch.load(PATH, map_location=\"cuda:0\"))  # Choose whatever GPU device number you want\n",
    "    model.to(device)\n",
    "    # This loads the model to a given GPU device. \n",
    "    # Next, be sure to call model.to(torch.device('cuda')) to convert the model’s parameter tensors to CUDA tensors\n",
    "\"\"\""
   ]
  },
  {
   "cell_type": "code",
   "execution_count": null,
   "id": "split-denver",
   "metadata": {},
   "outputs": [],
   "source": []
  }
 ],
 "metadata": {
  "kernelspec": {
   "display_name": "Python 3",
   "language": "python",
   "name": "python3"
  },
  "language_info": {
   "codemirror_mode": {
    "name": "ipython",
    "version": 3
   },
   "file_extension": ".py",
   "mimetype": "text/x-python",
   "name": "python",
   "nbconvert_exporter": "python",
   "pygments_lexer": "ipython3",
   "version": "3.8.8"
  }
 },
 "nbformat": 4,
 "nbformat_minor": 5
}
