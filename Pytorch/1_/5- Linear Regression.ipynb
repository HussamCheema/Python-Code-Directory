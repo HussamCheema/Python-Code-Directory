{
 "cells": [
  {
   "cell_type": "code",
   "execution_count": 40,
   "id": "automated-recorder",
   "metadata": {},
   "outputs": [],
   "source": [
    "# 1) Design Model (input, output, forward pass)\n",
    "# 2) Construct loss and optimizer\n",
    "# 3) Training Loop\n",
    "#  - forward pass: compute prediction\n",
    "#  - backward pass: compute gradients\n",
    "#  - update weights"
   ]
  },
  {
   "cell_type": "code",
   "execution_count": 41,
   "id": "hairy-premises",
   "metadata": {},
   "outputs": [],
   "source": [
    "import torch\n",
    "import torch.nn as nn\n",
    "import numpy as np\n",
    "from sklearn import datasets\n",
    "import matplotlib.pyplot as plt"
   ]
  },
  {
   "cell_type": "markdown",
   "id": "direct-factory",
   "metadata": {},
   "source": [
    "## Data Preparation"
   ]
  },
  {
   "cell_type": "code",
   "execution_count": 42,
   "id": "second-cargo",
   "metadata": {},
   "outputs": [],
   "source": [
    "# random_state = random noise\n",
    "X_numpy, Y_numpy = datasets.make_regression(n_samples=100, n_features=1, random_state=1)\n",
    "\n",
    "X = torch.from_numpy(X_numpy.astype(np.float32))\n",
    "Y = torch.from_numpy(Y_numpy.astype(np.float32))\n",
    "Y = Y.view(Y.shape[0],1)"
   ]
  },
  {
   "cell_type": "code",
   "execution_count": 43,
   "id": "robust-dictionary",
   "metadata": {},
   "outputs": [],
   "source": [
    "n_samples, n_features = X.shape"
   ]
  },
  {
   "cell_type": "markdown",
   "id": "detailed-prayer",
   "metadata": {},
   "source": [
    "## Model"
   ]
  },
  {
   "cell_type": "code",
   "execution_count": 44,
   "id": "welsh-guyana",
   "metadata": {},
   "outputs": [],
   "source": [
    "input_size = n_features\n",
    "output_size = 1"
   ]
  },
  {
   "cell_type": "code",
   "execution_count": 45,
   "id": "unusual-desktop",
   "metadata": {},
   "outputs": [],
   "source": [
    "model = nn.Linear(input_size, output_size)"
   ]
  },
  {
   "cell_type": "markdown",
   "id": "expected-violin",
   "metadata": {},
   "source": [
    "## Loss and Optimizer"
   ]
  },
  {
   "cell_type": "code",
   "execution_count": 46,
   "id": "studied-dining",
   "metadata": {},
   "outputs": [],
   "source": [
    "learning_rate = 0.003"
   ]
  },
  {
   "cell_type": "code",
   "execution_count": 47,
   "id": "objective-orleans",
   "metadata": {},
   "outputs": [],
   "source": [
    "criterion = nn.MSELoss()"
   ]
  },
  {
   "cell_type": "code",
   "execution_count": 48,
   "id": "developed-qatar",
   "metadata": {},
   "outputs": [],
   "source": [
    "optimizer = torch.optim.SGD(model.parameters(), lr=learning_rate)"
   ]
  },
  {
   "cell_type": "markdown",
   "id": "extraordinary-hammer",
   "metadata": {},
   "source": [
    "## Training Loop"
   ]
  },
  {
   "cell_type": "code",
   "execution_count": 49,
   "id": "congressional-argument",
   "metadata": {},
   "outputs": [],
   "source": [
    "num_epochs = 1000"
   ]
  },
  {
   "cell_type": "code",
   "execution_count": 50,
   "id": "alert-summit",
   "metadata": {},
   "outputs": [
    {
     "name": "stdout",
     "output_type": "stream",
     "text": [
      "Epoch 100 - loss: 1977.5732\n",
      "Epoch 200 - loss: 770.1043\n",
      "Epoch 300 - loss: 301.0429\n",
      "Epoch 400 - loss: 118.0248\n",
      "Epoch 500 - loss: 46.3744\n",
      "Epoch 600 - loss: 18.2521\n",
      "Epoch 700 - loss: 7.1927\n",
      "Epoch 800 - loss: 2.8372\n",
      "Epoch 900 - loss: 1.1199\n",
      "Epoch 1000 - loss: 0.4422\n"
     ]
    }
   ],
   "source": [
    "for epoch in range(num_epochs):\n",
    "    # forward pass and loss\n",
    "    y_pred = model(X)\n",
    "    loss = criterion(y_pred,Y)\n",
    "    # backward pass\n",
    "    loss.backward()\n",
    "    # weight update\n",
    "    optimizer.step()\n",
    "    optimizer.zero_grad()\n",
    "    \n",
    "    if (epoch + 1) % 100 == 0:\n",
    "        print(f\"Epoch {epoch + 1} - loss: {loss.item():.4f}\")"
   ]
  },
  {
   "cell_type": "markdown",
   "id": "expanded-episode",
   "metadata": {},
   "source": [
    "## Plot"
   ]
  },
  {
   "cell_type": "code",
   "execution_count": 51,
   "id": "golden-courage",
   "metadata": {},
   "outputs": [],
   "source": [
    "predicted = model(X).detach().numpy()"
   ]
  },
  {
   "cell_type": "code",
   "execution_count": 52,
   "id": "voluntary-applicant",
   "metadata": {},
   "outputs": [
    {
     "data": {
      "image/png": "[encoded data removed]",
      "text/plain": [
       "<Figure size 432x288 with 1 Axes>"
      ]
     },
     "metadata": {
      "needs_background": "light"
     },
     "output_type": "display_data"
    }
   ],
   "source": [
    "plt.plot(X_numpy,Y_numpy, 'ro')\n",
    "plt.plot(X_numpy,predicted, 'b')\n",
    "plt.show()"
   ]
  },
  {
   "cell_type": "code",
   "execution_count": null,
   "id": "quick-undergraduate",
   "metadata": {},
   "outputs": [],
   "source": []
  }
 ],
 "metadata": {
  "kernelspec": {
   "display_name": "Python 3",
   "language": "python",
   "name": "python3"
  },
  "language_info": {
   "codemirror_mode": {
    "name": "ipython",
    "version": 3
   },
   "file_extension": ".py",
   "mimetype": "text/x-python",
   "name": "python",
   "nbconvert_exporter": "python",
   "pygments_lexer": "ipython3",
   "version": "3.8.8"
  }
 },
 "nbformat": 4,
 "nbformat_minor": 5
}
