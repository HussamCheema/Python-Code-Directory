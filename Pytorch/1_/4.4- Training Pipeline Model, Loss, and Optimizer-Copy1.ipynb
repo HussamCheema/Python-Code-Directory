{
 "cells": [
  {
   "cell_type": "code",
   "execution_count": 53,
   "id": "complex-bosnia",
   "metadata": {},
   "outputs": [],
   "source": [
    "# 1) Design Model (input, output, forward pass)\n",
    "# 2) Construct loss and optimizer\n",
    "# 3) Training Loop\n",
    "#  - forward pass: compute prediction\n",
    "#  - backward pass: compute gradients\n",
    "#  - update weights"
   ]
  },
  {
   "cell_type": "code",
   "execution_count": 54,
   "id": "sought-peter",
   "metadata": {},
   "outputs": [],
   "source": [
    "import torch\n",
    "import torch.nn as nn"
   ]
  },
  {
   "cell_type": "code",
   "execution_count": 55,
   "id": "present-heater",
   "metadata": {},
   "outputs": [],
   "source": [
    "# f = W.X => 2.X\n",
    "X = torch.tensor([[1],[2],[3],[4]], dtype=torch.float32) \n",
    "Y = torch.tensor([[2],[4],[6],[8]], dtype=torch.float32) \n",
    "X_test = torch.tensor([5], dtype=torch.float32)"
   ]
  },
  {
   "cell_type": "code",
   "execution_count": 56,
   "id": "hungarian-blogger",
   "metadata": {},
   "outputs": [
    {
     "name": "stdout",
     "output_type": "stream",
     "text": [
      "4 1\n"
     ]
    }
   ],
   "source": [
    "n_samples, n_features = X.shape\n",
    "print(n_samples, n_features)"
   ]
  },
  {
   "cell_type": "markdown",
   "id": "guilty-notion",
   "metadata": {},
   "source": [
    "### Model Prediction"
   ]
  },
  {
   "cell_type": "code",
   "execution_count": 57,
   "id": "centered-missile",
   "metadata": {},
   "outputs": [],
   "source": [
    "input_size = n_features\n",
    "output_size = n_features"
   ]
  },
  {
   "cell_type": "code",
   "execution_count": 58,
   "id": "sporting-alloy",
   "metadata": {},
   "outputs": [],
   "source": [
    "# It accepts data in 2D tensors\n",
    "# e.g. Multiple rows having multiple columns\n",
    "# PyTorch Model\n",
    "model = nn.Linear(input_size, output_size)"
   ]
  },
  {
   "cell_type": "markdown",
   "id": "perceived-airplane",
   "metadata": {},
   "source": [
    "### or"
   ]
  },
  {
   "cell_type": "code",
   "execution_count": 59,
   "id": "sensitive-secret",
   "metadata": {},
   "outputs": [],
   "source": [
    "# Custom Model\n",
    "class LinearRegression(nn.Module):\n",
    "    def __init__(self, input_dim, output_dim):\n",
    "        super(LinearRegression, self).__init__()\n",
    "        self.lin = nn.Linear(input_dim, output_dim)\n",
    "        \n",
    "    def forward(self, x):\n",
    "        return self.lin(x)"
   ]
  },
  {
   "cell_type": "code",
   "execution_count": 60,
   "id": "disciplinary-knock",
   "metadata": {},
   "outputs": [],
   "source": [
    "model = LinearRegression(input_size, output_size)"
   ]
  },
  {
   "cell_type": "code",
   "execution_count": 61,
   "id": "horizontal-hayes",
   "metadata": {},
   "outputs": [
    {
     "name": "stdout",
     "output_type": "stream",
     "text": [
      "Prediction before training: f(5) = -3.935\n"
     ]
    }
   ],
   "source": [
    "print(f'Prediction before training: f(5) = {model(X_test).item():.3f}')"
   ]
  },
  {
   "cell_type": "markdown",
   "id": "hundred-lesson",
   "metadata": {},
   "source": [
    "### Training"
   ]
  },
  {
   "cell_type": "code",
   "execution_count": 62,
   "id": "otherwise-seminar",
   "metadata": {},
   "outputs": [],
   "source": [
    "learning_rate = 0.003\n",
    "n_iters = 1000\n",
    "\n",
    "loss = nn.MSELoss()\n",
    "optimizer = torch.optim.SGD(model.parameters(), lr=learning_rate)"
   ]
  },
  {
   "cell_type": "code",
   "execution_count": 63,
   "id": "occasional-violin",
   "metadata": {},
   "outputs": [
    {
     "name": "stdout",
     "output_type": "stream",
     "text": [
      "epoch 1: weight = -0.502, loss = 62.74169922\n",
      "epoch 101: weight = 1.952, loss = 0.00381707\n",
      "epoch 201: weight = 1.969, loss = 0.00139080\n",
      "epoch 301: weight = 1.972, loss = 0.00116196\n",
      "epoch 401: weight = 1.974, loss = 0.00097083\n",
      "epoch 501: weight = 1.976, loss = 0.00081114\n",
      "epoch 601: weight = 1.978, loss = 0.00067771\n",
      "epoch 701: weight = 1.980, loss = 0.00056623\n",
      "epoch 801: weight = 1.982, loss = 0.00047309\n",
      "epoch 901: weight = 1.983, loss = 0.00039527\n"
     ]
    }
   ],
   "source": [
    "for epoch in range(n_iters):\n",
    "    \n",
    "    y_pred = model(X)\n",
    "    \n",
    "    l = loss(Y,y_pred)\n",
    "    \n",
    "    # gradient = backward pass\n",
    "    l.backward() # dl/dw\n",
    "    \n",
    "    # update weights\n",
    "    optimizer.step()\n",
    "    \n",
    "    # Zero Gradient so that it doesn't get accumulated\n",
    "    optimizer.zero_grad()\n",
    "    \n",
    "    if epoch % 100 == 0:\n",
    "        [w,b] = model.parameters()\n",
    "        print(f'epoch {epoch + 1}: weight = {w[0][0].item():.3f}, loss = {l:.8f}')"
   ]
  },
  {
   "cell_type": "code",
   "execution_count": 64,
   "id": "statutory-numbers",
   "metadata": {},
   "outputs": [
    {
     "name": "stdout",
     "output_type": "stream",
     "text": [
      "Prediction before training: f(5) = 9.969\n"
     ]
    }
   ],
   "source": [
    "print(f'Prediction before training: f(5) = {model(X_test).item():.3f}')"
   ]
  },
  {
   "cell_type": "code",
   "execution_count": null,
   "id": "synthetic-peace",
   "metadata": {},
   "outputs": [],
   "source": []
  }
 ],
 "metadata": {
  "kernelspec": {
   "display_name": "Python 3",
   "language": "python",
   "name": "python3"
  },
  "language_info": {
   "codemirror_mode": {
    "name": "ipython",
    "version": 3
   },
   "file_extension": ".py",
   "mimetype": "text/x-python",
   "name": "python",
   "nbconvert_exporter": "python",
   "pygments_lexer": "ipython3",
   "version": "3.8.8"
  }
 },
 "nbformat": 4,
 "nbformat_minor": 5
}
