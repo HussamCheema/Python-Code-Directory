{
 "cells": [
  {
   "cell_type": "code",
   "execution_count": 18,
   "id": "sought-peter",
   "metadata": {},
   "outputs": [],
   "source": [
    "import torch"
   ]
  },
  {
   "cell_type": "code",
   "execution_count": 19,
   "id": "present-heater",
   "metadata": {},
   "outputs": [],
   "source": [
    "# f = W.X => 2.X\n",
    "X = torch.tensor([1,2,3,4], dtype=torch.float32) \n",
    "Y = torch.tensor([2,4,6,8], dtype=torch.float32) "
   ]
  },
  {
   "cell_type": "code",
   "execution_count": 20,
   "id": "perfect-perfume",
   "metadata": {},
   "outputs": [],
   "source": [
    "# Starting from zero, it's goal is to reach 2. because the groundtruth that we've\n",
    "# provided is indicating that pattern.\n",
    "\n",
    "# requires_grad = True, Since we're interested in the gradient w/r to this parameter\n",
    "w = torch.tensor(0.0, dtype=torch.float32, requires_grad=True)"
   ]
  },
  {
   "cell_type": "markdown",
   "id": "guilty-notion",
   "metadata": {},
   "source": [
    "### Model Prediction"
   ]
  },
  {
   "cell_type": "code",
   "execution_count": 21,
   "id": "sporting-alloy",
   "metadata": {},
   "outputs": [],
   "source": [
    "# Single Variable Prediction\n",
    "# f = W.X => 2.X\n",
    "def forward(x):\n",
    "    return w*x"
   ]
  },
  {
   "cell_type": "markdown",
   "id": "lyric-barrel",
   "metadata": {},
   "source": [
    "### Loss = MSE"
   ]
  },
  {
   "cell_type": "code",
   "execution_count": 22,
   "id": "handy-compatibility",
   "metadata": {},
   "outputs": [],
   "source": [
    "def loss(y, y_predicted):\n",
    "    return ((y_predicted-y)**2).mean()"
   ]
  },
  {
   "cell_type": "code",
   "execution_count": 23,
   "id": "horizontal-hayes",
   "metadata": {},
   "outputs": [
    {
     "name": "stdout",
     "output_type": "stream",
     "text": [
      "Prediction before training: f(5) = 0.000\n"
     ]
    }
   ],
   "source": [
    "print(f'Prediction before training: f(5) = {forward(5):.3f}')"
   ]
  },
  {
   "cell_type": "markdown",
   "id": "hundred-lesson",
   "metadata": {},
   "source": [
    "### Training"
   ]
  },
  {
   "cell_type": "code",
   "execution_count": 24,
   "id": "otherwise-seminar",
   "metadata": {},
   "outputs": [],
   "source": [
    "learning_rate = 0.01\n",
    "n_iters = 20"
   ]
  },
  {
   "cell_type": "code",
   "execution_count": 25,
   "id": "occasional-violin",
   "metadata": {},
   "outputs": [
    {
     "name": "stdout",
     "output_type": "stream",
     "text": [
      "epoch 1: weight = 0.300, loss = 30.00000000\n",
      "epoch 4: weight = 0.956, loss = 11.31448650\n",
      "epoch 7: weight = 1.359, loss = 4.26725292\n",
      "epoch 10: weight = 1.606, loss = 1.60939169\n",
      "epoch 13: weight = 1.758, loss = 0.60698116\n",
      "epoch 16: weight = 1.851, loss = 0.22892261\n",
      "epoch 19: weight = 1.909, loss = 0.08633806\n"
     ]
    }
   ],
   "source": [
    "for epoch in range(n_iters):\n",
    "    \n",
    "    y_pred = forward(X) \n",
    "    l = loss(Y,y_pred)\n",
    "    \n",
    "    # gradient = backward pass\n",
    "    l.backward() # dl/dw\n",
    "    \n",
    "    # update weights\n",
    "    with torch.no_grad():\n",
    "        w -= learning_rate * w.grad\n",
    "    \n",
    "    # Zero Gradient so that it doesn't get accumulated\n",
    "    w.grad.zero_()\n",
    "    \n",
    "    if epoch % 3 == 0:\n",
    "        print(f'epoch {epoch + 1}: weight = {w:.3f}, loss = {l:.8f}')"
   ]
  },
  {
   "cell_type": "code",
   "execution_count": 26,
   "id": "statutory-numbers",
   "metadata": {},
   "outputs": [
    {
     "name": "stdout",
     "output_type": "stream",
     "text": [
      "Prediction after training: f(5) = 9.612\n"
     ]
    }
   ],
   "source": [
    "print(f'Prediction after training: f(5) = {forward(5):.3f}')"
   ]
  },
  {
   "cell_type": "code",
   "execution_count": null,
   "id": "synthetic-peace",
   "metadata": {},
   "outputs": [],
   "source": []
  }
 ],
 "metadata": {
  "kernelspec": {
   "display_name": "Python 3",
   "language": "python",
   "name": "python3"
  },
  "language_info": {
   "codemirror_mode": {
    "name": "ipython",
    "version": 3
   },
   "file_extension": ".py",
   "mimetype": "text/x-python",
   "name": "python",
   "nbconvert_exporter": "python",
   "pygments_lexer": "ipython3",
   "version": "3.8.8"
  }
 },
 "nbformat": 4,
 "nbformat_minor": 5
}
