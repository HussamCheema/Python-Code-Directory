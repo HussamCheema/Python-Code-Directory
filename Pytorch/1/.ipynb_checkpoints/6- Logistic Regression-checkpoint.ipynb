{
 "cells": [
  {
   "cell_type": "code",
   "execution_count": 1,
   "id": "divided-grave",
   "metadata": {},
   "outputs": [],
   "source": [
    "# 1) Design Model (input, output, forward pass)\n",
    "# 2) Construct loss and optimizer\n",
    "# 3) Training Loop\n",
    "#  - forward pass: compute prediction\n",
    "#  - backward pass: compute gradients\n",
    "#  - update weights"
   ]
  },
  {
   "cell_type": "code",
   "execution_count": 2,
   "id": "informed-creature",
   "metadata": {},
   "outputs": [],
   "source": [
    "import torch\n",
    "import torch.nn as nn\n",
    "import numpy as np\n",
    "from sklearn import datasets\n",
    "from sklearn.preprocessing import StandardScaler\n",
    "from sklearn.model_selection import train_test_split\n",
    "from pprint import pprint"
   ]
  },
  {
   "cell_type": "markdown",
   "id": "plain-update",
   "metadata": {},
   "source": [
    "## EDA and Data Preprocessing"
   ]
  },
  {
   "cell_type": "code",
   "execution_count": 3,
   "id": "marked-sensitivity",
   "metadata": {},
   "outputs": [
    {
     "data": {
      "text/plain": [
       "dict_keys(['data', 'target', 'frame', 'target_names', 'DESCR', 'feature_names', 'filename'])"
      ]
     },
     "execution_count": 3,
     "metadata": {},
     "output_type": "execute_result"
    }
   ],
   "source": [
    "bc = datasets.load_breast_cancer()\n",
    "bc.keys()"
   ]
  },
  {
   "cell_type": "code",
   "execution_count": 4,
   "id": "standing-organic",
   "metadata": {},
   "outputs": [
    {
     "name": "stdout",
     "output_type": "stream",
     "text": [
      "('.. _breast_cancer_dataset:\\n'\n",
      " '\\n'\n",
      " 'Breast cancer wisconsin (diagnostic) dataset\\n'\n",
      " '--------------------------------------------\\n'\n",
      " '\\n'\n",
      " '**Data Set Characteristics:**\\n'\n",
      " '\\n'\n",
      " '    :Number of Instances: 569\\n'\n",
      " '\\n'\n",
      " '    :Number of Attributes: 30 numeric, predictive attributes and the class\\n'\n",
      " '\\n'\n",
      " '    :Attribute Information:\\n'\n",
      " '        - radius (mean of distances from center to points on the perimeter)\\n'\n",
      " '        - texture (standard deviation of gray-scale values)\\n'\n",
      " '        - perimeter\\n'\n",
      " '        - area\\n'\n",
      " '        - smoothness (local variation in radius lengths)\\n'\n",
      " '        - compactness (perimeter^2 / area - 1.0)\\n'\n",
      " '        - concavity (severity of concave portions of the contour)\\n'\n",
      " '        - concave points (number of concave portions of the contour)\\n'\n",
      " '        - symmetry\\n'\n",
      " '        - fractal dimension (\"coastline approximation\" - 1)\\n'\n",
      " '\\n'\n",
      " '        The mean, standard error, and \"worst\" or largest (mean of the three\\n'\n",
      " '        worst/largest values) of these features were computed for each '\n",
      " 'image,\\n'\n",
      " '        resulting in 30 features.  For instance, field 0 is Mean Radius, '\n",
      " 'field\\n'\n",
      " '        10 is Radius SE, field 20 is Worst Radius.\\n'\n",
      " '\\n'\n",
      " '        - class:\\n'\n",
      " '                - WDBC-Malignant\\n'\n",
      " '                - WDBC-Benign\\n'\n",
      " '\\n'\n",
      " '    :Summary Statistics:\\n'\n",
      " '\\n'\n",
      " '    ===================================== ====== ======\\n'\n",
      " '                                           Min    Max\\n'\n",
      " '    ===================================== ====== ======\\n'\n",
      " '    radius (mean):                        6.981  28.11\\n'\n",
      " '    texture (mean):                       9.71   39.28\\n'\n",
      " '    perimeter (mean):                     43.79  188.5\\n'\n",
      " '    area (mean):                          143.5  2501.0\\n'\n",
      " '    smoothness (mean):                    0.053  0.163\\n'\n",
      " '    compactness (mean):                   0.019  0.345\\n'\n",
      " '    concavity (mean):                     0.0    0.427\\n'\n",
      " '    concave points (mean):                0.0    0.201\\n'\n",
      " '    symmetry (mean):                      0.106  0.304\\n'\n",
      " '    fractal dimension (mean):             0.05   0.097\\n'\n",
      " '    radius (standard error):              0.112  2.873\\n'\n",
      " '    texture (standard error):             0.36   4.885\\n'\n",
      " '    perimeter (standard error):           0.757  21.98\\n'\n",
      " '    area (standard error):                6.802  542.2\\n'\n",
      " '    smoothness (standard error):          0.002  0.031\\n'\n",
      " '    compactness (standard error):         0.002  0.135\\n'\n",
      " '    concavity (standard error):           0.0    0.396\\n'\n",
      " '    concave points (standard error):      0.0    0.053\\n'\n",
      " '    symmetry (standard error):            0.008  0.079\\n'\n",
      " '    fractal dimension (standard error):   0.001  0.03\\n'\n",
      " '    radius (worst):                       7.93   36.04\\n'\n",
      " '    texture (worst):                      12.02  49.54\\n'\n",
      " '    perimeter (worst):                    50.41  251.2\\n'\n",
      " '    area (worst):                         185.2  4254.0\\n'\n",
      " '    smoothness (worst):                   0.071  0.223\\n'\n",
      " '    compactness (worst):                  0.027  1.058\\n'\n",
      " '    concavity (worst):                    0.0    1.252\\n'\n",
      " '    concave points (worst):               0.0    0.291\\n'\n",
      " '    symmetry (worst):                     0.156  0.664\\n'\n",
      " '    fractal dimension (worst):            0.055  0.208\\n'\n",
      " '    ===================================== ====== ======\\n'\n",
      " '\\n'\n",
      " '    :Missing Attribute Values: None\\n'\n",
      " '\\n'\n",
      " '    :Class Distribution: 212 - Malignant, 357 - Benign\\n'\n",
      " '\\n'\n",
      " '    :Creator:  Dr. William H. Wolberg, W. Nick Street, Olvi L. Mangasarian\\n'\n",
      " '\\n'\n",
      " '    :Donor: Nick Street\\n'\n",
      " '\\n'\n",
      " '    :Date: November, 1995\\n'\n",
      " '\\n'\n",
      " 'This is a copy of UCI ML Breast Cancer Wisconsin (Diagnostic) datasets.\\n'\n",
      " 'https://goo.gl/U2Uwz2\\n'\n",
      " '\\n'\n",
      " 'Features are computed from a digitized image of a fine needle\\n'\n",
      " 'aspirate (FNA) of a breast mass.  They describe\\n'\n",
      " 'characteristics of the cell nuclei present in the image.\\n'\n",
      " '\\n'\n",
      " 'Separating plane described above was obtained using\\n'\n",
      " 'Multisurface Method-Tree (MSM-T) [K. P. Bennett, \"Decision Tree\\n'\n",
      " 'Construction Via Linear Programming.\" Proceedings of the 4th\\n'\n",
      " 'Midwest Artificial Intelligence and Cognitive Science Society,\\n'\n",
      " 'pp. 97-101, 1992], a classification method which uses linear\\n'\n",
      " 'programming to construct a decision tree.  Relevant features\\n'\n",
      " 'were selected using an exhaustive search in the space of 1-4\\n'\n",
      " 'features and 1-3 separating planes.\\n'\n",
      " '\\n'\n",
      " 'The actual linear program used to obtain the separating plane\\n'\n",
      " 'in the 3-dimensional space is that described in:\\n'\n",
      " '[K. P. Bennett and O. L. Mangasarian: \"Robust Linear\\n'\n",
      " 'Programming Discrimination of Two Linearly Inseparable Sets\",\\n'\n",
      " 'Optimization Methods and Software 1, 1992, 23-34].\\n'\n",
      " '\\n'\n",
      " 'This database is also available through the UW CS ftp server:\\n'\n",
      " '\\n'\n",
      " 'ftp ftp.cs.wisc.edu\\n'\n",
      " 'cd math-prog/cpo-dataset/machine-learn/WDBC/\\n'\n",
      " '\\n'\n",
      " '.. topic:: References\\n'\n",
      " '\\n'\n",
      " '   - W.N. Street, W.H. Wolberg and O.L. Mangasarian. Nuclear feature '\n",
      " 'extraction \\n'\n",
      " '     for breast tumor diagnosis. IS&T/SPIE 1993 International Symposium on \\n'\n",
      " '     Electronic Imaging: Science and Technology, volume 1905, pages '\n",
      " '861-870,\\n'\n",
      " '     San Jose, CA, 1993.\\n'\n",
      " '   - O.L. Mangasarian, W.N. Street and W.H. Wolberg. Breast cancer diagnosis '\n",
      " 'and \\n'\n",
      " '     prognosis via linear programming. Operations Research, 43(4), pages '\n",
      " '570-577, \\n'\n",
      " '     July-August 1995.\\n'\n",
      " '   - W.H. Wolberg, W.N. Street, and O.L. Mangasarian. Machine learning '\n",
      " 'techniques\\n'\n",
      " '     to diagnose breast cancer from fine-needle aspirates. Cancer Letters 77 '\n",
      " '(1994) \\n'\n",
      " '     163-171.')\n"
     ]
    }
   ],
   "source": [
    "pprint(bc['DESCR'])"
   ]
  },
  {
   "cell_type": "code",
   "execution_count": 5,
   "id": "painted-wildlife",
   "metadata": {},
   "outputs": [
    {
     "name": "stdout",
     "output_type": "stream",
     "text": [
      "NUMBER OF FEATURES\n",
      "---------------------\n",
      "30\n",
      "\n",
      "FEATURE NAMES\n",
      "---------------------\n",
      "['mean radius', 'mean texture', 'mean perimeter', 'mean area', 'mean smoothness', 'mean compactness', 'mean concavity', 'mean concave points', 'mean symmetry', 'mean fractal dimension', 'radius error', 'texture error', 'perimeter error', 'area error', 'smoothness error', 'compactness error', 'concavity error', 'concave points error', 'symmetry error', 'fractal dimension error', 'worst radius', 'worst texture', 'worst perimeter', 'worst area', 'worst smoothness', 'worst compactness', 'worst concavity', 'worst concave points', 'worst symmetry', 'worst fractal dimension']\n",
      "\n",
      "CLASS NAMES\n",
      "---------------------\n",
      "['malignant' 'benign']\n",
      "\n",
      "FIRST 10 TARGET/GROUNDTRUTH VALUES\n",
      "---------------------\n",
      "[0, 0, 0, 0, 0, 0, 0, 0, 0, 0]\n",
      "\n",
      "FIRST ROW OF FEATURES\n",
      "---------------------\n",
      "[1.799e+01 1.038e+01 1.228e+02 1.001e+03 1.184e-01 2.776e-01 3.001e-01\n",
      " 1.471e-01 2.419e-01 7.871e-02 1.095e+00 9.053e-01 8.589e+00 1.534e+02\n",
      " 6.399e-03 4.904e-02 5.373e-02 1.587e-02 3.003e-02 6.193e-03 2.538e+01\n",
      " 1.733e+01 1.846e+02 2.019e+03 1.622e-01 6.656e-01 7.119e-01 2.654e-01\n",
      " 4.601e-01 1.189e-01]\n"
     ]
    }
   ],
   "source": [
    "print(\"NUMBER OF FEATURES\")\n",
    "print(\"---------------------\")\n",
    "print(len(bc[\"feature_names\"]))\n",
    "print(\"\\nFEATURE NAMES\")\n",
    "print(\"---------------------\")\n",
    "print(list(bc[\"feature_names\"]))\n",
    "print(\"\\nCLASS NAMES\")\n",
    "print(\"---------------------\")\n",
    "print(bc[\"target_names\"])\n",
    "print(\"\\nFIRST 10 TARGET/GROUNDTRUTH VALUES\")\n",
    "print(\"---------------------\")\n",
    "print(list(bc[\"target\"][:10]))\n",
    "print(\"\\nFIRST ROW OF FEATURES\")\n",
    "print(\"---------------------\")\n",
    "print(bc[\"data\"][0])"
   ]
  },
  {
   "cell_type": "code",
   "execution_count": 6,
   "id": "productive-community",
   "metadata": {},
   "outputs": [],
   "source": [
    "X, y = bc.data, bc.target"
   ]
  },
  {
   "cell_type": "code",
   "execution_count": 7,
   "id": "thirty-terminology",
   "metadata": {},
   "outputs": [
    {
     "name": "stdout",
     "output_type": "stream",
     "text": [
      "569 30\n"
     ]
    }
   ],
   "source": [
    "n_samples, n_features = X.shape\n",
    "print(n_samples,n_features)"
   ]
  },
  {
   "cell_type": "code",
   "execution_count": 8,
   "id": "lasting-cuisine",
   "metadata": {},
   "outputs": [],
   "source": [
    "X_train, X_test, y_train, y_test = train_test_split(X,y,test_size=0.2, random_state=1234)"
   ]
  },
  {
   "cell_type": "code",
   "execution_count": 9,
   "id": "entire-norway",
   "metadata": {},
   "outputs": [],
   "source": [
    "# Convert data to Standard Normal Form\n",
    "sc = StandardScaler()\n",
    "X_train = sc.fit_transform(X_train)\n",
    "X_test = sc.transform(X_test)"
   ]
  },
  {
   "cell_type": "code",
   "execution_count": 10,
   "id": "entertaining-thickness",
   "metadata": {},
   "outputs": [],
   "source": [
    "X_train = torch.from_numpy(X_train.astype(np.float32))\n",
    "X_test = torch.from_numpy(X_test.astype(np.float32))\n",
    "y_train = torch.from_numpy(y_train.astype(np.float32))\n",
    "y_test = torch.from_numpy(y_test.astype(np.float32))"
   ]
  },
  {
   "cell_type": "code",
   "execution_count": 11,
   "id": "cross-resident",
   "metadata": {},
   "outputs": [
    {
     "name": "stdout",
     "output_type": "stream",
     "text": [
      "torch.Size([455])\n"
     ]
    }
   ],
   "source": [
    "print(y_train.shape)"
   ]
  },
  {
   "cell_type": "code",
   "execution_count": 12,
   "id": "unusual-archives",
   "metadata": {},
   "outputs": [
    {
     "name": "stdout",
     "output_type": "stream",
     "text": [
      "tensor([[1.],\n",
      "        [1.],\n",
      "        [1.],\n",
      "        [0.],\n",
      "        [1.]])\n",
      "torch.Size([455, 1])\n"
     ]
    }
   ],
   "source": [
    "y_train = y_train.view(y_train.shape[0],1)\n",
    "y_test = y_test.view(y_test.shape[0],1)\n",
    "print(y_train[:5])\n",
    "print(y_train.shape)"
   ]
  },
  {
   "cell_type": "markdown",
   "id": "flexible-shipping",
   "metadata": {},
   "source": [
    "## model"
   ]
  },
  {
   "cell_type": "code",
   "execution_count": 13,
   "id": "comparative-client",
   "metadata": {},
   "outputs": [],
   "source": [
    "class LogisticRegression(nn.Module):\n",
    "    def __init__(self, n_input_features):\n",
    "        super(LogisticRegression, self).__init__()\n",
    "        self.linear = nn.Linear(n_input_features, 1) # 1 output (binary)\n",
    "        \n",
    "    def forward(self, x):\n",
    "        y_predicted = torch.sigmoid(self.linear(x))\n",
    "        return y_predicted"
   ]
  },
  {
   "cell_type": "code",
   "execution_count": 14,
   "id": "acoustic-amber",
   "metadata": {},
   "outputs": [],
   "source": [
    "model = LogisticRegression(n_features)"
   ]
  },
  {
   "cell_type": "markdown",
   "id": "editorial-gathering",
   "metadata": {},
   "source": [
    "## Loss and Optimizer"
   ]
  },
  {
   "cell_type": "code",
   "execution_count": 15,
   "id": "boxed-harris",
   "metadata": {},
   "outputs": [],
   "source": [
    "criterion = nn.BCELoss()"
   ]
  },
  {
   "cell_type": "code",
   "execution_count": 16,
   "id": "knowing-publication",
   "metadata": {},
   "outputs": [],
   "source": [
    "optimizer = torch.optim.SGD(model.parameters(), lr=0.01)"
   ]
  },
  {
   "cell_type": "markdown",
   "id": "structured-venue",
   "metadata": {},
   "source": [
    "## Training Loop"
   ]
  },
  {
   "cell_type": "code",
   "execution_count": 17,
   "id": "superb-burns",
   "metadata": {},
   "outputs": [],
   "source": [
    "epochs = 100"
   ]
  },
  {
   "cell_type": "code",
   "execution_count": 18,
   "id": "crucial-jones",
   "metadata": {},
   "outputs": [
    {
     "name": "stdout",
     "output_type": "stream",
     "text": [
      "Epoch 10 - loss: 0.6389\n",
      "Epoch 20 - loss: 0.5151\n",
      "Epoch 30 - loss: 0.4388\n",
      "Epoch 40 - loss: 0.3871\n",
      "Epoch 50 - loss: 0.3497\n",
      "Epoch 60 - loss: 0.3211\n",
      "Epoch 70 - loss: 0.2986\n",
      "Epoch 80 - loss: 0.2802\n",
      "Epoch 90 - loss: 0.2648\n",
      "Epoch 100 - loss: 0.2518\n"
     ]
    }
   ],
   "source": [
    "for epoch in range(epochs):\n",
    "    \n",
    "    # Forward Pass\n",
    "    y_predicted = model(X_train)\n",
    "    loss = criterion(y_predicted, y_train)\n",
    "    \n",
    "    # Backward Pass\n",
    "    loss.backward()\n",
    "    \n",
    "    # Update Weights\n",
    "    optimizer.step()\n",
    "    optimizer.zero_grad()\n",
    "    \n",
    "    if (epoch + 1) % 10 == 0:\n",
    "        print(f\"Epoch {epoch + 1} - loss: {loss.item():.4f}\")"
   ]
  },
  {
   "cell_type": "code",
   "execution_count": 20,
   "id": "equal-trail",
   "metadata": {},
   "outputs": [
    {
     "name": "stdout",
     "output_type": "stream",
     "text": [
      "Accuracy = 0.9035\n"
     ]
    }
   ],
   "source": [
    "with torch.no_grad():\n",
    "    y_predicted = model(X_test)\n",
    "    y_predicted_cls = y_predicted.round()\n",
    "    acc = y_predicted_cls.eq(y_test).sum() / float(y_test.shape[0])\n",
    "    print(f\"Accuracy = {acc:.4f}\")"
   ]
  },
  {
   "cell_type": "code",
   "execution_count": null,
   "id": "military-cylinder",
   "metadata": {},
   "outputs": [],
   "source": []
  }
 ],
 "metadata": {
  "kernelspec": {
   "display_name": "Python 3",
   "language": "python",
   "name": "python3"
  },
  "language_info": {
   "codemirror_mode": {
    "name": "ipython",
    "version": 3
   },
   "file_extension": ".py",
   "mimetype": "text/x-python",
   "name": "python",
   "nbconvert_exporter": "python",
   "pygments_lexer": "ipython3",
   "version": "3.8.10"
  }
 },
 "nbformat": 4,
 "nbformat_minor": 5
}
