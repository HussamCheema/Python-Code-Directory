{
 "cells": [
  {
   "cell_type": "code",
   "execution_count": 72,
   "id": "right-norwegian",
   "metadata": {},
   "outputs": [],
   "source": [
    "import numpy as np"
   ]
  },
  {
   "cell_type": "code",
   "execution_count": 73,
   "id": "equivalent-career",
   "metadata": {},
   "outputs": [],
   "source": [
    "# f = W.X => 2.X\n",
    "X = np.array([1,2,3,4], dtype=np.float32) \n",
    "Y = np.array([2,4,6,8], dtype=np.float32) "
   ]
  },
  {
   "cell_type": "code",
   "execution_count": 74,
   "id": "graduate-wellington",
   "metadata": {},
   "outputs": [],
   "source": [
    "# Starting from zero, it's goal is to reach 2. because the groundtruth that we've\n",
    "# provided is indicating that pattern.\n",
    "w = 0.0"
   ]
  },
  {
   "cell_type": "markdown",
   "id": "hollow-savings",
   "metadata": {},
   "source": [
    "### Model Prediction"
   ]
  },
  {
   "cell_type": "code",
   "execution_count": 75,
   "id": "incorporate-operations",
   "metadata": {},
   "outputs": [],
   "source": [
    "# Single Variable Prediction\n",
    "# f = W.X => 2.X\n",
    "def forward(x):\n",
    "    return w*x"
   ]
  },
  {
   "cell_type": "markdown",
   "id": "american-scheduling",
   "metadata": {},
   "source": [
    "### Loss = MSE"
   ]
  },
  {
   "cell_type": "code",
   "execution_count": 76,
   "id": "dependent-terrorism",
   "metadata": {},
   "outputs": [],
   "source": [
    "def loss(y, y_predicted):\n",
    "    return ((y_predicted-y)**2).mean()"
   ]
  },
  {
   "cell_type": "markdown",
   "id": "worst-canon",
   "metadata": {},
   "source": [
    "### Gradient"
   ]
  },
  {
   "cell_type": "code",
   "execution_count": 77,
   "id": "intended-reflection",
   "metadata": {},
   "outputs": [],
   "source": [
    "# MSE = 1/N * (w*x-y)**2\n",
    "# dJ/dw = 1/N * 2x * (w*x - y)\n",
    "def gradient(x,y,y_predicted):\n",
    "    return (2*x * (y_pred - y)).mean()"
   ]
  },
  {
   "cell_type": "code",
   "execution_count": 78,
   "id": "built-notification",
   "metadata": {},
   "outputs": [
    {
     "name": "stdout",
     "output_type": "stream",
     "text": [
      "Prediction before training: f(5) = 0.000\n"
     ]
    }
   ],
   "source": [
    "print(f'Prediction before training: f(5) = {forward(5):.3f}')"
   ]
  },
  {
   "cell_type": "markdown",
   "id": "interim-vaccine",
   "metadata": {},
   "source": [
    "### Training"
   ]
  },
  {
   "cell_type": "code",
   "execution_count": 79,
   "id": "extreme-party",
   "metadata": {},
   "outputs": [],
   "source": [
    "learning_rate = 0.01\n",
    "n_iters = 20"
   ]
  },
  {
   "cell_type": "code",
   "execution_count": 80,
   "id": "metropolitan-force",
   "metadata": {},
   "outputs": [
    {
     "name": "stdout",
     "output_type": "stream",
     "text": [
      "epoch 1: weight = 0.300, loss = 30.00000000\n",
      "epoch 4: weight = 0.956, loss = 11.31448555\n",
      "epoch 7: weight = 1.359, loss = 4.26725292\n",
      "epoch 10: weight = 1.606, loss = 1.60939264\n",
      "epoch 13: weight = 1.758, loss = 0.60698175\n",
      "epoch 16: weight = 1.851, loss = 0.22892293\n",
      "epoch 19: weight = 1.909, loss = 0.08633806\n"
     ]
    }
   ],
   "source": [
    "for epoch in range(n_iters):\n",
    "    \n",
    "    y_pred = forward(X)\n",
    "    l = loss(Y,y_pred)\n",
    "    dw = gradient(X,Y,y_pred)\n",
    "    \n",
    "    # update weights\n",
    "    w -= learning_rate * dw\n",
    "    \n",
    "    if epoch % 3 == 0:\n",
    "        print(f'epoch {epoch + 1}: weight = {w:.3f}, loss = {l:.8f}')"
   ]
  },
  {
   "cell_type": "code",
   "execution_count": 69,
   "id": "appropriate-family",
   "metadata": {},
   "outputs": [
    {
     "name": "stdout",
     "output_type": "stream",
     "text": [
      "Prediction after training: f(5) = 9.612\n"
     ]
    }
   ],
   "source": [
    "print(f'Prediction after training: f(5) = {forward(5):.3f}')"
   ]
  },
  {
   "cell_type": "code",
   "execution_count": null,
   "id": "pleased-strength",
   "metadata": {},
   "outputs": [],
   "source": []
  }
 ],
 "metadata": {
  "kernelspec": {
   "display_name": "Python 3",
   "language": "python",
   "name": "python3"
  },
  "language_info": {
   "codemirror_mode": {
    "name": "ipython",
    "version": 3
   },
   "file_extension": ".py",
   "mimetype": "text/x-python",
   "name": "python",
   "nbconvert_exporter": "python",
   "pygments_lexer": "ipython3",
   "version": "3.8.8"
  }
 },
 "nbformat": 4,
 "nbformat_minor": 5
}
