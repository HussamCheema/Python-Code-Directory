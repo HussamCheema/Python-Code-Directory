{
 "cells": [
  {
   "cell_type": "code",
   "execution_count": 1,
   "id": "single-restriction",
   "metadata": {},
   "outputs": [],
   "source": [
    "import torch"
   ]
  },
  {
   "cell_type": "code",
   "execution_count": 5,
   "id": "alike-bargain",
   "metadata": {},
   "outputs": [
    {
     "data": {
      "text/plain": [
       "tensor([-5.8865e+23,  4.5642e-41, -5.8865e+23])"
      ]
     },
     "execution_count": 5,
     "metadata": {},
     "output_type": "execute_result"
    }
   ],
   "source": [
    "# 1-D Tensor/Vector\n",
    "x = torch.empty(3)\n",
    "x"
   ]
  },
  {
   "cell_type": "code",
   "execution_count": 6,
   "id": "fifteen-recruitment",
   "metadata": {},
   "outputs": [
    {
     "data": {
      "text/plain": [
       "tensor([[2.5878e-36, 0.0000e+00, 2.5862e-36],\n",
       "        [0.0000e+00, 8.9683e-44, 0.0000e+00]])"
      ]
     },
     "execution_count": 6,
     "metadata": {},
     "output_type": "execute_result"
    }
   ],
   "source": [
    "# 2-D Tensor/Matrix\n",
    "x = torch.empty(2,3)\n",
    "x"
   ]
  },
  {
   "cell_type": "code",
   "execution_count": 7,
   "id": "matched-layout",
   "metadata": {},
   "outputs": [
    {
     "data": {
      "text/plain": [
       "tensor([[[ 1.4013e-45,  0.0000e+00,  2.5883e-36],\n",
       "         [ 0.0000e+00,  1.4013e-45,  0.0000e+00]],\n",
       "\n",
       "        [[ 2.5882e-36,  0.0000e+00,  3.3631e-44],\n",
       "         [ 0.0000e+00, -2.3198e+24,  4.5642e-41]]])"
      ]
     },
     "execution_count": 7,
     "metadata": {},
     "output_type": "execute_result"
    }
   ],
   "source": [
    "# 3-D Tensor\n",
    "x = torch.empty(2,2,3)\n",
    "x"
   ]
  },
  {
   "cell_type": "code",
   "execution_count": 8,
   "id": "selected-gauge",
   "metadata": {},
   "outputs": [
    {
     "data": {
      "text/plain": [
       "tensor([[[[-5.8865e+23,  4.5642e-41,  2.5845e-36],\n",
       "          [ 0.0000e+00,  4.4842e-44,  0.0000e+00]],\n",
       "\n",
       "         [[ 2.9147e-43,  0.0000e+00, -3.1107e+08],\n",
       "          [ 4.5642e-41,  0.0000e+00,  0.0000e+00]]],\n",
       "\n",
       "\n",
       "        [[[ 1.4013e-45,  0.0000e+00,  0.0000e+00],\n",
       "          [ 0.0000e+00,  0.0000e+00,  0.0000e+00]],\n",
       "\n",
       "         [[ 0.0000e+00,  0.0000e+00,  2.5864e-36],\n",
       "          [ 0.0000e+00,  0.0000e+00,  0.0000e+00]]]])"
      ]
     },
     "execution_count": 8,
     "metadata": {},
     "output_type": "execute_result"
    }
   ],
   "source": [
    "# 4-D Tensor\n",
    "x = torch.empty(2,2,2,3)\n",
    "x"
   ]
  },
  {
   "cell_type": "code",
   "execution_count": 10,
   "id": "blocked-sleep",
   "metadata": {},
   "outputs": [
    {
     "data": {
      "text/plain": [
       "tensor([[0.4382, 0.6775],\n",
       "        [0.3081, 0.2678]])"
      ]
     },
     "execution_count": 10,
     "metadata": {},
     "output_type": "execute_result"
    }
   ],
   "source": [
    "# Tensor with random values\n",
    "x = torch.rand(2,2)\n",
    "x"
   ]
  },
  {
   "cell_type": "code",
   "execution_count": 11,
   "id": "improved-cylinder",
   "metadata": {},
   "outputs": [
    {
     "data": {
      "text/plain": [
       "tensor([[0., 0.],\n",
       "        [0., 0.]])"
      ]
     },
     "execution_count": 11,
     "metadata": {},
     "output_type": "execute_result"
    }
   ],
   "source": [
    "# Tensor with zeros\n",
    "x = torch.zeros(2,2)\n",
    "x"
   ]
  },
  {
   "cell_type": "code",
   "execution_count": 12,
   "id": "instant-collective",
   "metadata": {},
   "outputs": [
    {
     "data": {
      "text/plain": [
       "tensor([[1., 1.],\n",
       "        [1., 1.]])"
      ]
     },
     "execution_count": 12,
     "metadata": {},
     "output_type": "execute_result"
    }
   ],
   "source": [
    "# Tensor with ones\n",
    "x = torch.ones(2,2)\n",
    "x"
   ]
  },
  {
   "cell_type": "code",
   "execution_count": 13,
   "id": "fitted-familiar",
   "metadata": {},
   "outputs": [
    {
     "data": {
      "text/plain": [
       "torch.float32"
      ]
     },
     "execution_count": 13,
     "metadata": {},
     "output_type": "execute_result"
    }
   ],
   "source": [
    "# Data Type\n",
    "x.dtype"
   ]
  },
  {
   "cell_type": "code",
   "execution_count": 16,
   "id": "developing-output",
   "metadata": {},
   "outputs": [
    {
     "name": "stdout",
     "output_type": "stream",
     "text": [
      "tensor([[1, 1],\n",
      "        [1, 1]], dtype=torch.int32)\n",
      "tensor([[1., 1.],\n",
      "        [1., 1.]], dtype=torch.float64)\n"
     ]
    }
   ],
   "source": [
    "# Changing Torch dtype\n",
    "x = torch.ones(2,2, dtype=torch.int)\n",
    "y = torch.ones(2,2, dtype=torch.double)\n",
    "print(x)\n",
    "print(y)"
   ]
  },
  {
   "cell_type": "code",
   "execution_count": 17,
   "id": "thousand-atlas",
   "metadata": {},
   "outputs": [
    {
     "data": {
      "text/plain": [
       "torch.Size([2, 2])"
      ]
     },
     "execution_count": 17,
     "metadata": {},
     "output_type": "execute_result"
    }
   ],
   "source": [
    "# Size of Tensor\n",
    "x.size() # rows,columns"
   ]
  },
  {
   "cell_type": "code",
   "execution_count": 18,
   "id": "prerequisite-sphere",
   "metadata": {},
   "outputs": [
    {
     "data": {
      "text/plain": [
       "tensor([1, 2, 3, 4])"
      ]
     },
     "execution_count": 18,
     "metadata": {},
     "output_type": "execute_result"
    }
   ],
   "source": [
    "# Python list to Tensors\n",
    "x = torch.tensor([1,2,3,4])\n",
    "x"
   ]
  },
  {
   "cell_type": "markdown",
   "id": "domestic-workshop",
   "metadata": {},
   "source": [
    "## Basic Operations"
   ]
  },
  {
   "cell_type": "code",
   "execution_count": 39,
   "id": "opened-enemy",
   "metadata": {},
   "outputs": [],
   "source": [
    "x = torch.rand(2,2)\n",
    "y = torch.rand(2,2)"
   ]
  },
  {
   "cell_type": "code",
   "execution_count": 40,
   "id": "brave-treat",
   "metadata": {},
   "outputs": [
    {
     "name": "stdout",
     "output_type": "stream",
     "text": [
      "tensor([[0.6709, 0.7407],\n",
      "        [1.1721, 1.1040]])\n"
     ]
    },
    {
     "data": {
      "text/plain": [
       "tensor([[0.6709, 0.7407],\n",
       "        [1.1721, 1.1040]])"
      ]
     },
     "execution_count": 40,
     "metadata": {},
     "output_type": "execute_result"
    }
   ],
   "source": [
    "print(x+y)\n",
    "torch.add(x,y)"
   ]
  },
  {
   "cell_type": "code",
   "execution_count": 41,
   "id": "talented-exposure",
   "metadata": {},
   "outputs": [
    {
     "name": "stdout",
     "output_type": "stream",
     "text": [
      "tensor([[-0.2032,  0.0801],\n",
      "        [ 0.7685,  0.3903]])\n"
     ]
    },
    {
     "data": {
      "text/plain": [
       "tensor([[-0.2032,  0.0801],\n",
       "        [ 0.7685,  0.3903]])"
      ]
     },
     "execution_count": 41,
     "metadata": {},
     "output_type": "execute_result"
    }
   ],
   "source": [
    "print(x-y)\n",
    "torch.sub(x,y)"
   ]
  },
  {
   "cell_type": "code",
   "execution_count": 42,
   "id": "conditional-chancellor",
   "metadata": {},
   "outputs": [
    {
     "name": "stdout",
     "output_type": "stream",
     "text": [
      "tensor([[0.1022, 0.1356],\n",
      "        [0.1958, 0.2666]])\n"
     ]
    },
    {
     "data": {
      "text/plain": [
       "tensor([[0.1022, 0.1356],\n",
       "        [0.1958, 0.2666]])"
      ]
     },
     "execution_count": 42,
     "metadata": {},
     "output_type": "execute_result"
    }
   ],
   "source": [
    "print(x*y)\n",
    "torch.mul(x,y)"
   ]
  },
  {
   "cell_type": "code",
   "execution_count": 43,
   "id": "described-dealer",
   "metadata": {},
   "outputs": [
    {
     "name": "stdout",
     "output_type": "stream",
     "text": [
      "tensor([[0.5350, 1.2425],\n",
      "        [4.8091, 2.0937]])\n"
     ]
    },
    {
     "data": {
      "text/plain": [
       "tensor([[0.5350, 1.2425],\n",
       "        [4.8091, 2.0937]])"
      ]
     },
     "execution_count": 43,
     "metadata": {},
     "output_type": "execute_result"
    }
   ],
   "source": [
    "print(x/y)\n",
    "torch.div(x,y)"
   ]
  },
  {
   "cell_type": "code",
   "execution_count": 45,
   "id": "stretch-stewart",
   "metadata": {},
   "outputs": [
    {
     "name": "stdout",
     "output_type": "stream",
     "text": [
      "tensor([[0.9047, 1.1512],\n",
      "        [2.1423, 1.8511]])\n"
     ]
    }
   ],
   "source": [
    "# Inplace Addition to y\n",
    "# same for other operations\n",
    "y.add_(x)\n",
    "print(y)"
   ]
  },
  {
   "cell_type": "markdown",
   "id": "leading-deadline",
   "metadata": {},
   "source": [
    "## Slicing"
   ]
  },
  {
   "cell_type": "code",
   "execution_count": 46,
   "id": "accepting-institution",
   "metadata": {},
   "outputs": [],
   "source": [
    "# Slicing is same as Python and Numpy"
   ]
  },
  {
   "cell_type": "code",
   "execution_count": 49,
   "id": "prime-coating",
   "metadata": {},
   "outputs": [
    {
     "data": {
      "text/plain": [
       "tensor([0.6388])"
      ]
     },
     "execution_count": 49,
     "metadata": {},
     "output_type": "execute_result"
    }
   ],
   "source": [
    "x = torch.rand(1)\n",
    "x"
   ]
  },
  {
   "cell_type": "code",
   "execution_count": 52,
   "id": "korean-pastor",
   "metadata": {},
   "outputs": [
    {
     "data": {
      "text/plain": [
       "0.6388151049613953"
      ]
     },
     "execution_count": 52,
     "metadata": {},
     "output_type": "execute_result"
    }
   ],
   "source": [
    "# Get the value from a single tensor\n",
    "# We can only use this when we have only one element in tensor\n",
    "x.item()"
   ]
  },
  {
   "cell_type": "markdown",
   "id": "southwest-australia",
   "metadata": {},
   "source": [
    "## Reshaping"
   ]
  },
  {
   "cell_type": "code",
   "execution_count": 53,
   "id": "personal-century",
   "metadata": {},
   "outputs": [
    {
     "data": {
      "text/plain": [
       "tensor([[0.9401, 0.0544, 0.0674, 0.4927],\n",
       "        [0.0344, 0.5185, 0.8604, 0.7522],\n",
       "        [0.2121, 0.6710, 0.0303, 0.8591],\n",
       "        [0.1851, 0.0597, 0.7121, 0.0791]])"
      ]
     },
     "execution_count": 53,
     "metadata": {},
     "output_type": "execute_result"
    }
   ],
   "source": [
    "x = torch.rand(4,4)\n",
    "x"
   ]
  },
  {
   "cell_type": "code",
   "execution_count": 54,
   "id": "provincial-father",
   "metadata": {},
   "outputs": [
    {
     "data": {
      "text/plain": [
       "tensor([0.9401, 0.0544, 0.0674, 0.4927, 0.0344, 0.5185, 0.8604, 0.7522, 0.2121,\n",
       "        0.6710, 0.0303, 0.8591, 0.1851, 0.0597, 0.7121, 0.0791])"
      ]
     },
     "execution_count": 54,
     "metadata": {},
     "output_type": "execute_result"
    }
   ],
   "source": [
    "y = x.view(16)\n",
    "y"
   ]
  },
  {
   "cell_type": "code",
   "execution_count": 55,
   "id": "mechanical-favorite",
   "metadata": {},
   "outputs": [
    {
     "data": {
      "text/plain": [
       "tensor([[0.9401, 0.0544, 0.0674, 0.4927, 0.0344, 0.5185, 0.8604, 0.7522, 0.2121,\n",
       "         0.6710, 0.0303, 0.8591, 0.1851, 0.0597, 0.7121, 0.0791]])"
      ]
     },
     "execution_count": 55,
     "metadata": {},
     "output_type": "execute_result"
    }
   ],
   "source": [
    "y = x.view(1,16)\n",
    "y"
   ]
  },
  {
   "cell_type": "code",
   "execution_count": 56,
   "id": "qualified-polish",
   "metadata": {},
   "outputs": [
    {
     "data": {
      "text/plain": [
       "tensor([[0.9401, 0.0544, 0.0674, 0.4927, 0.0344, 0.5185, 0.8604, 0.7522],\n",
       "        [0.2121, 0.6710, 0.0303, 0.8591, 0.1851, 0.0597, 0.7121, 0.0791]])"
      ]
     },
     "execution_count": 56,
     "metadata": {},
     "output_type": "execute_result"
    }
   ],
   "source": [
    "# Auto-detect one side of the size\n",
    "z = x.view(-1,8)\n",
    "z"
   ]
  },
  {
   "cell_type": "markdown",
   "id": "photographic-helmet",
   "metadata": {},
   "source": [
    "## Numpy to Torch Tensor and Vice Versa"
   ]
  },
  {
   "cell_type": "code",
   "execution_count": 57,
   "id": "precious-territory",
   "metadata": {},
   "outputs": [],
   "source": [
    "import numpy as np"
   ]
  },
  {
   "cell_type": "code",
   "execution_count": 59,
   "id": "banner-buyer",
   "metadata": {},
   "outputs": [
    {
     "name": "stdout",
     "output_type": "stream",
     "text": [
      "tensor([1., 1., 1., 1., 1.])\n",
      "<class 'torch.Tensor'>\n",
      "[1. 1. 1. 1. 1.]\n",
      "<class 'numpy.ndarray'>\n"
     ]
    }
   ],
   "source": [
    "a = torch.ones(5)\n",
    "print(a)\n",
    "print(type(a))\n",
    "b = a.numpy()\n",
    "print(b)\n",
    "print(type(b))"
   ]
  },
  {
   "cell_type": "markdown",
   "id": "basic-spiritual",
   "metadata": {},
   "source": [
    "#### If tensor is on CPU then both objects will use the same memory - hence, shallow copy"
   ]
  },
  {
   "cell_type": "code",
   "execution_count": 60,
   "id": "white-basement",
   "metadata": {},
   "outputs": [
    {
     "name": "stdout",
     "output_type": "stream",
     "text": [
      "[109.   1.   1.   1.   1.]\n",
      "tensor([109.,   1.,   1.,   1.,   1.])\n"
     ]
    }
   ],
   "source": [
    "b[0] = 109\n",
    "print(b)\n",
    "print(a)"
   ]
  },
  {
   "cell_type": "code",
   "execution_count": 61,
   "id": "minimal-vessel",
   "metadata": {},
   "outputs": [
    {
     "name": "stdout",
     "output_type": "stream",
     "text": [
      "[1. 1. 1. 1. 1.]\n",
      "<class 'numpy.ndarray'>\n",
      "tensor([1., 1., 1., 1., 1.], dtype=torch.float64)\n",
      "<class 'numpy.ndarray'>\n"
     ]
    }
   ],
   "source": [
    "a = np.ones(5)\n",
    "print(a)\n",
    "print(type(a))\n",
    "b = torch.from_numpy(a)\n",
    "print(b)\n",
    "print(type(a))"
   ]
  },
  {
   "cell_type": "code",
   "execution_count": 62,
   "id": "smaller-assistant",
   "metadata": {},
   "outputs": [
    {
     "name": "stdout",
     "output_type": "stream",
     "text": [
      "[99.  1.  1.  1.  1.]\n",
      "tensor([99.,  1.,  1.,  1.,  1.], dtype=torch.float64)\n"
     ]
    }
   ],
   "source": [
    "a[0] = 99\n",
    "print(a)\n",
    "print(b)"
   ]
  },
  {
   "cell_type": "markdown",
   "id": "blessed-snapshot",
   "metadata": {},
   "source": [
    "## Other"
   ]
  },
  {
   "cell_type": "code",
   "execution_count": 64,
   "id": "insured-purple",
   "metadata": {},
   "outputs": [
    {
     "name": "stdout",
     "output_type": "stream",
     "text": [
      "no\n"
     ]
    }
   ],
   "source": [
    "if torch.cuda.is_available():\n",
    "    device = torch.device(\"cuda\")\n",
    "    # Creating tensor on GPU\n",
    "    x = torch.ones(5, device = device)\n",
    "    print(x)\n",
    "    y = torch.ones(5)\n",
    "    # Move y to GPU\n",
    "    y = y.to(device)\n",
    "    print(y)\n",
    "    print(x+y)\n",
    "    z = y.numpy() # It will give an error. Because, Numpy can only handle CPU Tensors\n",
    "    # To avoid that, we have to convert it into CPU\n",
    "    z = y.to(\"cpu\")\n",
    "    \n",
    "else:\n",
    "    print(\"no\")"
   ]
  },
  {
   "cell_type": "code",
   "execution_count": null,
   "id": "precise-clearing",
   "metadata": {},
   "outputs": [],
   "source": [
    "# It tells pytorch that it needs to calculate gradients for this tensor\n",
    "# for optimization steps.\n",
    "x = torch.rand(5, requires_grad=True) # By default its False\n",
    "# Any variable that we need to optimize, we'll make this flag, True."
   ]
  }
 ],
 "metadata": {
  "kernelspec": {
   "display_name": "Python 3",
   "language": "python",
   "name": "python3"
  },
  "language_info": {
   "codemirror_mode": {
    "name": "ipython",
    "version": 3
   },
   "file_extension": ".py",
   "mimetype": "text/x-python",
   "name": "python",
   "nbconvert_exporter": "python",
   "pygments_lexer": "ipython3",
   "version": "3.8.8"
  }
 },
 "nbformat": 4,
 "nbformat_minor": 5
}
