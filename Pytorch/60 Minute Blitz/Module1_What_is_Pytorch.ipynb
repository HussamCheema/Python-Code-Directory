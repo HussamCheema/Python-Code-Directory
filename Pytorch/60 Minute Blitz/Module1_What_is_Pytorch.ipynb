{
  "nbformat": 4,
  "nbformat_minor": 0,
  "metadata": {
    "colab": {
      "name": "Module1 - What is Pytorch.ipynb",
      "provenance": [],
      "collapsed_sections": []
    },
    "kernelspec": {
      "name": "python3",
      "display_name": "Python 3"
    },
    "accelerator": "GPU"
  },
  "cells": [
    {
      "cell_type": "code",
      "metadata": {
        "id": "1kUHdz7cZTBv",
        "colab_type": "code",
        "colab": {}
      },
      "source": [
        "from __future__ import print_function\n",
        "import torch"
      ],
      "execution_count": 0,
      "outputs": []
    },
    {
      "cell_type": "markdown",
      "metadata": {
        "id": "fTBzhW7jaAW5",
        "colab_type": "text"
      },
      "source": [
        "An uninitialized matrix is declared, but does not contain definite known values before it is used. When an uninitialized matrix is created, whatever values were in the allocated memory at the time will appear as the initial values."
      ]
    },
    {
      "cell_type": "code",
      "metadata": {
        "id": "vaaWnH3YZkSA",
        "colab_type": "code",
        "colab": {
          "base_uri": "https://localhost:8080/",
          "height": 102
        },
        "outputId": "72f65150-3a92-4a64-fc4a-f2351f60e6b0"
      },
      "source": [
        "x = torch.empty(5, 3)\n",
        "print(x)"
      ],
      "execution_count": 2,
      "outputs": [
        {
          "output_type": "stream",
          "text": [
            "tensor([[1.7349e-35, 0.0000e+00, 0.0000e+00],\n",
            "        [0.0000e+00, 0.0000e+00, 0.0000e+00],\n",
            "        [0.0000e+00, 0.0000e+00, 2.8026e-45],\n",
            "        [0.0000e+00, 1.1210e-44, 0.0000e+00],\n",
            "        [1.4013e-45, 0.0000e+00, 0.0000e+00]])\n"
          ],
          "name": "stdout"
        }
      ]
    },
    {
      "cell_type": "code",
      "metadata": {
        "id": "wg8E28PtZ9_J",
        "colab_type": "code",
        "colab": {
          "base_uri": "https://localhost:8080/",
          "height": 102
        },
        "outputId": "b90d73e5-556f-48d9-fec3-82457136374a"
      },
      "source": [
        "# Randomly initialized matrix\n",
        "x = torch.rand(5, 3)\n",
        "print(x)"
      ],
      "execution_count": 3,
      "outputs": [
        {
          "output_type": "stream",
          "text": [
            "tensor([[0.9589, 0.6597, 0.4053],\n",
            "        [0.3958, 0.5353, 0.6825],\n",
            "        [0.3054, 0.8019, 0.0388],\n",
            "        [0.5813, 0.2291, 0.4710],\n",
            "        [0.6221, 0.3578, 0.2836]])\n"
          ],
          "name": "stdout"
        }
      ]
    },
    {
      "cell_type": "code",
      "metadata": {
        "id": "Pvbauax6aIBD",
        "colab_type": "code",
        "colab": {
          "base_uri": "https://localhost:8080/",
          "height": 102
        },
        "outputId": "37761124-ae60-4574-87eb-c611e000e8bd"
      },
      "source": [
        "# Matrix filled with zeros\n",
        "x = torch.zeros(5, 3, dtype=torch.long)\n",
        "print(x)"
      ],
      "execution_count": 4,
      "outputs": [
        {
          "output_type": "stream",
          "text": [
            "tensor([[0, 0, 0],\n",
            "        [0, 0, 0],\n",
            "        [0, 0, 0],\n",
            "        [0, 0, 0],\n",
            "        [0, 0, 0]])\n"
          ],
          "name": "stdout"
        }
      ]
    },
    {
      "cell_type": "code",
      "metadata": {
        "id": "qg__ZNi2dHf5",
        "colab_type": "code",
        "colab": {
          "base_uri": "https://localhost:8080/",
          "height": 136
        },
        "outputId": "f06a079d-3256-4689-88ba-5b09904f7f64"
      },
      "source": [
        "# Difference b/w ones and new_ones\n",
        "\n",
        "# defining the tensor along with device to run on. (Assuming CUDA hardware is available)\n",
        "x = torch.rand(5, 3, device=\"cuda\")\n",
        "\n",
        "# new_ones() works with existing tensor. y will inherit the datatype from x and it will run on same device as defined in x\n",
        "y = x.new_ones(2, 2)\n",
        "print(y)\n",
        "\n",
        "# defining tensor. By default it will run on CPU.\n",
        "x = torch.ones(5, 3)\n",
        "print(x)"
      ],
      "execution_count": 8,
      "outputs": [
        {
          "output_type": "stream",
          "text": [
            "tensor([[1., 1.],\n",
            "        [1., 1.]], device='cuda:0')\n",
            "tensor([[1., 1., 1.],\n",
            "        [1., 1., 1.],\n",
            "        [1., 1., 1.],\n",
            "        [1., 1., 1.],\n",
            "        [1., 1., 1.]])\n"
          ],
          "name": "stdout"
        }
      ]
    },
    {
      "cell_type": "markdown",
      "metadata": {
        "id": "3_y3pKvZei2H",
        "colab_type": "text"
      },
      "source": [
        "ones() is used to define tensor with 1. (as shown in example) of given size and is not dependent on the existing tensor, whereas new_ones() works with existing tensor which inherits properties like datatype and device from existing tensor and define the tensor with given size."
      ]
    },
    {
      "cell_type": "code",
      "metadata": {
        "id": "nuLU3QgSdoTt",
        "colab_type": "code",
        "colab": {
          "base_uri": "https://localhost:8080/",
          "height": 34
        },
        "outputId": "8faba2ea-eaae-4b1e-9dee-13b712418d6e"
      },
      "source": [
        "# Construct a tensor directly from data\n",
        "x = torch.tensor([5.5, 3])\n",
        "print(x)"
      ],
      "execution_count": 9,
      "outputs": [
        {
          "output_type": "stream",
          "text": [
            "tensor([5.5000, 3.0000])\n"
          ],
          "name": "stdout"
        }
      ]
    },
    {
      "cell_type": "code",
      "metadata": {
        "id": "JM9VI-CocSDA",
        "colab_type": "code",
        "colab": {
          "base_uri": "https://localhost:8080/",
          "height": 187
        },
        "outputId": "6151603a-846e-4d1f-9c36-82103b9f0bf2"
      },
      "source": [
        "x = x.new_ones(5, 3, dtype=torch.double)      # new_* methods take in sizes\n",
        "print(x)\n",
        "\n",
        "x = torch.randn_like(x, dtype=torch.float)    # override dtype!\n",
        "print(x)                                      # result has the same size"
      ],
      "execution_count": 10,
      "outputs": [
        {
          "output_type": "stream",
          "text": [
            "tensor([[1., 1., 1.],\n",
            "        [1., 1., 1.],\n",
            "        [1., 1., 1.],\n",
            "        [1., 1., 1.],\n",
            "        [1., 1., 1.]], dtype=torch.float64)\n",
            "tensor([[ 0.5838,  0.1624, -1.1032],\n",
            "        [ 0.9579,  1.8300, -1.2211],\n",
            "        [ 0.4142,  2.0283, -0.5329],\n",
            "        [-1.5728,  0.5226,  1.2525],\n",
            "        [ 0.2286, -0.8080, -0.4566]])\n"
          ],
          "name": "stdout"
        }
      ]
    },
    {
      "cell_type": "code",
      "metadata": {
        "id": "Hg2FrAYUcfIi",
        "colab_type": "code",
        "colab": {
          "base_uri": "https://localhost:8080/",
          "height": 34
        },
        "outputId": "1894f105-c3d7-4c31-d4d2-28f6eec9c7d9"
      },
      "source": [
        "# Getting the size of tensor\n",
        "print(x.size()) # It returns a tuple so it supports all tuple operations"
      ],
      "execution_count": 11,
      "outputs": [
        {
          "output_type": "stream",
          "text": [
            "torch.Size([5, 3])\n"
          ],
          "name": "stdout"
        }
      ]
    },
    {
      "cell_type": "code",
      "metadata": {
        "id": "5s1hdX3-dtn2",
        "colab_type": "code",
        "colab": {
          "base_uri": "https://localhost:8080/",
          "height": 102
        },
        "outputId": "9d164feb-2cc4-49aa-d79d-ae0c8e97b710"
      },
      "source": [
        "# Add Operation\n",
        "y = torch.rand(5, 3)\n",
        "print(x + y)"
      ],
      "execution_count": 12,
      "outputs": [
        {
          "output_type": "stream",
          "text": [
            "tensor([[ 1.4925,  0.8180, -0.2510],\n",
            "        [ 1.2211,  2.7747, -0.4055],\n",
            "        [ 1.1970,  2.5302, -0.0076],\n",
            "        [-1.4382,  0.9136,  1.4629],\n",
            "        [ 1.1585, -0.2300,  0.2781]])\n"
          ],
          "name": "stdout"
        }
      ]
    },
    {
      "cell_type": "code",
      "metadata": {
        "id": "zFGgc4wGd-hq",
        "colab_type": "code",
        "colab": {
          "base_uri": "https://localhost:8080/",
          "height": 102
        },
        "outputId": "9d8f2735-f48e-4fe7-871b-995ea4a3b61d"
      },
      "source": [
        "# 2nd syntax of adding\n",
        "print(torch.add(x, y))"
      ],
      "execution_count": 13,
      "outputs": [
        {
          "output_type": "stream",
          "text": [
            "tensor([[ 1.4925,  0.8180, -0.2510],\n",
            "        [ 1.2211,  2.7747, -0.4055],\n",
            "        [ 1.1970,  2.5302, -0.0076],\n",
            "        [-1.4382,  0.9136,  1.4629],\n",
            "        [ 1.1585, -0.2300,  0.2781]])\n"
          ],
          "name": "stdout"
        }
      ]
    },
    {
      "cell_type": "code",
      "metadata": {
        "id": "i0J0RM_CeEGv",
        "colab_type": "code",
        "colab": {
          "base_uri": "https://localhost:8080/",
          "height": 102
        },
        "outputId": "192b3f87-2002-4e66-c065-6a4c875c9fe5"
      },
      "source": [
        "# Providing an output tensor as argument\n",
        "result = torch.empty(5, 3)\n",
        "torch.add(x, y, out=result)\n",
        "print(result)"
      ],
      "execution_count": 14,
      "outputs": [
        {
          "output_type": "stream",
          "text": [
            "tensor([[ 1.4925,  0.8180, -0.2510],\n",
            "        [ 1.2211,  2.7747, -0.4055],\n",
            "        [ 1.1970,  2.5302, -0.0076],\n",
            "        [-1.4382,  0.9136,  1.4629],\n",
            "        [ 1.1585, -0.2300,  0.2781]])\n"
          ],
          "name": "stdout"
        }
      ]
    },
    {
      "cell_type": "code",
      "metadata": {
        "id": "oNYmFHgleMDt",
        "colab_type": "code",
        "colab": {
          "base_uri": "https://localhost:8080/",
          "height": 102
        },
        "outputId": "80016e3f-0894-4b73-af51-7d32a1cf34b9"
      },
      "source": [
        "# In-Place addition\n",
        "# adds x to y\n",
        "y.add_(x)\n",
        "print(y) # Overrided y"
      ],
      "execution_count": 15,
      "outputs": [
        {
          "output_type": "stream",
          "text": [
            "tensor([[ 1.4925,  0.8180, -0.2510],\n",
            "        [ 1.2211,  2.7747, -0.4055],\n",
            "        [ 1.1970,  2.5302, -0.0076],\n",
            "        [-1.4382,  0.9136,  1.4629],\n",
            "        [ 1.1585, -0.2300,  0.2781]])\n"
          ],
          "name": "stdout"
        }
      ]
    },
    {
      "cell_type": "markdown",
      "metadata": {
        "id": "yc-YzU6jeeJ4",
        "colab_type": "text"
      },
      "source": [
        "Any operation that mutates a tensor in-place is post-fixed with an _. For example: x.copy_(y), x.t_(), will change x."
      ]
    },
    {
      "cell_type": "code",
      "metadata": {
        "id": "c7WSyMmXeQYk",
        "colab_type": "code",
        "colab": {
          "base_uri": "https://localhost:8080/",
          "height": 34
        },
        "outputId": "dcefeed8-2d0f-415b-a69f-de85d1c933dd"
      },
      "source": [
        "print(x[:, 1]) # print all rows of 2nd column"
      ],
      "execution_count": 16,
      "outputs": [
        {
          "output_type": "stream",
          "text": [
            "tensor([ 0.1624,  1.8300,  2.0283,  0.5226, -0.8080])\n"
          ],
          "name": "stdout"
        }
      ]
    },
    {
      "cell_type": "code",
      "metadata": {
        "id": "uzBqHo-xerHx",
        "colab_type": "code",
        "colab": {
          "base_uri": "https://localhost:8080/",
          "height": 68
        },
        "outputId": "fdcfb5f2-6b40-4da5-e0f3-9b4aac1ed986"
      },
      "source": [
        "# Resizing: If you want to resize/reshape tensor, you can use torch.view:\n",
        "x = torch.randn(4, 4)\n",
        "y = x.view(16)\n",
        "z = x.view(-1, 8)  # the size -1 is inferred from other dimensions\n",
        "print(z)\n",
        "print(x.size(), y.size(), z.size())"
      ],
      "execution_count": 17,
      "outputs": [
        {
          "output_type": "stream",
          "text": [
            "tensor([[-0.0898, -2.4871,  1.6693, -0.5620, -0.5889,  0.8019, -0.1296,  0.3073],\n",
            "        [ 1.0804,  1.1956,  0.2550, -0.4503, -0.8278,  0.7601, -0.2550,  0.9187]])\n",
            "torch.Size([4, 4]) torch.Size([16]) torch.Size([2, 8])\n"
          ],
          "name": "stdout"
        }
      ]
    },
    {
      "cell_type": "code",
      "metadata": {
        "id": "cwd1uKaae-Ko",
        "colab_type": "code",
        "colab": {
          "base_uri": "https://localhost:8080/",
          "height": 51
        },
        "outputId": "7ad5f79f-bafe-439b-c4ce-6083c1baf44b"
      },
      "source": [
        "# If you have a one element tensor, use .item() to get the value as a Python number\n",
        "x = torch.randn(1)\n",
        "print(x)\n",
        "print(x.item())"
      ],
      "execution_count": 18,
      "outputs": [
        {
          "output_type": "stream",
          "text": [
            "tensor([0.1095])\n",
            "0.10950557142496109\n"
          ],
          "name": "stdout"
        }
      ]
    },
    {
      "cell_type": "markdown",
      "metadata": {
        "id": "m9BzT_PXfLAA",
        "colab_type": "text"
      },
      "source": [
        "# Numpy Bridge\n",
        "Converting a Torch Tensor to a NumPy array and vice versa is a breeze.\n",
        "\n",
        "The Torch Tensor and NumPy array will share their underlying memory locations (if the Torch Tensor is on CPU), and changing one will change the other."
      ]
    },
    {
      "cell_type": "markdown",
      "metadata": {
        "id": "jbaYL7Maf0ZH",
        "colab_type": "text"
      },
      "source": [
        "### Converting a Torch Tensor to a NumPy Array"
      ]
    },
    {
      "cell_type": "code",
      "metadata": {
        "id": "t66Zgo8UfIcl",
        "colab_type": "code",
        "colab": {
          "base_uri": "https://localhost:8080/",
          "height": 51
        },
        "outputId": "2f0ebd83-c947-49af-b813-9d90315a9907"
      },
      "source": [
        "a = torch.ones(5)\n",
        "print(a)\n",
        "\n",
        "b = a.numpy()\n",
        "print(b)"
      ],
      "execution_count": 20,
      "outputs": [
        {
          "output_type": "stream",
          "text": [
            "tensor([1., 1., 1., 1., 1.])\n",
            "[1. 1. 1. 1. 1.]\n"
          ],
          "name": "stdout"
        }
      ]
    },
    {
      "cell_type": "code",
      "metadata": {
        "id": "oXg37h2AfbuO",
        "colab_type": "code",
        "colab": {
          "base_uri": "https://localhost:8080/",
          "height": 51
        },
        "outputId": "6e6f7dc2-cd76-4ff1-fc5d-f90bc9a1fd66"
      },
      "source": [
        "# See how the numpy array changed in value.\n",
        "a.add_(1)\n",
        "print(a)\n",
        "print(b)"
      ],
      "execution_count": 21,
      "outputs": [
        {
          "output_type": "stream",
          "text": [
            "tensor([2., 2., 2., 2., 2.])\n",
            "[2. 2. 2. 2. 2.]\n"
          ],
          "name": "stdout"
        }
      ]
    },
    {
      "cell_type": "markdown",
      "metadata": {
        "id": "kSEFnQsWfr-y",
        "colab_type": "text"
      },
      "source": [
        "### Converting NumPy Array to Torch Tensor"
      ]
    },
    {
      "cell_type": "code",
      "metadata": {
        "id": "GeHt_f4lfmI6",
        "colab_type": "code",
        "colab": {
          "base_uri": "https://localhost:8080/",
          "height": 51
        },
        "outputId": "82007629-d13c-4acf-b619-9e0a487cef2c"
      },
      "source": [
        "import numpy as np\n",
        "a = np.ones(5)\n",
        "b = torch.from_numpy(a)\n",
        "np.add(a, 1, out=a)\n",
        "print(a)\n",
        "print(b)\n"
      ],
      "execution_count": 22,
      "outputs": [
        {
          "output_type": "stream",
          "text": [
            "[2. 2. 2. 2. 2.]\n",
            "tensor([2., 2., 2., 2., 2.], dtype=torch.float64)\n"
          ],
          "name": "stdout"
        }
      ]
    },
    {
      "cell_type": "markdown",
      "metadata": {
        "id": "SCAjeZdvgF_Z",
        "colab_type": "text"
      },
      "source": [
        "All the Tensors on the CPU except a CharTensor support converting to NumPy and back."
      ]
    },
    {
      "cell_type": "markdown",
      "metadata": {
        "id": "UH3181W2gHIm",
        "colab_type": "text"
      },
      "source": [
        "# CUDA Tensors\n",
        "Tensors can be moved onto any device using the .to method."
      ]
    },
    {
      "cell_type": "code",
      "metadata": {
        "id": "2hwVX9U-f_fj",
        "colab_type": "code",
        "colab": {
          "base_uri": "https://localhost:8080/",
          "height": 51
        },
        "outputId": "bdddf673-d3bf-40bb-ea61-77e178c5f1da"
      },
      "source": [
        "# We will use ``torch.device`` objects to move tensors in and out of GPU\n",
        "if torch.cuda.is_available():\n",
        "    device = torch.device(\"cuda\")          # a CUDA device object\n",
        "    y = torch.ones_like(x, device=device)  # directly create a tensor on GPU\n",
        "    x = x.to(device)                       # or just use strings ``.to(\"cuda\")``\n",
        "    z = x + y\n",
        "    print(z)\n",
        "    print(z.to(\"cpu\", torch.double))       # ``.to`` can also change dtype together!"
      ],
      "execution_count": 25,
      "outputs": [
        {
          "output_type": "stream",
          "text": [
            "tensor([1.1095], device='cuda:0')\n",
            "tensor([1.1095], dtype=torch.float64)\n"
          ],
          "name": "stdout"
        }
      ]
    },
    {
      "cell_type": "code",
      "metadata": {
        "id": "-Efs4kLYgVlW",
        "colab_type": "code",
        "colab": {}
      },
      "source": [
        ""
      ],
      "execution_count": 0,
      "outputs": []
    }
  ]
}