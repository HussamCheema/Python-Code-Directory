{
 "cells": [
  {
   "cell_type": "code",
   "execution_count": 1,
   "id": "alternate-colonial",
   "metadata": {},
   "outputs": [],
   "source": [
    "from word2number import w2n\n",
    "import threading\n",
    "import multiprocessing\n",
    "from threading import Thread\n",
    "from multiprocessing import Process\n",
    "import concurrent.futures\n",
    "from concurrent import futures\n",
    "import time\n",
    "import math"
   ]
  },
  {
   "cell_type": "code",
   "execution_count": 2,
   "id": "speaking-treaty",
   "metadata": {},
   "outputs": [],
   "source": [
    "def preprocess(content):\n",
    "    content = content.replace(\"Fourty\", \"Forty\")\n",
    "    content = content.replace(\"Tweleve\", \"Twelve\")\n",
    "    content = content.replace(\"fourty\", \"forty\")\n",
    "    content = content.replace(\"tweleve\", \"twelve\")\n",
    "    \n",
    "    return content"
   ]
  },
  {
   "cell_type": "code",
   "execution_count": 3,
   "id": "decreased-central",
   "metadata": {},
   "outputs": [],
   "source": [
    "class Task:\n",
    "    def __init__(self, path):\n",
    "        self.path = path\n",
    "        self.numbers = []\n",
    "        \n",
    "    def get_sum(self):\n",
    "        with open(self.path) as file:\n",
    "            content = file.read()\n",
    "            content = preprocess(content)\n",
    "            lines = [s for s in content.splitlines() if s.strip()]\n",
    "            \n",
    "        self.numbers = [w2n.word_to_num(num) for num in lines]\n",
    "        \n",
    "        return sum(self.numbers)\n",
    "    \n",
    "    def get_count(self, number):\n",
    "        with open(self.path) as file:\n",
    "            content = file.read()\n",
    "            content = preprocess(content)\n",
    "            lines = [s for s in content.splitlines() if s.strip()]\n",
    "            \n",
    "        counts = [str(num).count(str(number)) for num in self.numbers]\n",
    "        \n",
    "        return sum(counts)"
   ]
  },
  {
   "cell_type": "code",
   "execution_count": 4,
   "id": "modern-duration",
   "metadata": {},
   "outputs": [
    {
     "name": "stdout",
     "output_type": "stream",
     "text": [
      "23746560\n",
      "215040\n"
     ]
    }
   ],
   "source": [
    "t = Task(\"test/1.txt\")\n",
    "print(t.get_sum())\n",
    "print(t.get_count(1))"
   ]
  },
  {
   "cell_type": "markdown",
   "id": "given-little",
   "metadata": {},
   "source": [
    "## One way to use threading"
   ]
  },
  {
   "cell_type": "code",
   "execution_count": 10,
   "id": "international-there",
   "metadata": {},
   "outputs": [],
   "source": [
    "class ThreadedTask:\n",
    "    def __init__(self, path, number, results):\n",
    "        t = Task(path)\n",
    "        s = t.get_sum()\n",
    "        c = t.get_count(number)\n",
    "        results[path] = (s,c)\n",
    "        print(f\"Sum = {s} and Count = {c} of path {path}\")"
   ]
  },
  {
   "cell_type": "code",
   "execution_count": 11,
   "id": "embedded-local",
   "metadata": {},
   "outputs": [
    {
     "name": "stdout",
     "output_type": "stream",
     "text": [
      "Thread 1 started at 0.0 second(s)\n",
      "Thread 2 started at 0.02 second(s)\n",
      "Thread 3 started at 0.16 second(s)\n",
      "Thread 4 started at 0.81 second(s)\n",
      "Thread 5 started at 0.94 second(s)\n",
      "Thread 6 started at 1.15 second(s)\n",
      "Thread 7 started at 1.81 second(s)\n",
      "Thread 8 started at 2.24 second(s)\n",
      "Thread 9 started at 2.61 second(s)\n",
      "Thread 10 started at 4.15 second(s)\n",
      "Sum = 7915520 and Count = 71680 of path test/6.txt\n",
      "Sum = 15831040 and Count = 143360 of path test/2.txt\n",
      "Sum = 15831040 and Count = 143360 of path test/7.txt\n",
      "Sum = 23746560 and Count = 215040 of path test/1.txt\n",
      "Sum = 15831040 and Count = 143360 of path test/10.txt\n",
      "Sum = 15831040 and Count = 143360 of path test/8.txt\n",
      "Sum = 31662080 and Count = 286720 of path test/5.txt\n",
      "Sum = 31662080 and Count = 286720 of path test/9.txt\n",
      "Sum = 31662080 and Count = 286720 of path test/3.txt\n",
      "Sum = 31662080 and Count = 286720 of path test/4.txt\n",
      "Total sum is = 221634560\n",
      "Total count is = 2007040\n",
      "Finished in 23.77 second(s)\n"
     ]
    }
   ],
   "source": [
    "start = time.perf_counter()\n",
    "results = {}\n",
    "\n",
    "for num in range(1,11):\n",
    "    path = f\"test/{num}.txt\"\n",
    "    t = threading.Thread(target=ThreadedTask, args=(path, 1, results))\n",
    "    t.start()\n",
    "    finish = time.perf_counter()\n",
    "    print(f'Thread {num} started at {round(finish-start, 2)} second(s)')\n",
    "\n",
    "t.join()\n",
    "time.sleep(10)\n",
    "\n",
    "sums = [val[0] for val in results.values()]\n",
    "counts = [val[1] for val in results.values()]\n",
    "\n",
    "print(f\"Total sum is = {sum(sums)}\")\n",
    "print(f\"Total count is = {sum(counts)}\")\n",
    "\n",
    "finish = time.perf_counter()\n",
    "\n",
    "print(f'Finished in {round(finish-start, 2)} second(s)')"
   ]
  },
  {
   "cell_type": "markdown",
   "id": "common-design",
   "metadata": {},
   "source": [
    "## Second way to use threading"
   ]
  },
  {
   "cell_type": "code",
   "execution_count": 36,
   "id": "egyptian-extension",
   "metadata": {},
   "outputs": [],
   "source": [
    "def ThreadedTaskFunc(path):\n",
    "    t = Task(path)\n",
    "    s = t.get_sum()\n",
    "    c = t.get_count(1)\n",
    "    print(f\"Sum = {s} and Count = {c} of path {path}\")\n",
    "    return (s,c)"
   ]
  },
  {
   "cell_type": "code",
   "execution_count": 42,
   "id": "written-signature",
   "metadata": {},
   "outputs": [
    {
     "name": "stdout",
     "output_type": "stream",
     "text": [
      "Thread 1 started at 0.01 second(s)\n",
      "Thread 2 started at 0.07 second(s)\n",
      "Thread 3 started at 0.1 second(s)\n",
      "Thread 4 started at 0.11 second(s)\n",
      "Thread 5 started at 0.27 second(s)\n",
      "Thread 6 started at 0.56 second(s)\n",
      "Thread 7 started at 0.72 second(s)\n",
      "Thread 8 started at 1.56 second(s)\n",
      "Thread 9 started at 1.56 second(s)\n",
      "Thread 10 started at 1.56 second(s)\n",
      "Sum = 7915520 and Count = 71680 of path test/6.txt\n",
      "Sum = 15831040 and Count = 143360 of path test/7.txt\n",
      "Sum = 15831040 and Count = 143360 of path test/2.txt\n",
      "Sum = 15831040 and Count = 143360 of path test/8.txt\n",
      "Sum = 31662080 and Count = 286720 of path test/3.txt\n",
      "Sum = 23746560 and Count = 215040 of path test/1.txt\n",
      "Sum = 15831040 and Count = 143360 of path test/10.txt\n",
      "Sum = 31662080 and Count = 286720 of path test/4.txt\n",
      "Sum = 31662080 and Count = 286720 of path test/5.txt\n",
      "Sum = 31662080 and Count = 286720 of path test/9.txt\n",
      "Total sum is = 221634560\n",
      "Total count is = 2007040\n",
      "Finished in 26.43 second(s)\n"
     ]
    }
   ],
   "source": [
    "start = time.perf_counter()\n",
    "results = []\n",
    "total_sum = 0\n",
    "total_count = 0\n",
    "    \n",
    "with concurrent.futures.ThreadPoolExecutor() as executor:\n",
    "    for num in range(1,11):\n",
    "        path = f\"test/{num}.txt\"\n",
    "        results.append(executor.submit(ThreadedTaskFunc, path))\n",
    "        finish = time.perf_counter()\n",
    "        print(f'Thread {num} started at {round(finish-start, 2)} second(s)')\n",
    "        \n",
    "for job in futures.as_completed(results):\n",
    "    result = job.result()\n",
    "    total_sum += result[0]\n",
    "    total_count += result[1]\n",
    "\n",
    "\n",
    "time.sleep(10)\n",
    "    \n",
    "print(f\"Total sum is = {total_sum}\")\n",
    "print(f\"Total count is = {total_count}\")\n",
    "\n",
    "finish = time.perf_counter()\n",
    "\n",
    "print(f'Finished in {round(finish-start, 2)} second(s)')"
   ]
  },
  {
   "cell_type": "markdown",
   "id": "bronze-panic",
   "metadata": {},
   "source": [
    "## Third way to use threading"
   ]
  },
  {
   "cell_type": "code",
   "execution_count": 11,
   "id": "speaking-ukraine",
   "metadata": {},
   "outputs": [],
   "source": [
    "class MultiTask(threading.Thread):\n",
    "    def __init__(self, path, threadID, number):\n",
    "        threading.Thread.__init__(self)\n",
    "        self.path = path\n",
    "        self.threadID = threadID\n",
    "        self.number = number\n",
    "        self.numbers = []\n",
    "        self.res_sum = 0\n",
    "        self.res_count = 0\n",
    "        \n",
    "    # Overrided Method\n",
    "    def run(self):\n",
    "        print(f\"Starting {self.threadID}\")\n",
    "        self.res_sum = self.get_sum()\n",
    "        self.res_count = self.get_count(self.number)\n",
    "        print(f\"Sum = {self.res_sum} and Count = {self.res_count} of path {self.path}\")\n",
    "        \n",
    "    def get_sum(self):\n",
    "        with open(self.path) as file:\n",
    "            content = file.read()\n",
    "            content = preprocess(content)\n",
    "            lines = [s for s in content.splitlines() if s.strip()]\n",
    "            \n",
    "        self.numbers = [w2n.word_to_num(num) for num in lines]\n",
    "        \n",
    "        return sum(self.numbers)\n",
    "    \n",
    "    def get_count(self, number):\n",
    "        with open(self.path) as file:\n",
    "            content = file.read()\n",
    "            content = preprocess(content)\n",
    "            lines = [s for s in content.splitlines() if s.strip()]\n",
    "            \n",
    "        counts = [str(num).count(str(number)) for num in self.numbers]\n",
    "        \n",
    "        return sum(counts)"
   ]
  },
  {
   "cell_type": "code",
   "execution_count": 12,
   "id": "equipped-academy",
   "metadata": {
    "scrolled": true
   },
   "outputs": [
    {
     "name": "stdout",
     "output_type": "stream",
     "text": [
      "Starting 1\n",
      "Sum = 23746560 and Count = 215040 of path test/1.txt\n",
      "Thread 1 started at 1.68 second(s)\n",
      "Starting 2\n",
      "Sum = 15831040 and Count = 143360 of path test/2.txt\n",
      "Thread 2 started at 2.73 second(s)\n",
      "Starting 3\n",
      "Sum = 31662080 and Count = 286720 of path test/3.txt\n",
      "Thread 3 started at 4.92 second(s)\n",
      "Starting 4\n",
      "Sum = 31662080 and Count = 286720 of path test/4.txt\n",
      "Thread 4 started at 7.19 second(s)\n",
      "Starting 5\n",
      "Sum = 31662080 and Count = 286720 of path test/5.txt\n",
      "Thread 5 started at 9.53 second(s)\n",
      "Starting 6\n",
      "Sum = 7915520 and Count = 71680 of path test/6.txt\n",
      "Thread 6 started at 10.29 second(s)\n",
      "Starting 7\n",
      "Sum = 15831040 and Count = 143360 of path test/7.txt\n",
      "Thread 7 started at 12.13 second(s)\n",
      "Starting 8\n",
      "Sum = 15831040 and Count = 143360 of path test/8.txt\n",
      "Thread 8 started at 13.74 second(s)\n",
      "Starting 9\n",
      "Sum = 31662080 and Count = 286720 of path test/9.txt\n",
      "Thread 9 started at 16.57 second(s)\n",
      "Starting 10\n",
      "Sum = 15831040 and Count = 143360 of path test/10.txt\n",
      "Thread 10 started at 18.24 second(s)\n",
      "Total sum is = 221634560\n",
      "Total count is = 2007040\n",
      "Finished in 23.25 second(s)\n"
     ]
    }
   ],
   "source": [
    "start = time.perf_counter()\n",
    "results = {}\n",
    "total_sum = 0\n",
    "total_count = 0\n",
    "    \n",
    "for num in range(1,11):\n",
    "    path = f\"test/{num}.txt\"\n",
    "    \n",
    "    thread = MultiTask(path, num, 1)\n",
    "    thread.start()\n",
    "    thread.join()\n",
    "    results[path] = (thread.res_sum, thread.res_count)\n",
    "    finish = time.perf_counter()\n",
    "    print(f'Thread {num} started at {round(finish-start, 2)} second(s)')\n",
    "    \n",
    "thread.join()\n",
    "time.sleep(5)\n",
    "    \n",
    "sums = [val[0] for val in results.values()]\n",
    "counts = [val[1] for val in results.values()]\n",
    "\n",
    "print(f\"Total sum is = {sum(sums)}\")\n",
    "print(f\"Total count is = {sum(counts)}\")\n",
    "\n",
    "finish = time.perf_counter()\n",
    "\n",
    "print(f'Finished in {round(finish-start, 2)} second(s)')"
   ]
  },
  {
   "cell_type": "markdown",
   "id": "incorporated-reasoning",
   "metadata": {},
   "source": [
    "## Fourth way of multithreading"
   ]
  },
  {
   "cell_type": "code",
   "execution_count": 14,
   "id": "limiting-recognition",
   "metadata": {},
   "outputs": [],
   "source": [
    "def ThreadedTaskMap(*args):\n",
    "    t = Task(args[0])\n",
    "    s = t.get_sum()\n",
    "    c = t.get_count(1)\n",
    "    print(f\"Sum = {s} and Count = {c} of path {args[0]}\")\n",
    "    return (s,c)"
   ]
  },
  {
   "cell_type": "code",
   "execution_count": 15,
   "id": "worst-brief",
   "metadata": {},
   "outputs": [
    {
     "name": "stdout",
     "output_type": "stream",
     "text": [
      "Thread 1 started at 0.0 second(s)\n",
      "Thread 2 started at 0.07 second(s)\n",
      "Thread 3 started at 0.08 second(s)\n",
      "Thread 4 started at 0.29 second(s)\n",
      "Thread 5 started at 0.35 second(s)\n",
      "Thread 6 started at 0.47 second(s)\n",
      "Thread 7 started at 0.65 second(s)\n",
      "Thread 8 started at 0.77 second(s)\n",
      "Thread 9 started at 0.8 second(s)\n",
      "Thread 10 started at 0.97 second(s)\n",
      "Sum = 7915520 and Count = 71680 of path test/6.txt\n",
      "Sum = 15831040 and Count = 143360 of path test/2.txt\n",
      "Sum = 15831040 and Count = 143360 of path test/7.txt\n",
      "Sum = 15831040 and Count = 143360 of path test/8.txt\n",
      "Sum = 23746560 and Count = 215040 of path test/1.txt\n",
      "Sum = 31662080 and Count = 286720 of path test/5.txt\n",
      "Sum = 31662080 and Count = 286720 of path test/9.txt\n",
      "Sum = 15831040 and Count = 143360 of path test/10.txt\n",
      "Sum = 31662080 and Count = 286720 of path test/4.txt\n",
      "Sum = 31662080 and Count = 286720 of path test/3.txt\n",
      "Total sum is = 15831040\n",
      "Total count is = 143360\n",
      "Finished in 26.06 second(s)\n"
     ]
    }
   ],
   "source": [
    "start = time.perf_counter()\n",
    "results = []\n",
    "total_sum = 0\n",
    "total_count = 0\n",
    "    \n",
    "with concurrent.futures.ThreadPoolExecutor() as executor:\n",
    "    for num in range(1,11):\n",
    "        path = f\"test/{num}.txt\"\n",
    "        results = executor.map(ThreadedTaskMap, [path])\n",
    "        finish = time.perf_counter()\n",
    "        print(f'Thread {num} started at {round(finish-start, 2)} second(s)')\n",
    "        \n",
    "for result in results:\n",
    "    total_sum += result[0]\n",
    "    total_count += result[1]\n",
    "\n",
    "\n",
    "time.sleep(10)\n",
    "    \n",
    "print(f\"Total sum is = {total_sum}\")\n",
    "print(f\"Total count is = {total_count}\")\n",
    "\n",
    "finish = time.perf_counter()\n",
    "\n",
    "print(f'Finished in {round(finish-start, 2)} second(s)')"
   ]
  },
  {
   "cell_type": "markdown",
   "id": "historic-antique",
   "metadata": {},
   "source": [
    "# Multiprocessing"
   ]
  },
  {
   "cell_type": "markdown",
   "id": "helpful-humidity",
   "metadata": {},
   "source": [
    "## One way to use multiprocessing"
   ]
  },
  {
   "cell_type": "code",
   "execution_count": 14,
   "id": "passive-violence",
   "metadata": {},
   "outputs": [],
   "source": [
    "def ProcessedTaskFunc(path):\n",
    "    t = Task(path)\n",
    "    s = t.get_sum()\n",
    "    c = t.get_count(1)\n",
    "    print(f\"Sum = {s} and Count = {c} of path {path}\")\n",
    "    return (s,c)"
   ]
  },
  {
   "cell_type": "code",
   "execution_count": 15,
   "id": "neutral-press",
   "metadata": {},
   "outputs": [
    {
     "name": "stdout",
     "output_type": "stream",
     "text": [
      "Process 1 started at 0.04 second(s)\n",
      "Process 2 started at 0.04 second(s)\n",
      "Process 3 started at 0.04 second(s)\n",
      "Process 4 started at 0.04 second(s)\n",
      "Process 5 started at 0.04 second(s)\n",
      "Process 6 started at 0.05 second(s)\n",
      "Process 7 started at 0.05 second(s)\n",
      "Process 8 started at 0.05 second(s)\n",
      "Process 9 started at 0.05 second(s)\n",
      "Process 10 started at 0.05 second(s)\n",
      "Sum = 15831040 and Count = 143360 of path test/2.txt\n",
      "Sum = 23746560 and Count = 215040 of path test/1.txt\n",
      "Sum = 31662080 and Count = 286720 of path test/4.txt\n",
      "Sum = 31662080 and Count = 286720 of path test/3.txt\n",
      "Sum = 7915520 and Count = 71680 of path test/6.txt\n",
      "Sum = 15831040 and Count = 143360 of path test/8.txt\n",
      "Sum = 15831040 and Count = 143360 of path test/7.txt\n",
      "Sum = 31662080 and Count = 286720 of path test/5.txt\n",
      "Sum = 15831040 and Count = 143360 of path test/10.txt\n",
      "Sum = 31662080 and Count = 286720 of path test/9.txt\n",
      "Total sum is = 221634560\n",
      "Total count is = 2007040\n",
      "Finished in 17.91 second(s)\n"
     ]
    }
   ],
   "source": [
    "start = time.perf_counter()\n",
    "results = []\n",
    "total_sum = 0\n",
    "total_count = 0\n",
    "    \n",
    "with concurrent.futures.ProcessPoolExecutor() as executor:\n",
    "    for num in range(1,11):\n",
    "        path = f\"test/{num}.txt\"\n",
    "        results.append(executor.submit(ProcessedTaskFunc, path))\n",
    "        finish = time.perf_counter()\n",
    "        print(f'Process {num} started at {round(finish-start, 2)} second(s)')\n",
    "        \n",
    "for job in futures.as_completed(results):\n",
    "    result = job.result()\n",
    "    total_sum += result[0]\n",
    "    total_count += result[1]\n",
    "\n",
    "\n",
    "time.sleep(10)\n",
    "    \n",
    "print(f\"Total sum is = {total_sum}\")\n",
    "print(f\"Total count is = {total_count}\")\n",
    "\n",
    "finish = time.perf_counter()\n",
    "\n",
    "print(f'Finished in {round(finish-start, 2)} second(s)')"
   ]
  },
  {
   "cell_type": "markdown",
   "id": "irish-organizer",
   "metadata": {},
   "source": [
    "## Second way to use multiprocessing"
   ]
  },
  {
   "cell_type": "code",
   "execution_count": 8,
   "id": "critical-toolbox",
   "metadata": {},
   "outputs": [],
   "source": [
    "def ProcessedTaskMap(*args):\n",
    "    t = Task(args[0])\n",
    "    s = t.get_sum()\n",
    "    c = t.get_count(1)\n",
    "    print(f\"Sum = {s} and Count = {c} of path {args[0]}\")\n",
    "    return (s,c)"
   ]
  },
  {
   "cell_type": "code",
   "execution_count": 9,
   "id": "polyphonic-gates",
   "metadata": {},
   "outputs": [
    {
     "name": "stdout",
     "output_type": "stream",
     "text": [
      "Process 1 started at 0.04 second(s)\n",
      "Process 2 started at 0.04 second(s)\n",
      "Process 3 started at 0.04 second(s)\n",
      "Process 4 started at 0.04 second(s)\n",
      "Process 5 started at 0.04 second(s)\n",
      "Process 6 started at 0.04 second(s)\n",
      "Process 7 started at 0.04 second(s)\n",
      "Process 8 started at 0.04 second(s)\n",
      "Process 9 started at 0.04 second(s)\n",
      "Process 10 started at 0.04 second(s)\n",
      "Sum = 15831040 and Count = 143360 of path test/2.txt\n",
      "Sum = 23746560 and Count = 215040 of path test/1.txt\n",
      "Sum = 31662080 and Count = 286720 of path test/3.txt\n",
      "Sum = 31662080 and Count = 286720 of path test/4.txt\n",
      "Sum = 7915520 and Count = 71680 of path test/6.txt\n",
      "Sum = 15831040 and Count = 143360 of path test/7.txt\n",
      "Sum = 15831040 and Count = 143360 of path test/8.txt\n",
      "Sum = 31662080 and Count = 286720 of path test/5.txt\n",
      "Sum = 15831040 and Count = 143360 of path test/10.txt\n",
      "Sum = 31662080 and Count = 286720 of path test/9.txt\n",
      "Total sum is = 15831040\n",
      "Total count is = 143360\n",
      "Finished in 18.08 second(s)\n"
     ]
    }
   ],
   "source": [
    "start = time.perf_counter()\n",
    "results = []\n",
    "total_sum = 0\n",
    "total_count = 0\n",
    "    \n",
    "with concurrent.futures.ProcessPoolExecutor() as executor:\n",
    "    for num in range(1,11):\n",
    "        path = f\"test/{num}.txt\"\n",
    "        results = executor.map(ProcessedTaskMap, [path])\n",
    "        finish = time.perf_counter()\n",
    "        print(f'Process {num} started at {round(finish-start, 2)} second(s)')\n",
    "        \n",
    "for result in results:\n",
    "    total_sum += result[0]\n",
    "    total_count += result[1]\n",
    "\n",
    "\n",
    "time.sleep(10)\n",
    "    \n",
    "print(f\"Total sum is = {total_sum}\")\n",
    "print(f\"Total count is = {total_count}\")\n",
    "\n",
    "finish = time.perf_counter()\n",
    "\n",
    "print(f'Finished in {round(finish-start, 2)} second(s)')"
   ]
  },
  {
   "cell_type": "markdown",
   "id": "plastic-egypt",
   "metadata": {},
   "source": [
    "## Third way to use multiprocessing"
   ]
  },
  {
   "cell_type": "code",
   "execution_count": 2,
   "id": "brazilian-permission",
   "metadata": {},
   "outputs": [],
   "source": [
    "from multiprocessing import Pool"
   ]
  },
  {
   "cell_type": "code",
   "execution_count": 3,
   "id": "pharmaceutical-reduction",
   "metadata": {},
   "outputs": [
    {
     "name": "stdout",
     "output_type": "stream",
     "text": [
      "[1, 4, 9]\n"
     ]
    }
   ],
   "source": [
    "def f(x):\n",
    "    return x*x\n",
    "\n",
    "if __name__ == '__main__':\n",
    "    with Pool(5) as p:\n",
    "        print(p.map(f, [1, 2, 3]))"
   ]
  },
  {
   "cell_type": "code",
   "execution_count": null,
   "id": "starting-spring",
   "metadata": {},
   "outputs": [],
   "source": []
  }
 ],
 "metadata": {
  "kernelspec": {
   "display_name": "Python 3",
   "language": "python",
   "name": "python3"
  },
  "language_info": {
   "codemirror_mode": {
    "name": "ipython",
    "version": 3
   },
   "file_extension": ".py",
   "mimetype": "text/x-python",
   "name": "python",
   "nbconvert_exporter": "python",
   "pygments_lexer": "ipython3",
   "version": "3.8.8"
  }
 },
 "nbformat": 4,
 "nbformat_minor": 5
}
