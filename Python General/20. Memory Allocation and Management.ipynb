{
 "cells": [
  {
   "cell_type": "code",
   "execution_count": 6,
   "metadata": {},
   "outputs": [
    {
     "name": "stdout",
     "output_type": "stream",
     "text": [
      "<class 'int'>\n",
      "1788982624\n"
     ]
    }
   ],
   "source": [
    "x = 10\n",
    "# Everything is object in python\n",
    "print(type(x))\n",
    "print(id(x))"
   ]
  },
  {
   "cell_type": "code",
   "execution_count": 2,
   "metadata": {},
   "outputs": [
    {
     "name": "stdout",
     "output_type": "stream",
     "text": [
      "1788982624\n"
     ]
    }
   ],
   "source": [
    "y = x\n",
    "print(id(y))"
   ]
  },
  {
   "cell_type": "code",
   "execution_count": 3,
   "metadata": {},
   "outputs": [
    {
     "name": "stdout",
     "output_type": "stream",
     "text": [
      "x and y do not refer to same location\n"
     ]
    }
   ],
   "source": [
    "x = x + 1\n",
    "if(id(x) == id(y)):\n",
    "    print(\"x and y refer to same location\")\n",
    "else: \n",
    "    print(\"x and y do not refer to same location\")"
   ]
  },
  {
   "cell_type": "code",
   "execution_count": 5,
   "metadata": {},
   "outputs": [
    {
     "name": "stdout",
     "output_type": "stream",
     "text": [
      "z and y refer to same location\n"
     ]
    }
   ],
   "source": [
    "z = 10\n",
    "if(id(z) == id(y)):\n",
    "    print(\"z and y refer to same location\")\n",
    "else: \n",
    "    print(\"z and y do not refer to same location\")\n",
    "    \n",
    "# This is bacause python finds same value in memory."
   ]
  },
  {
   "cell_type": "code",
   "execution_count": null,
   "metadata": {},
   "outputs": [],
   "source": [
    "# Functions and references are created in Stack Memory while values and objects are stored in Heap Memory\n",
    "# Same variables in two different functions do not overwrite eachother values in Heap Memory\n",
    "# Objects which do not have any reference are called \"Dead Objects\"\n",
    "# Garbage Collector in python runs as soon as dead object show up in memory\n",
    "# The algorithm used for Garbage Collector is called \"Reference Counting\"\n",
    "# For statement (x = x + 1), if x = 10 before, x starts refering to a new object whose value in 11\n",
    "# for x = 10 and y = 10, both refers to the same object.\n",
    "# \"del\" does not delete the object, it just dereferences it.\n",
    "\n",
    "# Python has in-built garbage collector it will delete the object as soon as reference count \n",
    "# (strong and weak references) to the object becomes zero."
   ]
  }
 ],
 "metadata": {
  "kernelspec": {
   "display_name": "Python 3",
   "language": "python",
   "name": "python3"
  },
  "language_info": {
   "codemirror_mode": {
    "name": "ipython",
    "version": 3
   },
   "file_extension": ".py",
   "mimetype": "text/x-python",
   "name": "python",
   "nbconvert_exporter": "python",
   "pygments_lexer": "ipython3",
   "version": "3.6.1"
  }
 },
 "nbformat": 4,
 "nbformat_minor": 2
}
