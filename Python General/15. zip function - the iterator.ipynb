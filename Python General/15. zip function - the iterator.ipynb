{
 "cells": [
  {
   "cell_type": "code",
   "execution_count": 3,
   "metadata": {},
   "outputs": [
    {
     "data": {
      "text/plain": [
       "[('A', 1), ('B', 2), ('C', 3)]"
      ]
     },
     "execution_count": 3,
     "metadata": {},
     "output_type": "execute_result"
    }
   ],
   "source": [
    "a = [\"A\", \"B\", \"C\"]\n",
    "b = [1,2,3]\n",
    "\n",
    "list(zip(a,b))"
   ]
  },
  {
   "cell_type": "code",
   "execution_count": 4,
   "metadata": {},
   "outputs": [
    {
     "name": "stdout",
     "output_type": "stream",
     "text": [
      "('A', 1)\n",
      "('B', 2)\n",
      "('C', 3)\n"
     ]
    }
   ],
   "source": [
    "for item in zip(a,b):\n",
    "    print(item)"
   ]
  },
  {
   "cell_type": "code",
   "execution_count": 6,
   "metadata": {},
   "outputs": [
    {
     "name": "stdout",
     "output_type": "stream",
     "text": [
      "A  -  1\n",
      "B  -  2\n",
      "C  -  3\n"
     ]
    }
   ],
   "source": [
    "for item in zip(a,b):\n",
    "    print(item[0],\" - \",item[1])"
   ]
  },
  {
   "cell_type": "code",
   "execution_count": 8,
   "metadata": {},
   "outputs": [
    {
     "data": {
      "text/plain": [
       "[('A', 1), ('B', 2), ('C', 3)]"
      ]
     },
     "execution_count": 8,
     "metadata": {},
     "output_type": "execute_result"
    }
   ],
   "source": [
    "a = [\"A\", \"B\", \"C\", \"D\", \"E\"]\n",
    "b = [1,2,3]\n",
    "list(zip(a,b)) # Problem"
   ]
  },
  {
   "cell_type": "code",
   "execution_count": 13,
   "metadata": {},
   "outputs": [
    {
     "data": {
      "text/plain": [
       "[('A', 1), ('B', 2), ('C', 3), ('D', None), ('E', None)]"
      ]
     },
     "execution_count": 13,
     "metadata": {},
     "output_type": "execute_result"
    }
   ],
   "source": [
    "import itertools\n",
    "\n",
    "list(itertools.zip_longest(a,b)) #Solution"
   ]
  },
  {
   "cell_type": "code",
   "execution_count": 17,
   "metadata": {},
   "outputs": [
    {
     "data": {
      "text/plain": [
       "[('A', 1), ('B', 2), ('C', 3), ('D', 0), ('E', 0)]"
      ]
     },
     "execution_count": 17,
     "metadata": {},
     "output_type": "execute_result"
    }
   ],
   "source": [
    "list(itertools.zip_longest(a,b, fillvalue=0)) # Filling None with 0"
   ]
  },
  {
   "cell_type": "code",
   "execution_count": 18,
   "metadata": {},
   "outputs": [],
   "source": [
    "# For 2-D arrays or matrix\n",
    "a = [\n",
    "     [3, 4, 2],\n",
    "     [7, 8, 9, 10, 4, 11, 12, 13, 2],\n",
    "     [16, 4, 2],\n",
    "     [32, 33, 4, 4, 4, 2],\n",
    "     [34, 35, 36, 37, 7, 38, 39, 40, 4, 2],\n",
    "     [45, 7, 46, 39, 44, 47, 6, 2],\n",
    "     [48, 49, 50, 6, 2],\n",
    "     [56, 2],\n",
    "     [59, 60, 6, 2],\n",
    "     [63, 45, 39, 64, 2]\n",
    "    ]"
   ]
  },
  {
   "cell_type": "code",
   "execution_count": 22,
   "metadata": {},
   "outputs": [
    {
     "data": {
      "text/plain": [
       "[(3, 7, 16, 32, 34, 45, 48, 56, 59, 63),\n",
       " (4, 8, 4, 33, 35, 7, 49, 2, 60, 45),\n",
       " (2, 9, 2, 4, 36, 46, 50, None, 6, 39),\n",
       " (None, 10, None, 4, 37, 39, 6, None, 2, 64),\n",
       " (None, 4, None, 4, 7, 44, 2, None, None, 2),\n",
       " (None, 11, None, 2, 38, 47, None, None, None, None),\n",
       " (None, 12, None, None, 39, 6, None, None, None, None),\n",
       " (None, 13, None, None, 40, 2, None, None, None, None),\n",
       " (None, 2, None, None, 4, None, None, None, None, None),\n",
       " (None, None, None, None, 2, None, None, None, None, None)]"
      ]
     },
     "execution_count": 22,
     "metadata": {},
     "output_type": "execute_result"
    }
   ],
   "source": [
    "list(itertools.zip_longest(*a))"
   ]
  },
  {
   "cell_type": "code",
   "execution_count": 23,
   "metadata": {},
   "outputs": [
    {
     "data": {
      "text/plain": [
       "[(3, 7, 16, 32, 34, 45, 48, 56, 59, 63),\n",
       " (4, 8, 4, 33, 35, 7, 49, 2, 60, 45),\n",
       " (2, 9, 2, 4, 36, 46, 50, 0, 6, 39),\n",
       " (0, 10, 0, 4, 37, 39, 6, 0, 2, 64),\n",
       " (0, 4, 0, 4, 7, 44, 2, 0, 0, 2),\n",
       " (0, 11, 0, 2, 38, 47, 0, 0, 0, 0),\n",
       " (0, 12, 0, 0, 39, 6, 0, 0, 0, 0),\n",
       " (0, 13, 0, 0, 40, 2, 0, 0, 0, 0),\n",
       " (0, 2, 0, 0, 4, 0, 0, 0, 0, 0),\n",
       " (0, 0, 0, 0, 2, 0, 0, 0, 0, 0)]"
      ]
     },
     "execution_count": 23,
     "metadata": {},
     "output_type": "execute_result"
    }
   ],
   "source": [
    "list(itertools.zip_longest(*a, fillvalue=0))"
   ]
  },
  {
   "cell_type": "code",
   "execution_count": null,
   "metadata": {},
   "outputs": [],
   "source": []
  }
 ],
 "metadata": {
  "kernelspec": {
   "display_name": "Python 3",
   "language": "python",
   "name": "python3"
  },
  "language_info": {
   "codemirror_mode": {
    "name": "ipython",
    "version": 3
   },
   "file_extension": ".py",
   "mimetype": "text/x-python",
   "name": "python",
   "nbconvert_exporter": "python",
   "pygments_lexer": "ipython3",
   "version": "3.6.1"
  }
 },
 "nbformat": 4,
 "nbformat_minor": 2
}
