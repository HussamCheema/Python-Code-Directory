{
 "cells": [
  {
   "cell_type": "markdown",
   "metadata": {},
   "source": [
    "#### mode can be 'r' when the file will only be read, 'w' for only writing (an existing file with the same name will be erased), and 'a' opens the file for appending; any data written to the file is automatically added to the end. 'r+' opens the file for both reading and writing. The mode argument is optional; 'r' will be assumed if it’s omitted."
   ]
  },
  {
   "cell_type": "code",
   "execution_count": 6,
   "metadata": {},
   "outputs": [
    {
     "data": {
      "text/plain": [
       "13"
      ]
     },
     "execution_count": 6,
     "metadata": {},
     "output_type": "execute_result"
    }
   ],
   "source": [
    "f = open('workfile.txt', 'w')\n",
    "f.write(\"Hello World!!\")"
   ]
  },
  {
   "cell_type": "code",
   "execution_count": 11,
   "metadata": {},
   "outputs": [
    {
     "name": "stdout",
     "output_type": "stream",
     "text": [
      "Pakistan[b] (Urdu: ??????????), officially the Islamic Republic of Pakistan (Urdu: ??????? ??????? ??????????), is a country in South Asia. It is the world’s sixth-most populous country with a population exceeding 212,742,631 people.[19] In area, it is the 33rd-largest country, spanning 881,913 square kilometres (340,509 square miles). Pakistan has a 1,046-kilometre (650-mile) coastline along the Arabian Sea and Gulf of Oman in the south and is bordered by India to the east, Afghanistan to the west, Iran to the southwest, and China in the far northeast. It is separated narrowly from Tajikistan by Afghanistan's Wakhan Corridor in the northwest, and also shares a maritime border with Oman.\n",
      "\n",
      "The territory that now constitutes Pakistan was the site of several ancient cultures and intertwined with the history of the broader Indian subcontinent. The ancient history involves the Neolithic site of Mehrgarh and the Bronze Age Indus Valley Civilisation, and was later home to kingdoms ruled by people of different faiths and cultures, including Hindus, Indo-Greeks, Muslims, Turco-Mongols, Afghans and Sikhs. The area has been ruled by numerous empires and dynasties, including the Persian Achaemenid Empire, Alexander III of Macedon, the Seleucid Empire, the Indian Maurya Empire, the Gupta Empire,[26] the Arab Umayyad Caliphate, the Delhi Sultanate, the Mongol Empire, the Mughal Empire, the Afghan Durrani Empire, the Sikh Empire (partially) and, most recently, the British Empire.[27][28] Pakistan is the only country to have been created in the name of Islam.[27][28] It is an ethnically and linguistically diverse country, with a similarly diverse geography and wildlife. Initially a dominion, Pakistan adopted a constitution in 1956, becoming an Islamic republic. An ethnic civil war and Indian military intervention in 1971 resulted in the secession of East Pakistan as the new country of Bangladesh.[29] In 1973, Pakistan adopted a new constitution which stipulated that all laws are to conform to the injunctions of Islam as laid down in the Quran and Sunnah.[30]\n"
     ]
    }
   ],
   "source": [
    "with open('workfile.txt') as f:\n",
    "     read_data = f.read()\n",
    "     print(read_data)"
   ]
  },
  {
   "cell_type": "markdown",
   "metadata": {},
   "source": [
    "#### It is good practice to use the with keyword when dealing with file objects. The advantage is that the file is properly closed after its suite finishes, even if an exception is raised at some point. Using with is also much shorter than writing equivalent try-finally blocks"
   ]
  },
  {
   "cell_type": "markdown",
   "metadata": {},
   "source": [
    "#### If you’re not using the with keyword, then you should call f.close() to close the file and immediately free up any system resources used by it. If you don’t explicitly close a file, Python’s garbage collector will eventually destroy the object and close the open file for you, but the file may stay open for a while. Another risk is that different Python implementations will do this clean-up at different times. After a file object is closed, either by a with statement or by calling f.close(), attempts to use the file object will automatically fail."
   ]
  }
 ],
 "metadata": {
  "kernelspec": {
   "display_name": "Python 3",
   "language": "python",
   "name": "python3"
  },
  "language_info": {
   "codemirror_mode": {
    "name": "ipython",
    "version": 3
   },
   "file_extension": ".py",
   "mimetype": "text/x-python",
   "name": "python",
   "nbconvert_exporter": "python",
   "pygments_lexer": "ipython3",
   "version": "3.6.5"
  }
 },
 "nbformat": 4,
 "nbformat_minor": 2
}
