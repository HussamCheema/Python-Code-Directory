{
 "cells": [
  {
   "cell_type": "code",
   "execution_count": 3,
   "metadata": {},
   "outputs": [],
   "source": [
    "names = [\"Hussam\", \"Haseeb\", \"Saad\", \"Bahzad\"]\n",
    "heroes = [\"Imran Khan\", \"Nawaz Sharif\", \"Bilawal Bhutto\", \"Shehbaz Sharif\"]"
   ]
  },
  {
   "cell_type": "code",
   "execution_count": 5,
   "metadata": {},
   "outputs": [
    {
     "name": "stdout",
     "output_type": "stream",
     "text": [
      "Hussam is inspired by Imran Khan\n",
      "Haseeb is inspired by Nawaz Sharif\n",
      "Saad is inspired by Bilawal Bhutto\n",
      "Bahzad is inspired by Modi\n"
     ]
    }
   ],
   "source": [
    "for name, hero in zip(names, heroes):\n",
    "    print(f'{name} is inspired by {hero}')"
   ]
  },
  {
   "cell_type": "code",
   "execution_count": 6,
   "metadata": {},
   "outputs": [
    {
     "name": "stdout",
     "output_type": "stream",
     "text": [
      "Hussam is inspired by Imran Khan\n",
      "Haseeb is inspired by Nawaz Sharif\n",
      "Saad is inspired by Bilawal Bhutto\n",
      "Bahzad is inspired by Modi\n"
     ]
    }
   ],
   "source": [
    "for values in zip(names, heroes):\n",
    "    print(f'{values[0]} is inspired by {values[1]}')"
   ]
  },
  {
   "cell_type": "code",
   "execution_count": null,
   "metadata": {},
   "outputs": [],
   "source": []
  }
 ],
 "metadata": {
  "kernelspec": {
   "display_name": "Python 3",
   "language": "python",
   "name": "python3"
  },
  "language_info": {
   "codemirror_mode": {
    "name": "ipython",
    "version": 3
   },
   "file_extension": ".py",
   "mimetype": "text/x-python",
   "name": "python",
   "nbconvert_exporter": "python",
   "pygments_lexer": "ipython3",
   "version": "3.6.1"
  }
 },
 "nbformat": 4,
 "nbformat_minor": 2
}
