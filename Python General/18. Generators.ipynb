{
 "cells": [
  {
   "cell_type": "code",
   "execution_count": 1,
   "metadata": {},
   "outputs": [],
   "source": [
    "def Square(myNums):\n",
    "    for i in myNums:\n",
    "        yield(i*i)"
   ]
  },
  {
   "cell_type": "code",
   "execution_count": 2,
   "metadata": {},
   "outputs": [],
   "source": [
    "my_nums = Square([1,2,3,4,5])"
   ]
  },
  {
   "cell_type": "code",
   "execution_count": 3,
   "metadata": {},
   "outputs": [
    {
     "name": "stdout",
     "output_type": "stream",
     "text": [
      "1\n",
      "4\n",
      "9\n",
      "16\n",
      "25\n"
     ]
    }
   ],
   "source": [
    "for x in my_nums:\n",
    "    print(x)"
   ]
  },
  {
   "cell_type": "code",
   "execution_count": 12,
   "metadata": {},
   "outputs": [
    {
     "name": "stdout",
     "output_type": "stream",
     "text": [
      "[1, 4, 9, 16, 25]\n",
      "1\n",
      "4\n",
      "9\n",
      "16\n",
      "25\n"
     ]
    }
   ],
   "source": [
    "# This can be write as a List Comprehension but in parentheses\n",
    "# 17. List Comprehension\n",
    "\n",
    "#This is List Comprehension, not Generator\n",
    "my_nums2 = [x*x for x in [1,2,3,4,5]]\n",
    "\n",
    "print(my_nums2)\n",
    "\n",
    "for x in my_nums2:\n",
    "    print(x)"
   ]
  },
  {
   "cell_type": "code",
   "execution_count": 18,
   "metadata": {},
   "outputs": [
    {
     "name": "stdout",
     "output_type": "stream",
     "text": [
      "<generator object <genexpr> at 0x0000021927D59DB0>\n",
      "1\n",
      "4\n",
      "9\n",
      "16\n",
      "25\n",
      "[]\n"
     ]
    }
   ],
   "source": [
    "# This is generator\n",
    "my_nums3 = (x*x for x in [1,2,3,4,5])\n",
    "\n",
    "print(my_nums3)\n",
    "\n",
    "for x in my_nums3:\n",
    "    print(x)\n",
    "    \n",
    "# Convert my_nums3 into a list\n",
    "print(list(my_nums3)) # list is empty after iteration"
   ]
  },
  {
   "cell_type": "code",
   "execution_count": 17,
   "metadata": {},
   "outputs": [
    {
     "name": "stdout",
     "output_type": "stream",
     "text": [
      "[1, 4, 9, 16, 25]\n"
     ]
    }
   ],
   "source": [
    "# This is generator\n",
    "my_nums3 = (x*x for x in [1,2,3,4,5])\n",
    "\n",
    "# Convert my_nums3 into a list\n",
    "print(list(my_nums3)) # Stores all values in memory"
   ]
  },
  {
   "cell_type": "code",
   "execution_count": null,
   "metadata": {},
   "outputs": [],
   "source": []
  }
 ],
 "metadata": {
  "kernelspec": {
   "display_name": "Python 3",
   "language": "python",
   "name": "python3"
  },
  "language_info": {
   "codemirror_mode": {
    "name": "ipython",
    "version": 3
   },
   "file_extension": ".py",
   "mimetype": "text/x-python",
   "name": "python",
   "nbconvert_exporter": "python",
   "pygments_lexer": "ipython3",
   "version": "3.6.1"
  }
 },
 "nbformat": 4,
 "nbformat_minor": 2
}
