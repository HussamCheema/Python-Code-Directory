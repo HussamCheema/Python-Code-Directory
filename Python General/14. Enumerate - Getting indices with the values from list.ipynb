{
 "cells": [
  {
   "cell_type": "code",
   "execution_count": 1,
   "metadata": {},
   "outputs": [
    {
     "name": "stdout",
     "output_type": "stream",
     "text": [
      "0 Apple\n",
      "1 Banana\n",
      "2 Grapes\n",
      "3 Orange\n",
      "4 Guava\n",
      "5 Pine Apple\n",
      "6 Mango\n"
     ]
    }
   ],
   "source": [
    "data = [\"Apple\",\"Banana\",\"Grapes\",\"Orange\",\"Guava\",\"Pine Apple\",\"Mango\"]\n",
    "\n",
    "for index, value in enumerate(data):\n",
    "    print(index,value)"
   ]
  },
  {
   "cell_type": "code",
   "execution_count": null,
   "metadata": {},
   "outputs": [],
   "source": []
  }
 ],
 "metadata": {
  "kernelspec": {
   "display_name": "Python 3",
   "language": "python",
   "name": "python3"
  },
  "language_info": {
   "codemirror_mode": {
    "name": "ipython",
    "version": 3
   },
   "file_extension": ".py",
   "mimetype": "text/x-python",
   "name": "python",
   "nbconvert_exporter": "python",
   "pygments_lexer": "ipython3",
   "version": "3.6.1"
  }
 },
 "nbformat": 4,
 "nbformat_minor": 2
}
