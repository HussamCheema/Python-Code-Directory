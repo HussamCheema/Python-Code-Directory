{
 "cells": [
  {
   "cell_type": "markdown",
   "metadata": {},
   "source": [
    "### Identifiers:\n",
    "#### \\ used to escape a character\n",
    "#### \\d any number\n",
    "#### \\D anything but a number\n",
    "#### \\s space\n",
    "#### \\S anything but a space\n",
    "#### \\w any character\n",
    "#### \\W anything but a character\n",
    "#### . any character except a new line\n",
    "#### \\. actually a period\n",
    "#### \\b whitespace around words\n"
   ]
  },
  {
   "cell_type": "markdown",
   "metadata": {},
   "source": [
    "### Modifiers:\n",
    "#### {1,3} we're expecting 1-3\n",
    "#### + Match 1 or more\n",
    "#### ? Match 0 or 1\n",
    "#### * Match 0 or more\n",
    "#### (dollar_sign) match the end of a string\n",
    "#### ^ match the beginning of a string\n",
    "#### | matches either or e.g. \\d{1-3}|\\w{5-6}\n",
    "#### [] Match range or \"variance\" e.g. [A-Za-z] or [1-5a-qA-Z]\n",
    "#### {x} expecting \"x\" amount\n",
    "\n"
   ]
  },
  {
   "cell_type": "markdown",
   "metadata": {},
   "source": [
    "### White Space Characters:\n",
    "#### \\n new line\n",
    "#### \\s space\n",
    "#### \\t tab\n",
    "#### \\e escape (rare)\n",
    "#### \\f form feed (rare)\n",
    "#### \\r return\n",
    "\n",
    "### DON'T FORGET!: To use them, you need to escape them\n",
    "#### . + * ? [ ] dollar_sign ^ ( ) { } \\ |"
   ]
  },
  {
   "cell_type": "code",
   "execution_count": 3,
   "metadata": {},
   "outputs": [
    {
     "name": "stdout",
     "output_type": "stream",
     "text": [
      "{'Jessica': '15', 'Danial': '25', 'Edward': '97', 'Oscar': '102'}\n"
     ]
    }
   ],
   "source": [
    "#Pull out names and ages from example string.\n",
    "\n",
    "import re\n",
    "\n",
    "example = '''\n",
    "Jessica is 15 year old, and Danial is 25 year old.\n",
    "Edward is 97, and his grand father, Oscar, is 102.\n",
    "'''\n",
    "\n",
    "# r for regular expression\n",
    "ages = re.findall(r'\\d{1,3}', example)\n",
    "names = re.findall(r'[A-Z][a-z]*', example)\n",
    "\n",
    "dict = {}\n",
    "x = 0\n",
    "for name in names:\n",
    "    dict[name] = ages[x]\n",
    "    x+=1\n",
    "    \n",
    "print(dict)\n",
    "\n"
   ]
  },
  {
   "cell_type": "code",
   "execution_count": null,
   "metadata": {},
   "outputs": [],
   "source": []
  }
 ],
 "metadata": {
  "kernelspec": {
   "display_name": "Python 3",
   "language": "python",
   "name": "python3"
  },
  "language_info": {
   "codemirror_mode": {
    "name": "ipython",
    "version": 3
   },
   "file_extension": ".py",
   "mimetype": "text/x-python",
   "name": "python",
   "nbconvert_exporter": "python",
   "pygments_lexer": "ipython3",
   "version": "3.6.5"
  }
 },
 "nbformat": 4,
 "nbformat_minor": 2
}
